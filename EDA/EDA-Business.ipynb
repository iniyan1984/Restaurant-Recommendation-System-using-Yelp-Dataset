{
 "cells": [
  {
   "cell_type": "code",
   "execution_count": 2,
   "metadata": {},
   "outputs": [],
   "source": [
    "import seaborn as sns \n",
    "import pandas as pd\n",
    "import matplotlib.pyplot as plt\n",
    "import json,os\n",
    "import numpy as np\n",
    "import plotly.express as px\n",
    "import plotly.graph_objects as go\n",
    "\n",
    "os.chdir(\"D:\\CSP 571\\yelp data\")\n",
    "business = pd.read_json('business.json', lines=True)"
   ]
  },
  {
   "cell_type": "markdown",
   "metadata": {},
   "source": [
    "### First we will chek the columns of the business data"
   ]
  },
  {
   "cell_type": "code",
   "execution_count": 3,
   "metadata": {},
   "outputs": [
    {
     "data": {
      "text/plain": [
       "Index(['business_id', 'name', 'address', 'city', 'state', 'postal_code',\n",
       "       'latitude', 'longitude', 'stars', 'review_count', 'is_open',\n",
       "       'attributes', 'categories', 'hours'],\n",
       "      dtype='object')"
      ]
     },
     "execution_count": 3,
     "metadata": {},
     "output_type": "execute_result"
    }
   ],
   "source": [
    "business.columns"
   ]
  },
  {
   "cell_type": "code",
   "execution_count": 4,
   "metadata": {},
   "outputs": [
    {
     "data": {
      "text/plain": [
       "0                                         Golf, Active Life\n",
       "1         Specialty Food, Restaurants, Dim Sum, Imported...\n",
       "2                         Sushi Bars, Restaurants, Japanese\n",
       "3                             Insurance, Financial Services\n",
       "4         Plumbing, Shopping, Local Services, Home Servi...\n",
       "                                ...                        \n",
       "192604    Water Purification Services, Water Heater Inst...\n",
       "192605                 Books, Mags, Music & Video, Shopping\n",
       "192606    Home Services, Contractors, Landscaping, Mason...\n",
       "192607                               Beauty & Spas, Barbers\n",
       "192608                               Massage, Beauty & Spas\n",
       "Name: categories, Length: 192609, dtype: object"
      ]
     },
     "execution_count": 4,
     "metadata": {},
     "output_type": "execute_result"
    }
   ],
   "source": [
    "business.categories"
   ]
  },
  {
   "cell_type": "markdown",
   "metadata": {},
   "source": [
    "### Business data consists of information based on a lot of categories such as Golf, Insurance, etc. but a single business can be categorized in multiple ways. Therefore, we shall split the categories in the \"Category\" column"
   ]
  },
  {
   "cell_type": "code",
   "execution_count": 5,
   "metadata": {},
   "outputs": [],
   "source": [
    "business = business.assign(categories = business.categories.str.split(', ')).explode('categories')\n",
    "cat = business.categories.value_counts()"
   ]
  },
  {
   "cell_type": "code",
   "execution_count": 6,
   "metadata": {},
   "outputs": [],
   "source": [
    "cat = cat.to_frame().reset_index()"
   ]
  },
  {
   "cell_type": "code",
   "execution_count": 7,
   "metadata": {},
   "outputs": [
    {
     "data": {
      "text/html": [
       "<div>\n",
       "<style scoped>\n",
       "    .dataframe tbody tr th:only-of-type {\n",
       "        vertical-align: middle;\n",
       "    }\n",
       "\n",
       "    .dataframe tbody tr th {\n",
       "        vertical-align: top;\n",
       "    }\n",
       "\n",
       "    .dataframe thead th {\n",
       "        text-align: right;\n",
       "    }\n",
       "</style>\n",
       "<table border=\"1\" class=\"dataframe\">\n",
       "  <thead>\n",
       "    <tr style=\"text-align: right;\">\n",
       "      <th></th>\n",
       "      <th>Categories</th>\n",
       "      <th>Count</th>\n",
       "    </tr>\n",
       "  </thead>\n",
       "  <tbody>\n",
       "    <tr>\n",
       "      <td>0</td>\n",
       "      <td>Restaurants</td>\n",
       "      <td>59371</td>\n",
       "    </tr>\n",
       "    <tr>\n",
       "      <td>1</td>\n",
       "      <td>Shopping</td>\n",
       "      <td>31878</td>\n",
       "    </tr>\n",
       "    <tr>\n",
       "      <td>2</td>\n",
       "      <td>Food</td>\n",
       "      <td>29989</td>\n",
       "    </tr>\n",
       "    <tr>\n",
       "      <td>3</td>\n",
       "      <td>Home Services</td>\n",
       "      <td>19729</td>\n",
       "    </tr>\n",
       "    <tr>\n",
       "      <td>4</td>\n",
       "      <td>Beauty &amp; Spas</td>\n",
       "      <td>19370</td>\n",
       "    </tr>\n",
       "    <tr>\n",
       "      <td>...</td>\n",
       "      <td>...</td>\n",
       "      <td>...</td>\n",
       "    </tr>\n",
       "    <tr>\n",
       "      <td>1295</td>\n",
       "      <td>Rotisserie Chicken</td>\n",
       "      <td>1</td>\n",
       "    </tr>\n",
       "    <tr>\n",
       "      <td>1296</td>\n",
       "      <td>Bulgarian</td>\n",
       "      <td>1</td>\n",
       "    </tr>\n",
       "    <tr>\n",
       "      <td>1297</td>\n",
       "      <td>Homeopathic</td>\n",
       "      <td>1</td>\n",
       "    </tr>\n",
       "    <tr>\n",
       "      <td>1298</td>\n",
       "      <td>Bocce Ball</td>\n",
       "      <td>1</td>\n",
       "    </tr>\n",
       "    <tr>\n",
       "      <td>1299</td>\n",
       "      <td>Halfway Houses</td>\n",
       "      <td>1</td>\n",
       "    </tr>\n",
       "  </tbody>\n",
       "</table>\n",
       "<p>1300 rows × 2 columns</p>\n",
       "</div>"
      ],
      "text/plain": [
       "              Categories  Count\n",
       "0            Restaurants  59371\n",
       "1               Shopping  31878\n",
       "2                   Food  29989\n",
       "3          Home Services  19729\n",
       "4          Beauty & Spas  19370\n",
       "...                  ...    ...\n",
       "1295  Rotisserie Chicken      1\n",
       "1296           Bulgarian      1\n",
       "1297         Homeopathic      1\n",
       "1298          Bocce Ball      1\n",
       "1299      Halfway Houses      1\n",
       "\n",
       "[1300 rows x 2 columns]"
      ]
     },
     "execution_count": 7,
     "metadata": {},
     "output_type": "execute_result"
    }
   ],
   "source": [
    "cat.columns = ['Categories', 'Count']\n",
    "cat"
   ]
  },
  {
   "cell_type": "markdown",
   "metadata": {},
   "source": [
    "### There are 1300 categories. We shall check top 10 categories."
   ]
  },
  {
   "cell_type": "code",
   "execution_count": 8,
   "metadata": {},
   "outputs": [],
   "source": [
    "cat= cat.sort_values(by = 'Count', ascending = False)"
   ]
  },
  {
   "cell_type": "code",
   "execution_count": 9,
   "metadata": {},
   "outputs": [],
   "source": [
    "cat = cat[0:10]"
   ]
  },
  {
   "cell_type": "code",
   "execution_count": 10,
   "metadata": {},
   "outputs": [
    {
     "data": {
      "image/png": "[encoded data removed]",
      "text/plain": [
       "<Figure size 1440x360 with 1 Axes>"
      ]
     },
     "metadata": {
      "needs_background": "light"
     },
     "output_type": "display_data"
    }
   ],
   "source": [
    "objects = list(cat.Categories)\n",
    "y_pos = np.arange(len(objects))\n",
    "Numbers = list(cat.Count)\n",
    "\n",
    "fig = plt.figure(figsize=(20,5))\n",
    "ax = fig.add_subplot(111)\n",
    "plt.bar(y_pos, Numbers, align='center', alpha=1)\n",
    "plt.xticks(y_pos, objects)\n",
    "plt.ylabel('Number of Occurences')\n",
    "plt.title('Top 10 Categories in Yelp dataset')\n",
    "plt.show()"
   ]
  },
  {
   "cell_type": "markdown",
   "metadata": {},
   "source": [
    "### These are the top 10 categories in this data. But for our analysis, we shall focus more on business which comes in restaurant category. "
   ]
  },
  {
   "cell_type": "code",
   "execution_count": 11,
   "metadata": {},
   "outputs": [],
   "source": [
    "# business = business.assign(categories = business.categories.str.split(', ')).explode('categories')\n",
    "# count = business.categories.value_counts().tolist()\n",
    "# res_cat = business.categories.tolist()\n",
    "# res_cat = list(set(res_cat))"
   ]
  },
  {
   "cell_type": "code",
   "execution_count": 12,
   "metadata": {},
   "outputs": [],
   "source": [
    "# count = business.categories.value_counts().tolist()\n",
    "# categories_list = business.categories.str.split().tolist()\n",
    "# categories_list"
   ]
  },
  {
   "cell_type": "code",
   "execution_count": 13,
   "metadata": {},
   "outputs": [
    {
     "data": {
      "text/html": [
       "<div>\n",
       "<style scoped>\n",
       "    .dataframe tbody tr th:only-of-type {\n",
       "        vertical-align: middle;\n",
       "    }\n",
       "\n",
       "    .dataframe tbody tr th {\n",
       "        vertical-align: top;\n",
       "    }\n",
       "\n",
       "    .dataframe thead th {\n",
       "        text-align: right;\n",
       "    }\n",
       "</style>\n",
       "<table border=\"1\" class=\"dataframe\">\n",
       "  <thead>\n",
       "    <tr style=\"text-align: right;\">\n",
       "      <th></th>\n",
       "      <th>business_id</th>\n",
       "      <th>name</th>\n",
       "      <th>address</th>\n",
       "      <th>city</th>\n",
       "      <th>state</th>\n",
       "      <th>postal_code</th>\n",
       "      <th>latitude</th>\n",
       "      <th>longitude</th>\n",
       "      <th>stars</th>\n",
       "      <th>review_count</th>\n",
       "      <th>is_open</th>\n",
       "      <th>attributes</th>\n",
       "      <th>categories</th>\n",
       "      <th>hours</th>\n",
       "    </tr>\n",
       "  </thead>\n",
       "  <tbody>\n",
       "    <tr>\n",
       "      <td>1</td>\n",
       "      <td>QXAEGFB4oINsVuTFxEYKFQ</td>\n",
       "      <td>Emerald Chinese Restaurant</td>\n",
       "      <td>30 Eglinton Avenue W</td>\n",
       "      <td>Mississauga</td>\n",
       "      <td>ON</td>\n",
       "      <td>L5R 3E7</td>\n",
       "      <td>43.605499</td>\n",
       "      <td>-79.652289</td>\n",
       "      <td>2.5</td>\n",
       "      <td>128</td>\n",
       "      <td>1</td>\n",
       "      <td>{'RestaurantsReservations': 'True', 'GoodForMe...</td>\n",
       "      <td>Restaurants</td>\n",
       "      <td>{'Monday': '9:0-0:0', 'Tuesday': '9:0-0:0', 'W...</td>\n",
       "    </tr>\n",
       "    <tr>\n",
       "      <td>2</td>\n",
       "      <td>gnKjwL_1w79qoiV3IC_xQQ</td>\n",
       "      <td>Musashi Japanese Restaurant</td>\n",
       "      <td>10110 Johnston Rd, Ste 15</td>\n",
       "      <td>Charlotte</td>\n",
       "      <td>NC</td>\n",
       "      <td>28210</td>\n",
       "      <td>35.092564</td>\n",
       "      <td>-80.859132</td>\n",
       "      <td>4.0</td>\n",
       "      <td>170</td>\n",
       "      <td>1</td>\n",
       "      <td>{'GoodForKids': 'True', 'NoiseLevel': 'u'avera...</td>\n",
       "      <td>Restaurants</td>\n",
       "      <td>{'Monday': '17:30-21:30', 'Wednesday': '17:30-...</td>\n",
       "    </tr>\n",
       "    <tr>\n",
       "      <td>11</td>\n",
       "      <td>1Dfx3zM-rW4n-31KeC8sJg</td>\n",
       "      <td>Taco Bell</td>\n",
       "      <td>2450 E Indian School Rd</td>\n",
       "      <td>Phoenix</td>\n",
       "      <td>AZ</td>\n",
       "      <td>85016</td>\n",
       "      <td>33.495194</td>\n",
       "      <td>-112.028588</td>\n",
       "      <td>3.0</td>\n",
       "      <td>18</td>\n",
       "      <td>1</td>\n",
       "      <td>{'RestaurantsTakeOut': 'True', 'BusinessParkin...</td>\n",
       "      <td>Restaurants</td>\n",
       "      <td>{'Monday': '7:0-0:0', 'Tuesday': '7:0-0:0', 'W...</td>\n",
       "    </tr>\n",
       "    <tr>\n",
       "      <td>13</td>\n",
       "      <td>fweCYi8FmbJXHCqLnwuk8w</td>\n",
       "      <td>Marco's Pizza</td>\n",
       "      <td>5981 Andrews Rd</td>\n",
       "      <td>Mentor-on-the-Lake</td>\n",
       "      <td>OH</td>\n",
       "      <td>44060</td>\n",
       "      <td>41.708520</td>\n",
       "      <td>-81.359556</td>\n",
       "      <td>4.0</td>\n",
       "      <td>16</td>\n",
       "      <td>1</td>\n",
       "      <td>{'RestaurantsPriceRange2': '2', 'BusinessAccep...</td>\n",
       "      <td>Restaurants</td>\n",
       "      <td>{'Monday': '10:0-0:0', 'Tuesday': '10:0-0:0', ...</td>\n",
       "    </tr>\n",
       "    <tr>\n",
       "      <td>17</td>\n",
       "      <td>PZ-LZzSlhSe9utkQYU8pFg</td>\n",
       "      <td>Carluccio's Tivoli Gardens</td>\n",
       "      <td>1775 E Tropicana Ave, Ste 29</td>\n",
       "      <td>Las Vegas</td>\n",
       "      <td>NV</td>\n",
       "      <td>89119</td>\n",
       "      <td>36.100016</td>\n",
       "      <td>-115.128529</td>\n",
       "      <td>4.0</td>\n",
       "      <td>40</td>\n",
       "      <td>0</td>\n",
       "      <td>{'OutdoorSeating': 'False', 'BusinessAcceptsCr...</td>\n",
       "      <td>Restaurants</td>\n",
       "      <td>None</td>\n",
       "    </tr>\n",
       "    <tr>\n",
       "      <td>...</td>\n",
       "      <td>...</td>\n",
       "      <td>...</td>\n",
       "      <td>...</td>\n",
       "      <td>...</td>\n",
       "      <td>...</td>\n",
       "      <td>...</td>\n",
       "      <td>...</td>\n",
       "      <td>...</td>\n",
       "      <td>...</td>\n",
       "      <td>...</td>\n",
       "      <td>...</td>\n",
       "      <td>...</td>\n",
       "      <td>...</td>\n",
       "      <td>...</td>\n",
       "    </tr>\n",
       "    <tr>\n",
       "      <td>192587</td>\n",
       "      <td>oS0CnUbyv0GUoD3L8_3UPQ</td>\n",
       "      <td>Thai Fantasy</td>\n",
       "      <td>578 Yonge Street</td>\n",
       "      <td>Toronto</td>\n",
       "      <td>ON</td>\n",
       "      <td>M4Y 1Z3</td>\n",
       "      <td>43.665120</td>\n",
       "      <td>-79.384809</td>\n",
       "      <td>4.0</td>\n",
       "      <td>113</td>\n",
       "      <td>1</td>\n",
       "      <td>{'RestaurantsPriceRange2': '2', 'RestaurantsGo...</td>\n",
       "      <td>Restaurants</td>\n",
       "      <td>{'Monday': '0:0-0:0', 'Tuesday': '11:0-23:0', ...</td>\n",
       "    </tr>\n",
       "    <tr>\n",
       "      <td>192589</td>\n",
       "      <td>ghovD5ZTGDQ5Q2U4ERddWw</td>\n",
       "      <td>Five Guys</td>\n",
       "      <td>3863 Medina Rd</td>\n",
       "      <td>Fairlawn</td>\n",
       "      <td>OH</td>\n",
       "      <td>44333</td>\n",
       "      <td>41.136561</td>\n",
       "      <td>-81.639712</td>\n",
       "      <td>4.0</td>\n",
       "      <td>22</td>\n",
       "      <td>1</td>\n",
       "      <td>{'RestaurantsPriceRange2': '2', 'HasTV': 'Fals...</td>\n",
       "      <td>Restaurants</td>\n",
       "      <td>{'Monday': '11:0-22:0', 'Tuesday': '11:0-22:0'...</td>\n",
       "    </tr>\n",
       "    <tr>\n",
       "      <td>192595</td>\n",
       "      <td>h3QErqS3OZgLJ5Tb6-sLyQ</td>\n",
       "      <td>Asia Hut</td>\n",
       "      <td>1450 Kingston Rd</td>\n",
       "      <td>Pickering</td>\n",
       "      <td>ON</td>\n",
       "      <td>L1V 1C1</td>\n",
       "      <td>43.841844</td>\n",
       "      <td>-79.083881</td>\n",
       "      <td>4.5</td>\n",
       "      <td>4</td>\n",
       "      <td>1</td>\n",
       "      <td>{'BikeParking': 'True', 'RestaurantsAttire': '...</td>\n",
       "      <td>Restaurants</td>\n",
       "      <td>{'Monday': '11:0-21:30', 'Tuesday': '11:0-21:3...</td>\n",
       "    </tr>\n",
       "    <tr>\n",
       "      <td>192596</td>\n",
       "      <td>KnafX7T6qSAmSrLhd709vA</td>\n",
       "      <td>Pho Maisonneuve</td>\n",
       "      <td>948 Boulevard de Maisonneuve Est</td>\n",
       "      <td>MontrÃ©al</td>\n",
       "      <td>QC</td>\n",
       "      <td>H2L 1Z1</td>\n",
       "      <td>45.517430</td>\n",
       "      <td>-73.558873</td>\n",
       "      <td>4.0</td>\n",
       "      <td>25</td>\n",
       "      <td>1</td>\n",
       "      <td>{'GoodForKids': 'True', 'WiFi': 'u'no'', 'Rest...</td>\n",
       "      <td>Restaurants</td>\n",
       "      <td>{'Monday': '12:0-21:0', 'Tuesday': '12:0-21:0'...</td>\n",
       "    </tr>\n",
       "    <tr>\n",
       "      <td>192603</td>\n",
       "      <td>p1eUTUB_5hf1enoKYBV3DA</td>\n",
       "      <td>Ken Stewart's Tre Belle</td>\n",
       "      <td>1911 N Cleveland-Massillon Rd</td>\n",
       "      <td>Bath</td>\n",
       "      <td>OH</td>\n",
       "      <td>44210</td>\n",
       "      <td>41.187547</td>\n",
       "      <td>-81.635791</td>\n",
       "      <td>3.5</td>\n",
       "      <td>39</td>\n",
       "      <td>1</td>\n",
       "      <td>{'OutdoorSeating': 'True', 'BikeParking': 'Tru...</td>\n",
       "      <td>Restaurants</td>\n",
       "      <td>{'Monday': '0:0-0:0', 'Tuesday': '17:0-22:0', ...</td>\n",
       "    </tr>\n",
       "  </tbody>\n",
       "</table>\n",
       "<p>59382 rows × 14 columns</p>\n",
       "</div>"
      ],
      "text/plain": [
       "                   business_id                         name  \\\n",
       "1       QXAEGFB4oINsVuTFxEYKFQ   Emerald Chinese Restaurant   \n",
       "2       gnKjwL_1w79qoiV3IC_xQQ  Musashi Japanese Restaurant   \n",
       "11      1Dfx3zM-rW4n-31KeC8sJg                    Taco Bell   \n",
       "13      fweCYi8FmbJXHCqLnwuk8w                Marco's Pizza   \n",
       "17      PZ-LZzSlhSe9utkQYU8pFg   Carluccio's Tivoli Gardens   \n",
       "...                        ...                          ...   \n",
       "192587  oS0CnUbyv0GUoD3L8_3UPQ                 Thai Fantasy   \n",
       "192589  ghovD5ZTGDQ5Q2U4ERddWw                    Five Guys   \n",
       "192595  h3QErqS3OZgLJ5Tb6-sLyQ                     Asia Hut   \n",
       "192596  KnafX7T6qSAmSrLhd709vA              Pho Maisonneuve   \n",
       "192603  p1eUTUB_5hf1enoKYBV3DA      Ken Stewart's Tre Belle   \n",
       "\n",
       "                                 address                city state  \\\n",
       "1                   30 Eglinton Avenue W         Mississauga    ON   \n",
       "2              10110 Johnston Rd, Ste 15           Charlotte    NC   \n",
       "11               2450 E Indian School Rd             Phoenix    AZ   \n",
       "13                       5981 Andrews Rd  Mentor-on-the-Lake    OH   \n",
       "17          1775 E Tropicana Ave, Ste 29           Las Vegas    NV   \n",
       "...                                  ...                 ...   ...   \n",
       "192587                  578 Yonge Street             Toronto    ON   \n",
       "192589                    3863 Medina Rd            Fairlawn    OH   \n",
       "192595                  1450 Kingston Rd           Pickering    ON   \n",
       "192596  948 Boulevard de Maisonneuve Est           MontrÃ©al    QC   \n",
       "192603     1911 N Cleveland-Massillon Rd                Bath    OH   \n",
       "\n",
       "       postal_code   latitude   longitude  stars  review_count  is_open  \\\n",
       "1          L5R 3E7  43.605499  -79.652289    2.5           128        1   \n",
       "2            28210  35.092564  -80.859132    4.0           170        1   \n",
       "11           85016  33.495194 -112.028588    3.0            18        1   \n",
       "13           44060  41.708520  -81.359556    4.0            16        1   \n",
       "17           89119  36.100016 -115.128529    4.0            40        0   \n",
       "...            ...        ...         ...    ...           ...      ...   \n",
       "192587     M4Y 1Z3  43.665120  -79.384809    4.0           113        1   \n",
       "192589       44333  41.136561  -81.639712    4.0            22        1   \n",
       "192595     L1V 1C1  43.841844  -79.083881    4.5             4        1   \n",
       "192596     H2L 1Z1  45.517430  -73.558873    4.0            25        1   \n",
       "192603       44210  41.187547  -81.635791    3.5            39        1   \n",
       "\n",
       "                                               attributes   categories  \\\n",
       "1       {'RestaurantsReservations': 'True', 'GoodForMe...  Restaurants   \n",
       "2       {'GoodForKids': 'True', 'NoiseLevel': 'u'avera...  Restaurants   \n",
       "11      {'RestaurantsTakeOut': 'True', 'BusinessParkin...  Restaurants   \n",
       "13      {'RestaurantsPriceRange2': '2', 'BusinessAccep...  Restaurants   \n",
       "17      {'OutdoorSeating': 'False', 'BusinessAcceptsCr...  Restaurants   \n",
       "...                                                   ...          ...   \n",
       "192587  {'RestaurantsPriceRange2': '2', 'RestaurantsGo...  Restaurants   \n",
       "192589  {'RestaurantsPriceRange2': '2', 'HasTV': 'Fals...  Restaurants   \n",
       "192595  {'BikeParking': 'True', 'RestaurantsAttire': '...  Restaurants   \n",
       "192596  {'GoodForKids': 'True', 'WiFi': 'u'no'', 'Rest...  Restaurants   \n",
       "192603  {'OutdoorSeating': 'True', 'BikeParking': 'Tru...  Restaurants   \n",
       "\n",
       "                                                    hours  \n",
       "1       {'Monday': '9:0-0:0', 'Tuesday': '9:0-0:0', 'W...  \n",
       "2       {'Monday': '17:30-21:30', 'Wednesday': '17:30-...  \n",
       "11      {'Monday': '7:0-0:0', 'Tuesday': '7:0-0:0', 'W...  \n",
       "13      {'Monday': '10:0-0:0', 'Tuesday': '10:0-0:0', ...  \n",
       "17                                                   None  \n",
       "...                                                   ...  \n",
       "192587  {'Monday': '0:0-0:0', 'Tuesday': '11:0-23:0', ...  \n",
       "192589  {'Monday': '11:0-22:0', 'Tuesday': '11:0-22:0'...  \n",
       "192595  {'Monday': '11:0-21:30', 'Tuesday': '11:0-21:3...  \n",
       "192596  {'Monday': '12:0-21:0', 'Tuesday': '12:0-21:0'...  \n",
       "192603  {'Monday': '0:0-0:0', 'Tuesday': '17:0-22:0', ...  \n",
       "\n",
       "[59382 rows x 14 columns]"
      ]
     },
     "execution_count": 13,
     "metadata": {},
     "output_type": "execute_result"
    }
   ],
   "source": [
    "# business = business.assign(categories = business.categories.str.split(', ')).explode('categories')\n",
    "business = business[business.categories.str.contains('Restaurants', case=True,na=False)]\n",
    "business"
   ]
  },
  {
   "cell_type": "markdown",
   "metadata": {},
   "source": [
    "### We only need to focus on the restaurants which are open ( i.e. business.is_open ==1) "
   ]
  },
  {
   "cell_type": "code",
   "execution_count": 14,
   "metadata": {},
   "outputs": [],
   "source": [
    "# Taking into the consideration the businesses which are open\n",
    "# 1 = open, 0 = closed\n",
    "business = business[business['is_open']==1]"
   ]
  },
  {
   "cell_type": "markdown",
   "metadata": {},
   "source": [
    "## Taking average into consideration for all the US states"
   ]
  },
  {
   "cell_type": "code",
   "execution_count": 16,
   "metadata": {},
   "outputs": [],
   "source": [
    "# taking into consideration US states only\n",
    "\n",
    "states = pd.Series([\"AL\", \"AK\", \"AZ\", \"AR\", \"CA\", \"CO\", \"CT\", \"DC\", \"DE\", \"FL\", \"GA\", \n",
    "          \"HI\", \"ID\", \"IL\", \"IN\", \"IA\", \"KS\", \"KY\", \"LA\", \"ME\", \"MD\", \n",
    "          \"MA\", \"MI\", \"MN\", \"MS\", \"MO\", \"MT\", \"NE\", \"NV\", \"NH\", \"NJ\", \n",
    "          \"NM\", \"NY\", \"NC\", \"ND\", \"OH\", \"OK\", \"OR\", \"PA\", \"RI\", \"SC\", \n",
    "          \"SD\", \"TN\", \"TX\", \"UT\", \"VT\", \"VA\", \"WA\", \"WV\", \"WI\", \"WY\"])"
   ]
  },
  {
   "cell_type": "code",
   "execution_count": 17,
   "metadata": {},
   "outputs": [],
   "source": [
    "avg_stars = pd.pivot_table(business[business['state'].isin(states)] , index = ['state'], \n",
    "                    values = ['stars'], aggfunc = np.mean)\n",
    "\n",
    "avg_stars=avg_stars.sort_values('stars',ascending=False)"
   ]
  },
  {
   "cell_type": "code",
   "execution_count": 18,
   "metadata": {},
   "outputs": [
    {
     "data": {
      "image/png": "[encoded data removed]",
      "text/plain": [
       "<Figure size 1440x720 with 1 Axes>"
      ]
     },
     "metadata": {
      "needs_background": "light"
     },
     "output_type": "display_data"
    }
   ],
   "source": [
    "fig = plt.figure(figsize=(20,10))\n",
    "ax = fig.add_subplot(111)\n",
    "a = sns.barplot(x=avg_stars.index, y=\"stars\", data=avg_stars)"
   ]
  },
  {
   "cell_type": "markdown",
   "metadata": {},
   "source": [
    "### Now we shall see the distribution of state in this dataset"
   ]
  },
  {
   "cell_type": "code",
   "execution_count": 19,
   "metadata": {},
   "outputs": [],
   "source": [
    "state_count = business.state.value_counts()"
   ]
  },
  {
   "cell_type": "code",
   "execution_count": 20,
   "metadata": {},
   "outputs": [],
   "source": [
    "state_count = state_count.to_frame().reset_index()\n",
    "state_count.columns = ['State', 'Counts']"
   ]
  },
  {
   "cell_type": "code",
   "execution_count": 21,
   "metadata": {},
   "outputs": [
    {
     "data": {
      "image/png": "[encoded data removed]",
      "text/plain": [
       "<Figure size 1440x720 with 1 Axes>"
      ]
     },
     "metadata": {
      "needs_background": "light"
     },
     "output_type": "display_data"
    }
   ],
   "source": [
    "objects = list(state_count.State)\n",
    "y_pos = np.arange(len(objects))\n",
    "Numbers = list(state_count.Counts)\n",
    "\n",
    "fig = plt.figure(figsize=(20,10))\n",
    "ax = fig.add_subplot(111)\n",
    "plt.bar(y_pos, Numbers, align='center', alpha=1)\n",
    "plt.xticks(y_pos, objects)\n",
    "plt.ylabel('Number of Occurences')\n",
    "plt.title('Distribution of State in Yelp dataset')\n",
    "plt.show()\n",
    "\n"
   ]
  },
  {
   "cell_type": "markdown",
   "metadata": {},
   "source": [
    "### From this, graph, we see the statewise distribution of restaurants. As we can see, this data consists of restaurants present all over the world. For the sake of simplicity, we will focus on the restaurants present in Illinois."
   ]
  },
  {
   "cell_type": "code",
   "execution_count": 22,
   "metadata": {},
   "outputs": [],
   "source": [
    "business_in_IL = business[business.state == 'IL']"
   ]
  },
  {
   "cell_type": "code",
   "execution_count": 23,
   "metadata": {},
   "outputs": [],
   "source": [
    "business_in_IL = business_in_IL.reset_index(drop = True)"
   ]
  },
  {
   "cell_type": "code",
   "execution_count": 24,
   "metadata": {},
   "outputs": [
    {
     "data": {
      "text/html": [
       "<div>\n",
       "<style scoped>\n",
       "    .dataframe tbody tr th:only-of-type {\n",
       "        vertical-align: middle;\n",
       "    }\n",
       "\n",
       "    .dataframe tbody tr th {\n",
       "        vertical-align: top;\n",
       "    }\n",
       "\n",
       "    .dataframe thead th {\n",
       "        text-align: right;\n",
       "    }\n",
       "</style>\n",
       "<table border=\"1\" class=\"dataframe\">\n",
       "  <thead>\n",
       "    <tr style=\"text-align: right;\">\n",
       "      <th></th>\n",
       "      <th>business_id</th>\n",
       "      <th>name</th>\n",
       "      <th>address</th>\n",
       "      <th>city</th>\n",
       "      <th>state</th>\n",
       "      <th>postal_code</th>\n",
       "      <th>latitude</th>\n",
       "      <th>longitude</th>\n",
       "      <th>stars</th>\n",
       "      <th>review_count</th>\n",
       "      <th>is_open</th>\n",
       "      <th>attributes</th>\n",
       "      <th>categories</th>\n",
       "      <th>hours</th>\n",
       "    </tr>\n",
       "  </thead>\n",
       "  <tbody>\n",
       "    <tr>\n",
       "      <td>0</td>\n",
       "      <td>mofOjB6flg-eAWOFbOkHfQ</td>\n",
       "      <td>ChinaTown Buffet</td>\n",
       "      <td>713 W Marketview Dr</td>\n",
       "      <td>Champaign</td>\n",
       "      <td>IL</td>\n",
       "      <td>61822</td>\n",
       "      <td>40.137270</td>\n",
       "      <td>-88.256043</td>\n",
       "      <td>2.5</td>\n",
       "      <td>72</td>\n",
       "      <td>1</td>\n",
       "      <td>{'WiFi': 'u'no'', 'RestaurantsReservations': '...</td>\n",
       "      <td>Restaurants</td>\n",
       "      <td>{'Monday': '11:0-21:0', 'Tuesday': '11:0-21:0'...</td>\n",
       "    </tr>\n",
       "    <tr>\n",
       "      <td>1</td>\n",
       "      <td>m4DwPVxmFDQE_FnGIOa3cQ</td>\n",
       "      <td>Sunny China Buffet</td>\n",
       "      <td>1703 Philo Rd</td>\n",
       "      <td>Urbana</td>\n",
       "      <td>IL</td>\n",
       "      <td>61802</td>\n",
       "      <td>40.097639</td>\n",
       "      <td>-88.191217</td>\n",
       "      <td>3.5</td>\n",
       "      <td>15</td>\n",
       "      <td>1</td>\n",
       "      <td>{'RestaurantsGoodForGroups': 'True', 'Business...</td>\n",
       "      <td>Restaurants</td>\n",
       "      <td>None</td>\n",
       "    </tr>\n",
       "    <tr>\n",
       "      <td>2</td>\n",
       "      <td>HbK6IfznbVToEaKVC0WcSg</td>\n",
       "      <td>The Clark Bar</td>\n",
       "      <td>207 W Clark St</td>\n",
       "      <td>Champaign</td>\n",
       "      <td>IL</td>\n",
       "      <td>61820</td>\n",
       "      <td>40.115017</td>\n",
       "      <td>-88.246156</td>\n",
       "      <td>3.5</td>\n",
       "      <td>24</td>\n",
       "      <td>1</td>\n",
       "      <td>{'Alcohol': 'u'full_bar'', 'GoodForKids': 'Fal...</td>\n",
       "      <td>Restaurants</td>\n",
       "      <td>{'Tuesday': '16:0-2:0', 'Wednesday': '16:0-2:0...</td>\n",
       "    </tr>\n",
       "    <tr>\n",
       "      <td>3</td>\n",
       "      <td>o9nGD3J0btXjE9M6IdgZTA</td>\n",
       "      <td>McAlister's Deli</td>\n",
       "      <td>421 Town Center Rd</td>\n",
       "      <td>Champaign</td>\n",
       "      <td>IL</td>\n",
       "      <td>61820</td>\n",
       "      <td>40.141668</td>\n",
       "      <td>-88.250360</td>\n",
       "      <td>3.0</td>\n",
       "      <td>50</td>\n",
       "      <td>1</td>\n",
       "      <td>{'RestaurantsTakeOut': 'True', 'RestaurantsAtt...</td>\n",
       "      <td>Restaurants</td>\n",
       "      <td>{'Monday': '0:0-0:0', 'Tuesday': '10:30-21:0',...</td>\n",
       "    </tr>\n",
       "    <tr>\n",
       "      <td>4</td>\n",
       "      <td>sDfN5qJlmvrwTfwEPBsxSg</td>\n",
       "      <td>Dairy Queen</td>\n",
       "      <td>1103 Klein Ave</td>\n",
       "      <td>Rantoul</td>\n",
       "      <td>IL</td>\n",
       "      <td>61866</td>\n",
       "      <td>40.311299</td>\n",
       "      <td>-88.142882</td>\n",
       "      <td>2.0</td>\n",
       "      <td>4</td>\n",
       "      <td>1</td>\n",
       "      <td>{'GoodForKids': 'False', 'BusinessAcceptsCredi...</td>\n",
       "      <td>Restaurants</td>\n",
       "      <td>None</td>\n",
       "    </tr>\n",
       "    <tr>\n",
       "      <td>...</td>\n",
       "      <td>...</td>\n",
       "      <td>...</td>\n",
       "      <td>...</td>\n",
       "      <td>...</td>\n",
       "      <td>...</td>\n",
       "      <td>...</td>\n",
       "      <td>...</td>\n",
       "      <td>...</td>\n",
       "      <td>...</td>\n",
       "      <td>...</td>\n",
       "      <td>...</td>\n",
       "      <td>...</td>\n",
       "      <td>...</td>\n",
       "      <td>...</td>\n",
       "    </tr>\n",
       "    <tr>\n",
       "      <td>452</td>\n",
       "      <td>nD4cF5IH8RE7LFGdR2FMUA</td>\n",
       "      <td>Windy City Express</td>\n",
       "      <td>410 N Race St</td>\n",
       "      <td>Urbana</td>\n",
       "      <td>IL</td>\n",
       "      <td>61801</td>\n",
       "      <td>40.116172</td>\n",
       "      <td>-88.208663</td>\n",
       "      <td>3.5</td>\n",
       "      <td>28</td>\n",
       "      <td>1</td>\n",
       "      <td>{'RestaurantsTakeOut': 'True', 'Alcohol': 'u'n...</td>\n",
       "      <td>Restaurants</td>\n",
       "      <td>None</td>\n",
       "    </tr>\n",
       "    <tr>\n",
       "      <td>453</td>\n",
       "      <td>zTGxLMOd9crAz0XNzqrcrA</td>\n",
       "      <td>Empire Chinese Restaurant</td>\n",
       "      <td>410 E Green St, Ste 1</td>\n",
       "      <td>Champaign</td>\n",
       "      <td>IL</td>\n",
       "      <td>61820</td>\n",
       "      <td>40.110638</td>\n",
       "      <td>-88.232483</td>\n",
       "      <td>3.5</td>\n",
       "      <td>48</td>\n",
       "      <td>1</td>\n",
       "      <td>{'BusinessAcceptsCreditCards': 'True', 'BYOBCo...</td>\n",
       "      <td>Restaurants</td>\n",
       "      <td>{'Monday': '11:0-22:30', 'Tuesday': '11:0-22:3...</td>\n",
       "    </tr>\n",
       "    <tr>\n",
       "      <td>454</td>\n",
       "      <td>0QgFIP9W0eGZSxCSQRQSCg</td>\n",
       "      <td>Subway</td>\n",
       "      <td>701 S Gregory St, Ste A</td>\n",
       "      <td>Urbana</td>\n",
       "      <td>IL</td>\n",
       "      <td>61801</td>\n",
       "      <td>40.106711</td>\n",
       "      <td>-88.221752</td>\n",
       "      <td>2.5</td>\n",
       "      <td>6</td>\n",
       "      <td>1</td>\n",
       "      <td>{'RestaurantsDelivery': 'False', 'RestaurantsR...</td>\n",
       "      <td>Restaurants</td>\n",
       "      <td>None</td>\n",
       "    </tr>\n",
       "    <tr>\n",
       "      <td>455</td>\n",
       "      <td>gZtJyb2oEpwo1rnovDVPfA</td>\n",
       "      <td>Intermezzo CafÃ©</td>\n",
       "      <td>500 S Goodwin Ave</td>\n",
       "      <td>Urbana</td>\n",
       "      <td>IL</td>\n",
       "      <td>61801</td>\n",
       "      <td>40.108000</td>\n",
       "      <td>-88.222501</td>\n",
       "      <td>3.5</td>\n",
       "      <td>11</td>\n",
       "      <td>1</td>\n",
       "      <td>{'RestaurantsTakeOut': 'True', 'BusinessAccept...</td>\n",
       "      <td>Restaurants</td>\n",
       "      <td>{'Monday': '7:30-15:30', 'Tuesday': '7:30-15:3...</td>\n",
       "    </tr>\n",
       "    <tr>\n",
       "      <td>456</td>\n",
       "      <td>F1qPjasn0R6-j8sa6iYNmA</td>\n",
       "      <td>Guido's Bar &amp; Grill</td>\n",
       "      <td>2 E Main St</td>\n",
       "      <td>Champaign</td>\n",
       "      <td>IL</td>\n",
       "      <td>61820</td>\n",
       "      <td>40.117863</td>\n",
       "      <td>-88.243301</td>\n",
       "      <td>3.0</td>\n",
       "      <td>111</td>\n",
       "      <td>1</td>\n",
       "      <td>{'RestaurantsGoodForGroups': 'True', 'Business...</td>\n",
       "      <td>Restaurants</td>\n",
       "      <td>{'Monday': '11:0-2:0', 'Tuesday': '11:0-2:0', ...</td>\n",
       "    </tr>\n",
       "  </tbody>\n",
       "</table>\n",
       "<p>457 rows × 14 columns</p>\n",
       "</div>"
      ],
      "text/plain": [
       "                business_id                       name  \\\n",
       "0    mofOjB6flg-eAWOFbOkHfQ           ChinaTown Buffet   \n",
       "1    m4DwPVxmFDQE_FnGIOa3cQ         Sunny China Buffet   \n",
       "2    HbK6IfznbVToEaKVC0WcSg              The Clark Bar   \n",
       "3    o9nGD3J0btXjE9M6IdgZTA           McAlister's Deli   \n",
       "4    sDfN5qJlmvrwTfwEPBsxSg                Dairy Queen   \n",
       "..                      ...                        ...   \n",
       "452  nD4cF5IH8RE7LFGdR2FMUA         Windy City Express   \n",
       "453  zTGxLMOd9crAz0XNzqrcrA  Empire Chinese Restaurant   \n",
       "454  0QgFIP9W0eGZSxCSQRQSCg                     Subway   \n",
       "455  gZtJyb2oEpwo1rnovDVPfA           Intermezzo CafÃ©   \n",
       "456  F1qPjasn0R6-j8sa6iYNmA        Guido's Bar & Grill   \n",
       "\n",
       "                     address       city state postal_code   latitude  \\\n",
       "0        713 W Marketview Dr  Champaign    IL       61822  40.137270   \n",
       "1              1703 Philo Rd     Urbana    IL       61802  40.097639   \n",
       "2             207 W Clark St  Champaign    IL       61820  40.115017   \n",
       "3         421 Town Center Rd  Champaign    IL       61820  40.141668   \n",
       "4             1103 Klein Ave    Rantoul    IL       61866  40.311299   \n",
       "..                       ...        ...   ...         ...        ...   \n",
       "452            410 N Race St     Urbana    IL       61801  40.116172   \n",
       "453    410 E Green St, Ste 1  Champaign    IL       61820  40.110638   \n",
       "454  701 S Gregory St, Ste A     Urbana    IL       61801  40.106711   \n",
       "455        500 S Goodwin Ave     Urbana    IL       61801  40.108000   \n",
       "456              2 E Main St  Champaign    IL       61820  40.117863   \n",
       "\n",
       "     longitude  stars  review_count  is_open  \\\n",
       "0   -88.256043    2.5            72        1   \n",
       "1   -88.191217    3.5            15        1   \n",
       "2   -88.246156    3.5            24        1   \n",
       "3   -88.250360    3.0            50        1   \n",
       "4   -88.142882    2.0             4        1   \n",
       "..         ...    ...           ...      ...   \n",
       "452 -88.208663    3.5            28        1   \n",
       "453 -88.232483    3.5            48        1   \n",
       "454 -88.221752    2.5             6        1   \n",
       "455 -88.222501    3.5            11        1   \n",
       "456 -88.243301    3.0           111        1   \n",
       "\n",
       "                                            attributes   categories  \\\n",
       "0    {'WiFi': 'u'no'', 'RestaurantsReservations': '...  Restaurants   \n",
       "1    {'RestaurantsGoodForGroups': 'True', 'Business...  Restaurants   \n",
       "2    {'Alcohol': 'u'full_bar'', 'GoodForKids': 'Fal...  Restaurants   \n",
       "3    {'RestaurantsTakeOut': 'True', 'RestaurantsAtt...  Restaurants   \n",
       "4    {'GoodForKids': 'False', 'BusinessAcceptsCredi...  Restaurants   \n",
       "..                                                 ...          ...   \n",
       "452  {'RestaurantsTakeOut': 'True', 'Alcohol': 'u'n...  Restaurants   \n",
       "453  {'BusinessAcceptsCreditCards': 'True', 'BYOBCo...  Restaurants   \n",
       "454  {'RestaurantsDelivery': 'False', 'RestaurantsR...  Restaurants   \n",
       "455  {'RestaurantsTakeOut': 'True', 'BusinessAccept...  Restaurants   \n",
       "456  {'RestaurantsGoodForGroups': 'True', 'Business...  Restaurants   \n",
       "\n",
       "                                                 hours  \n",
       "0    {'Monday': '11:0-21:0', 'Tuesday': '11:0-21:0'...  \n",
       "1                                                 None  \n",
       "2    {'Tuesday': '16:0-2:0', 'Wednesday': '16:0-2:0...  \n",
       "3    {'Monday': '0:0-0:0', 'Tuesday': '10:30-21:0',...  \n",
       "4                                                 None  \n",
       "..                                                 ...  \n",
       "452                                               None  \n",
       "453  {'Monday': '11:0-22:30', 'Tuesday': '11:0-22:3...  \n",
       "454                                               None  \n",
       "455  {'Monday': '7:30-15:30', 'Tuesday': '7:30-15:3...  \n",
       "456  {'Monday': '11:0-2:0', 'Tuesday': '11:0-2:0', ...  \n",
       "\n",
       "[457 rows x 14 columns]"
      ]
     },
     "execution_count": 24,
     "metadata": {},
     "output_type": "execute_result"
    }
   ],
   "source": [
    "business_in_IL"
   ]
  },
  {
   "cell_type": "code",
   "execution_count": 25,
   "metadata": {},
   "outputs": [],
   "source": [
    "business_in_IL.to_csv(\"Business_in_Illinois.csv\")"
   ]
  },
  {
   "cell_type": "code",
   "execution_count": 27,
   "metadata": {},
   "outputs": [
    {
     "data": {
      "application/vnd.plotly.v1+json": {
       "config": {
        "plotlyServerURL": "https://plot.ly"
       },
       "data": [
        {
         "hoverlabel": {
          "namelength": 0
         },
         "hovertemplate": "<b>%{hovertext}</b><br><br>latitude=%{lat}<br>longitude=%{lon}",
         "hovertext": [
          "Champaign",
          "Urbana",
          "Champaign",
          "Champaign",
          "Rantoul",
          "Urbana",
          "Champaign",
          "Urbana",
          "Champaign",
          "Urbana",
          "Champaign",
          "Saint Joseph",
          "Monticello",
          "Champaign",
          "Champaign",
          "Champaign",
          "Champaign",
          "Champaign",
          "Champaign",
          "Rantoul",
          "Urbana",
          "Champaign",
          "Champaign",
          "Champaign",
          "Mahomet",
          "Champaign",
          "Champaign",
          "Champaign",
          "Champaign",
          "Champaign",
          "Rantoul",
          "Champaign",
          "Champaign",
          "Champaign",
          "Champaign",
          "Urbana",
          "Urbana",
          "Champaign",
          "Champaign",
          "Saint Joseph",
          "Champaign",
          "Champaign",
          "Champaign",
          "Champaign",
          "Champaign",
          "Champaign",
          "Champaign",
          "Champaign",
          "Champaign",
          "Champaign",
          "Urbana",
          "Rantoul",
          "Champaign",
          "Champaign",
          "Champaign",
          "Champaign",
          "Champaign",
          "Champaign",
          "Champaign",
          "Champaign",
          "Ogden",
          "Urbana",
          "Urbana",
          "Urbana",
          "Champaign",
          "Mahomet",
          "Champaign",
          "Champaign",
          "Urbana",
          "Champaign",
          "Urbana",
          "Champaign",
          "Saint Joseph",
          "Champaign",
          "Champaign",
          "Champaign",
          "Urbana",
          "Champaign",
          "Champaign",
          "Champaign",
          "Urbana",
          "Urbana",
          "Champaign",
          "Urbana",
          "Champaign",
          "Savoy",
          "Urbana",
          "Urbana",
          "Saint Joseph",
          "St Joseph",
          "Savoy",
          "Mahomet",
          "Rantoul",
          "Champaign",
          "Champaign",
          "Champaign",
          "Champaign",
          "Champaign",
          "Champaign",
          "Champaign",
          "Champaign",
          "Monticello",
          "Savoy",
          "Champaign",
          "Urbana",
          "Champaign",
          "Savoy",
          "Rantoul",
          "Urbana",
          "Champaign",
          "Champaign",
          "Champaign",
          "Champaign",
          "Champaign",
          "Champaign",
          "Monticello",
          "Champaign",
          "Rantoul",
          "Champaign",
          "Monticello",
          "Champaign",
          "Rantoul",
          "Champaign",
          "Champaign",
          "Champaign",
          "Savoy",
          "Champaign",
          "Champaign",
          "Champaign",
          "Champaign",
          "Champaign",
          "Champaign",
          "Champaign",
          "Champaign",
          "Champaign",
          "Rantoul",
          "Rantoul",
          "Champaign",
          "Champaign",
          "Urbana",
          "Champaign",
          "Champaign",
          "Mahomet",
          "Urbana",
          "Champaign",
          "Monticello",
          "Urbana",
          "Urbana",
          "Champaign",
          "Champaign",
          "Urbana",
          "Champaign",
          "Urbana",
          "Urbana",
          "Champaign",
          "Champaign",
          "Monticello",
          "Champaign",
          "Champaign",
          "Champaign",
          "Champaign",
          "Urbana",
          "Champaign",
          "Champaign",
          "Urbana",
          "Champaign",
          "Rantoul",
          "Champaign",
          "Champaign",
          "Champaign",
          "Champaign",
          "Champaign",
          "Urbana",
          "Sidney",
          "Tolono",
          "Champaign",
          "Champaign",
          "Monticello",
          "Urbana",
          "Champaign",
          "Champaign",
          "Savoy",
          "Monticello",
          "Champaign",
          "Champaign",
          "Champaign",
          "Champaign",
          "Mahomet",
          "Urbana",
          "Champaign",
          "Champaign",
          "Urbana",
          "Mahomet",
          "Urbana",
          "Champaign",
          "Champaign",
          "Champaign",
          "Champaign",
          "Champaign",
          "Champaign",
          "Champaign",
          "Champaign",
          "Champaign",
          "Champaign",
          "Champaign",
          "Champaign",
          "Rantoul",
          "Champaign",
          "Champaign",
          "Champaign",
          "Champaign",
          "Champaign",
          "Champaign",
          "Champaign",
          "Champaign",
          "Urbana",
          "Champaign",
          "Champaign",
          "Champaign",
          "Savoy",
          "Philo",
          "Urbana",
          "Champaign",
          "Rantoul",
          "Champaign",
          "Champaign",
          "Ogden",
          "Champaign",
          "Urbana",
          "Urbana",
          "Urbana",
          "Mahomet",
          "Fisher",
          "Urbana",
          "Champaign",
          "Champaign",
          "Urbana",
          "Urbana",
          "Mahomet",
          "Champaign",
          "Urbana",
          "Champaign",
          "Champaign",
          "Mahomet",
          "Champaign",
          "Champaign",
          "Champaign",
          "Urbana",
          "Monticello",
          "Urbana",
          "Mahomet",
          "Champaign",
          "Villa Grove",
          "Champaign",
          "Champaign",
          "Champaign",
          "Urbana",
          "Champaign",
          "Champaign",
          "Urbana",
          "Champaign",
          "Champaign",
          "Champaign",
          "Champaign",
          "Urbana",
          "Champaign",
          "Mahomet",
          "Champaign",
          "Mahomet",
          "Champaign",
          "Urbana",
          "Champaign",
          "Champaign",
          "Homer",
          "Champaign",
          "Champaign",
          "Urbana",
          "Urbana",
          "Champaign",
          "Urbana",
          "Champaign",
          "Champaign",
          "Urbana",
          "Champaign",
          "Saint Joseph",
          "Mahomet",
          "Champaign",
          "Champaign",
          "Champaign",
          "Urbana",
          "Urbana",
          "Champaign",
          "Ogden",
          "Champaign",
          "Urbana",
          "Champaign",
          "Champaign",
          "Urbana",
          "Savoy",
          "Urbana",
          "Champaign",
          "Urbana",
          "Champaign",
          "Champaign",
          "Champaign",
          "Champaign",
          "Champaign",
          "Rantoul",
          "Urbana",
          "Champaign",
          "Urbana",
          "Rantoul",
          "Rantoul",
          "Urbana",
          "Urbana",
          "Champaign",
          "Champaign",
          "Urbana",
          "Urbana",
          "Champaign",
          "Champaign",
          "Champaign",
          "Champaign",
          "Savoy",
          "Champaign",
          "Champaign",
          "Champaign",
          "Champaign",
          "Urbana",
          "Urbana",
          "Urbana",
          "Savoy",
          "Monticello",
          "Champaign",
          "Champaign",
          "Champaign",
          "Champaign",
          "Champaign",
          "Champaign",
          "Champaign",
          "Champaign",
          "Monticello",
          "Champaign",
          "Champaign",
          "Mansfield",
          "Urbana",
          "Champaign",
          "Champaign",
          "Monticello",
          "Saint Joseph",
          "Champaign",
          "Champaign",
          "Champaign",
          "Champaign",
          "Urbana",
          "Gifford",
          "Champaign",
          "Champaign",
          "Champaign",
          "Champaign",
          "Mahomet",
          "Champaign",
          "Champaign",
          "Monticello",
          "Champaign",
          "Champaign",
          "Monticello",
          "Champaign",
          "Champaign",
          "Urbana",
          "Champaign",
          "Champaign",
          "Urbana",
          "Champaign",
          "Rantoul",
          "Rantoul",
          "Champaign",
          "Urbana",
          "Champaign",
          "Champaign",
          "Urbana",
          "Champaign",
          "Champaign",
          "Monticello",
          "Champaign",
          "Champaign",
          "Champaign",
          "Champaign",
          "Monticello",
          "Mahomet",
          "Champaign",
          "Champaign",
          "Homer",
          "Champaign",
          "Champaign",
          "Champaign",
          "Champaign",
          "Urbana",
          "Mahomet",
          "Champaign",
          "Urbana",
          "Champaign",
          "Champaign",
          "Urbana",
          "Savoy",
          "Urbana",
          "Champaign",
          "Champaign",
          "Champaign",
          "Urbana",
          "Fisher",
          "Champaign",
          "Champaign",
          "Urbana",
          "Mahomet",
          "Urbana",
          "Savoy",
          "Champaign",
          "Urbana",
          "Urbana",
          "Rantoul",
          "Saint Joseph",
          "Champaign",
          "Champaign",
          "Champaign",
          "Savoy",
          "Champaign",
          "Rantoul",
          "Champaign",
          "Urbana",
          "Champaign",
          "Champaign",
          "Champaign",
          "Urbana",
          "Champaign",
          "Champaign",
          "Champaign",
          "Champaign",
          "Champaign",
          "Champaign",
          "Champaign",
          "Champaign",
          "Champaign",
          "Champaign",
          "Champaign",
          "Tuscola",
          "Champaign",
          "Champaign",
          "Urbana",
          "Mahomet",
          "Champaign",
          "Urbana",
          "Urbana",
          "Champaign",
          "Urbana",
          "Urbana",
          "Champaign"
         ],
         "lat": [
          40.13727,
          40.0976392,
          40.1150169,
          40.14166846,
          40.3112989,
          40.106822678,
          40.098735,
          40.1182515363,
          40.141131,
          40.1186429,
          40.1154721496,
          40.1112277,
          40.049686,
          40.110832,
          40.1111448,
          40.1107271,
          40.0854477,
          40.112846,
          40.1392818536,
          40.313236,
          40.11771,
          40.110008,
          40.1124216,
          40.118884,
          40.1961495,
          40.0818267,
          40.1097873,
          40.0975748,
          40.1375274658,
          40.112702,
          40.30798092,
          40.1105507,
          40.1158162,
          40.0877237618,
          40.1168569,
          40.1067731,
          40.1332077785,
          40.1005214,
          40.1104457,
          40.1127636,
          40.127859,
          40.1177419112,
          40.1278221,
          40.1101985,
          40.1269433,
          40.117237,
          40.1125152,
          40.1365794371,
          40.1080694,
          40.0996476,
          40.115461,
          40.3145097,
          40.1378972,
          40.0994856,
          40.1099022,
          40.086871,
          40.12454,
          40.111322,
          40.0905314,
          40.1123750709,
          40.116761,
          40.1065086,
          40.1161711,
          40.1280566,
          40.1124481,
          40.1961720577,
          40.1205718,
          40.0918386724,
          40.1126462,
          40.0819642,
          40.1055585,
          40.1131849,
          40.1129997,
          40.1168917,
          40.097838,
          40.0975206791,
          40.1107993405,
          40.1124769,
          40.112421,
          40.081594,
          40.1158179,
          40.1057373,
          40.1103799066,
          40.1059233,
          40.1107483422,
          40.0701899852,
          40.116163,
          40.11728,
          40.1183397711,
          40.111951,
          40.0652239,
          40.1957482,
          40.3093759,
          40.1104327,
          40.138507,
          40.1108158,
          40.1420381203,
          40.0920944,
          40.1104616,
          40.0836244,
          40.139841,
          40.0248672,
          40.0706497611,
          40.115755,
          40.1131915,
          40.1269126764,
          40.0736296,
          40.3078436,
          40.106139,
          40.1130999636,
          40.1472094,
          40.1432615061,
          40.1081191,
          40.145043,
          40.0949728803,
          40.0272793,
          40.135722,
          40.3066762,
          40.1100841,
          40.0088287873,
          40.12125533,
          40.3040827569,
          40.1106891,
          40.087815,
          40.1451443,
          40.058973,
          40.0972098875,
          40.0997492,
          40.1194276897,
          40.1100759,
          40.1171306,
          40.0973,
          40.1468187572,
          40.131811,
          40.1585488,
          40.3081995,
          40.3086275,
          40.1128063,
          40.0991265,
          40.1167919,
          40.0959706657,
          40.095434,
          40.1972255,
          40.1329664,
          40.081760817,
          40.0283051526,
          40.1161419,
          40.1166669,
          40.1196855603,
          40.081322,
          40.112655,
          40.1112203703,
          40.108013,
          40.0879260365,
          40.1113654,
          40.110518,
          40.0251139,
          40.1350982,
          40.1442010834,
          40.1461642295,
          40.110518,
          40.1058258,
          40.1077197457,
          40.1105931,
          40.1157165,
          40.1411697423,
          40.3056574251,
          40.1311947,
          40.1189773,
          40.0816433,
          40.1166758,
          40.117932,
          40.0830783812,
          40.0246558276,
          39.98906,
          40.0929568,
          40.1099808,
          40.0237941507,
          40.0833818,
          40.127171,
          40.0984525132,
          40.070305,
          40.025688,
          40.109713,
          40.1095293,
          40.1105528,
          40.139042,
          40.196657487,
          40.1139865,
          40.1165558776,
          40.1425481,
          40.1336703544,
          40.1957401,
          40.0962948,
          40.1373077478,
          40.1103471,
          40.0972527,
          40.1125121,
          40.1290679,
          40.110474,
          40.091901,
          40.1168129,
          40.0865504478,
          40.1104381,
          40.1101577,
          40.1101284,
          40.3103985,
          40.1169816,
          40.1110535,
          40.1105814,
          40.1093708,
          40.118679,
          40.1421056,
          40.1127,
          40.142039,
          40.1134691,
          40.112532,
          40.083399,
          40.0634243532,
          40.070779165,
          40.006778,
          40.1097507,
          40.1105931,
          40.3095677,
          40.129902,
          40.139982,
          40.11301,
          40.0938755447,
          40.112615,
          40.1067362,
          40.1125537,
          40.1963847713,
          40.317181,
          40.1334488,
          40.1175716,
          40.1113775415,
          40.104703,
          40.1163,
          40.1943993308,
          40.1164204,
          40.117278,
          40.1107138379,
          40.110141,
          40.1943631,
          40.1152272,
          40.122452,
          40.1374723,
          40.1067106,
          40.0247314519,
          40.1128225269,
          40.1961644,
          40.117491,
          39.863273,
          40.143257,
          40.101522,
          40.178005,
          40.1138182155,
          40.11043,
          40.11246,
          40.1104062,
          40.1104308,
          40.1092224,
          40.1168537098,
          40.1101907,
          40.1108998121,
          40.13746,
          40.1964072,
          40.1432102493,
          40.191582,
          40.1112668,
          40.1137608,
          40.092351,
          40.1213630592,
          40.0356044068,
          40.1052106,
          40.144955,
          40.1050015,
          40.0974649,
          40.1092811348,
          40.1106537,
          40.1413941,
          40.137698,
          40.1065086,
          40.1183809,
          40.1115531921,
          40.1854262,
          40.119587,
          40.0846950551,
          40.1126019,
          40.1134464,
          40.1067106,
          40.0974664,
          40.1116454162,
          40.1178481689,
          40.1068514924,
          40.1112889,
          40.1087243,
          40.111024,
          40.0712,
          40.1287828,
          40.1286237,
          40.1127199,
          40.1183372538,
          40.12811,
          40.1185309,
          40.1378045,
          40.1104457,
          40.311039,
          40.1068411,
          40.109988,
          40.1049315,
          40.3107249313,
          40.3117922,
          40.1069337808,
          40.1121427,
          40.133549,
          40.1111668574,
          40.1049315,
          40.1069322429,
          40.1431815,
          40.1327076,
          40.0906455272,
          40.1421047,
          40.0733249833,
          40.108833611,
          40.133725,
          40.112390977,
          40.118185,
          40.0973688669,
          40.081594,
          40.1168417,
          40.0590115158,
          40.024442,
          40.0972378,
          40.1094391,
          40.1104889,
          40.0902821733,
          40.086876,
          40.1460326346,
          40.1166758,
          40.136805,
          40.0250554,
          40.1185666238,
          40.116597,
          40.2119444,
          40.124186,
          40.1103355,
          40.0979104613,
          40.0241997,
          40.1133946,
          40.114786,
          40.1175386,
          40.1105984,
          40.117733,
          40.1094131,
          40.312407,
          40.1101088,
          40.1097893,
          40.1185216,
          40.1160086,
          40.1953569,
          40.113786,
          40.096139,
          40.028317,
          40.1170954,
          40.1104086,
          40.0253328,
          40.1104968,
          40.112114,
          40.0980033,
          40.1404083,
          40.1132173068,
          40.11634,
          40.136796,
          40.3087668,
          40.308798,
          40.1202096,
          40.1132039812,
          40.142298,
          40.114051,
          40.1065109,
          40.1032417,
          40.141473691,
          40.0260935,
          40.1112117,
          40.1104701667,
          40.1422324798,
          40.137778,
          40.025688,
          40.1958657,
          40.1157434,
          40.1100643,
          40.0363689,
          40.1124122,
          40.111167,
          40.0831798963,
          40.1103646,
          40.1152246,
          40.196776,
          40.0831795,
          40.1236712033,
          40.09783,
          40.1097629,
          40.115663,
          40.0713235719,
          40.116597,
          40.0916496,
          40.108116,
          40.1110535,
          40.116214,
          40.317117,
          40.083205,
          40.1071261,
          40.1172246,
          40.1949665,
          40.1177712,
          40.069624,
          40.1103747782,
          40.1168476,
          40.1064232,
          40.3067751,
          40.1180128,
          40.1375695808,
          40.1101671,
          40.1375355954,
          40.069644659,
          40.1335154552,
          40.3054069279,
          40.1101271,
          40.1134464,
          40.1185005,
          40.117036,
          40.1101671,
          40.1166491,
          40.1166102,
          40.1104457,
          40.087699,
          40.1384284,
          40.0961489,
          40.098374,
          40.110655,
          40.140347,
          40.102573,
          40.1025734113,
          40.117978,
          39.8002946,
          40.1106376,
          40.1103674315,
          40.112708,
          40.192108,
          40.1099627,
          40.1168476,
          40.1161725,
          40.1106376,
          40.1067106,
          40.108,
          40.1178627014
         ],
         "legendgroup": "",
         "lon": [
          -88.2560426,
          -88.1912166,
          -88.2461558,
          -88.2503601437,
          -88.1428825,
          -88.2217281018,
          -88.247069,
          -88.2044307038,
          -88.246249,
          -88.2041528,
          -88.2432021594,
          -88.0414944,
          -88.567102,
          -88.2301846,
          -88.2391289,
          -88.2306438,
          -88.2461754,
          -88.240511,
          -88.2446583173,
          -88.1381107,
          -88.2059038,
          -88.233253,
          -88.2794573,
          -88.2782405,
          -88.3951619,
          -88.2960518,
          -88.2404819,
          -88.274709,
          -88.245300293,
          -88.278467,
          -88.1778450041,
          -88.2399953,
          -88.2390064,
          -88.2479701689,
          -88.2430189,
          -88.2251981,
          -88.198594898,
          -88.2439537,
          -88.2330726,
          -88.0419443,
          -88.274883,
          -88.241513984,
          -88.2796597,
          -88.2402729,
          -88.2386034,
          -88.2431919,
          -88.2715751,
          -88.2573496356,
          -88.2295377,
          -88.2447937,
          -88.2086039,
          -88.1554787,
          -88.2553386,
          -88.2448316,
          -88.2410371,
          -88.248177,
          -88.233577,
          -88.230602,
          -88.2463655,
          -88.2772195188,
          -87.959619,
          -88.2212475,
          -88.2202894,
          -88.1999274,
          -88.2780062,
          -88.3952219412,
          -88.2774235,
          -88.245879896,
          -88.209562,
          -88.2961397,
          -88.2194246,
          -88.2837312,
          -88.0422169,
          -88.2426766,
          -88.275366,
          -88.2452390296,
          -88.2302236969,
          -88.2737372,
          -88.280002,
          -88.296677,
          -88.2274307,
          -88.2194085,
          -88.2301879674,
          -88.2120315,
          -88.2306316328,
          -88.251285553,
          -88.2197603,
          -88.2038365667,
          -88.0414053025,
          -88.0423837,
          -88.2507519,
          -88.3979284,
          -88.1583124,
          -88.237485,
          -88.243173,
          -88.2291353,
          -88.2441927152,
          -88.2452981,
          -88.2333105,
          -88.2966288,
          -88.258482,
          -88.5740648,
          -88.2489681244,
          -88.232332,
          -88.2083041,
          -88.2572890073,
          -88.2510831,
          -88.17262844,
          -88.221243,
          -88.2858967781,
          -88.25494,
          -88.2547938824,
          -88.2301738,
          -88.260306,
          -88.245852,
          -88.5731024,
          -88.241153,
          -88.174452,
          -88.2296051,
          -88.5763521865,
          -88.2427998586,
          -88.1591145667,
          -88.2318795,
          -88.247965,
          -88.2585174,
          -88.2532119,
          -88.2458299398,
          -88.244739,
          -88.2438507269,
          -88.229804,
          -88.2426005,
          -88.275177,
          -88.259077211,
          -88.258669,
          -88.2762061,
          -88.155194,
          -88.1734807,
          -88.2391787,
          -88.2462073,
          -88.205811,
          -88.257621411,
          -88.246253,
          -88.366312,
          -88.2188183,
          -88.2961581481,
          -88.5783341407,
          -88.2216497,
          -88.2226294,
          -88.2792147123,
          -88.296709,
          -88.2093142,
          -88.2290604075,
          -88.222747,
          -88.1697953554,
          -88.228907,
          -88.2439538,
          -88.5729515,
          -88.2632277,
          -88.2570338622,
          -88.2573525164,
          -88.2439538,
          -88.1951387,
          -88.2436650619,
          -88.2296109,
          -88.1822814,
          -88.2552267717,
          -88.1555513351,
          -88.2575824,
          -88.2442721,
          -88.2959913,
          -88.229763,
          -88.2810949,
          -88.1892026096,
          -88.0731402908,
          -88.2624359,
          -88.2460042,
          -88.2314369,
          -88.5743495822,
          -88.1905185,
          -88.257965,
          -88.2442462116,
          -88.249625,
          -88.5731549,
          -88.2317829,
          -88.2302634,
          -88.2366073,
          -88.258619,
          -88.3959178407,
          -88.2029151,
          -88.2420127724,
          -88.2427717,
          -88.1625332782,
          -88.3979244,
          -88.1920978,
          -88.2400815226,
          -88.2494055,
          -88.2768244,
          -88.2804412,
          -88.2583071,
          -88.233544,
          -88.245362,
          -88.2427527,
          -88.2469860629,
          -88.2384162,
          -88.2294649,
          -88.2292884,
          -88.1576889,
          -88.2426671,
          -88.2441408,
          -88.2314749,
          -88.2308592,
          -88.244834,
          -88.2572022,
          -88.2838,
          -88.244042,
          -88.2074338,
          -88.2815084,
          -88.296606,
          -88.2950162888,
          -88.251749561,
          -88.158218,
          -88.2274293,
          -88.2296109,
          -88.1561669,
          -88.258313,
          -88.244168,
          -87.9549274,
          -88.2377565934,
          -88.211391,
          -88.2236159,
          -88.2113465,
          -88.3980202674,
          -88.3498269,
          -88.1995086,
          -88.2433569,
          -88.2304946461,
          -88.227208,
          -88.211,
          -88.4000693634,
          -88.2433829,
          -88.203156,
          -88.2430895568,
          -88.231874,
          -88.4003347,
          -88.2384169,
          -88.2440267,
          -88.2586063,
          -88.2217516,
          -88.5726846514,
          -88.2090229914,
          -88.3647192,
          -88.243875,
          -88.1607372,
          -88.256006,
          -88.24448,
          -88.240266,
          -88.2076892527,
          -88.229836,
          -88.278196,
          -88.227563,
          -88.2326799,
          -88.231551,
          -88.2406103611,
          -88.229701,
          -88.22563460800001,
          -88.258572,
          -88.3993684,
          -88.2519266565,
          -88.401872,
          -88.229192,
          -88.2088348,
          -88.246124,
          -88.2775497437,
          -87.9583024912,
          -88.2439082,
          -88.257228,
          -88.1925224,
          -88.190285,
          -88.2313949615,
          -88.2074643,
          -88.2584758,
          -88.260784,
          -88.2212475,
          -88.2429963,
          -88.0419235229,
          -88.3682081,
          -88.27748,
          -88.2462913487,
          -88.2740859,
          -88.2030631,
          -88.2217516,
          -88.2769858,
          -87.9590088889,
          -88.2451191659,
          -88.2236856091,
          -88.2305908,
          -88.2315754,
          -88.197063,
          -88.2487,
          -88.1977574,
          -88.2766444,
          -88.2085029,
          -88.2437766095,
          -88.27974,
          -88.2448176,
          -88.2596923,
          -88.2330726,
          -88.1570602,
          -88.2218579,
          -88.240506,
          -88.224759,
          -88.1563934488,
          -88.1255162,
          -88.2219887897,
          -88.2080353,
          -88.260065,
          -88.2305980101,
          -88.224759,
          -88.2234063715,
          -88.2591336,
          -88.2611369,
          -88.2477702837,
          -88.2584758,
          -88.2508354715,
          -88.2435071468,
          -88.260627,
          -88.2898121712,
          -88.27761,
          -88.1911993667,
          -88.1887718,
          -88.206665,
          -88.2522375155,
          -88.571378,
          -88.2757788,
          -88.2306035,
          -88.2306324,
          -88.246343316,
          -88.248053,
          -88.2585361671,
          -88.229763,
          -88.257355,
          -88.5730835,
          -88.2432330386,
          -88.242292,
          -88.5057385,
          -88.2004984,
          -88.2379969,
          -88.2938878146,
          -88.5719136,
          -88.0414094,
          -88.2384767,
          -88.243133,
          -88.2290979,
          -88.2439031,
          -88.2271693,
          -88.039695,
          -88.2323072,
          -88.2408101,
          -88.2685325,
          -88.2328539,
          -88.4258636,
          -88.243041,
          -88.245141,
          -88.574491,
          -88.2432992,
          -88.2389546,
          -88.5734094,
          -88.2311706,
          -88.241292,
          -88.1927509,
          -88.2573124766,
          -88.2831241065,
          -88.22085,
          -88.245076,
          -88.1742806,
          -88.173072,
          -88.2772715,
          -88.2031739193,
          -88.249537,
          -88.277009,
          -88.2218027,
          -88.2441637,
          -88.2520852472,
          -88.5727816,
          -88.2290795,
          -88.2294295728,
          -88.2446145825,
          -88.261075,
          -88.5731549,
          -88.399785,
          -88.241201,
          -88.229494,
          -87.9589608,
          -88.2573353,
          -88.230671,
          -88.2643084814,
          -88.2316647,
          -88.2081494,
          -88.396111,
          -88.2646946,
          -88.2006709278,
          -88.24837,
          -88.2408378,
          -88.182324,
          -88.2517381982,
          -88.220285,
          -88.2480830823,
          -88.2300156,
          -88.2441408,
          -88.207915,
          -88.349905,
          -88.264459,
          -88.243912,
          -88.2051296,
          -88.4039723,
          -88.2046857,
          -88.249764,
          -88.2306922227,
          -88.2070456,
          -88.2236145,
          -88.1554787,
          -88.0413139,
          -88.2430710516,
          -88.2329249,
          -88.2444405556,
          -88.2517614046,
          -88.2595691326,
          -88.1580140017,
          -88.2292118,
          -88.2030631,
          -88.2449807,
          -88.243355,
          -88.2329249,
          -88.2253879,
          -88.2412504,
          -88.2330726,
          -88.247455,
          -88.2586279,
          -88.2453958,
          -88.295072,
          -88.242885,
          -88.2583868,
          -88.276899,
          -88.277292841,
          -88.240271,
          -88.2895915,
          -88.2324833,
          -88.2306395688,
          -88.209446,
          -88.400262,
          -88.2351409,
          -88.2070456,
          -88.2086633,
          -88.2324833,
          -88.2217516,
          -88.222501,
          -88.2433013916
         ],
         "marker": {
          "color": "fuchsia"
         },
         "mode": "markers",
         "name": "",
         "showlegend": false,
         "subplot": "mapbox",
         "type": "scattermapbox"
        }
       ],
       "layout": {
        "height": 300,
        "legend": {
         "tracegroupgap": 0
        },
        "mapbox": {
         "center": {
          "lat": 40.12056876175753,
          "lon": -88.24815671698184
         },
         "domain": {
          "x": [
           0,
           1
          ],
          "y": [
           0,
           1
          ]
         },
         "style": "open-street-map",
         "zoom": 3
        },
        "margin": {
         "b": 0,
         "l": 0,
         "r": 0,
         "t": 0
        },
        "template": {
         "data": {
          "bar": [
           {
            "error_x": {
             "color": "#2a3f5f"
            },
            "error_y": {
             "color": "#2a3f5f"
            },
            "marker": {
             "line": {
              "color": "#E5ECF6",
              "width": 0.5
             }
            },
            "type": "bar"
           }
          ],
          "barpolar": [
           {
            "marker": {
             "line": {
              "color": "#E5ECF6",
              "width": 0.5
             }
            },
            "type": "barpolar"
           }
          ],
          "carpet": [
           {
            "aaxis": {
             "endlinecolor": "#2a3f5f",
             "gridcolor": "white",
             "linecolor": "white",
             "minorgridcolor": "white",
             "startlinecolor": "#2a3f5f"
            },
            "baxis": {
             "endlinecolor": "#2a3f5f",
             "gridcolor": "white",
             "linecolor": "white",
             "minorgridcolor": "white",
             "startlinecolor": "#2a3f5f"
            },
            "type": "carpet"
           }
          ],
          "choropleth": [
           {
            "colorbar": {
             "outlinewidth": 0,
             "ticks": ""
            },
            "type": "choropleth"
           }
          ],
          "contour": [
           {
            "colorbar": {
             "outlinewidth": 0,
             "ticks": ""
            },
            "colorscale": [
             [
              0,
              "#0d0887"
             ],
             [
              0.1111111111111111,
              "#46039f"
             ],
             [
              0.2222222222222222,
              "#7201a8"
             ],
             [
              0.3333333333333333,
              "#9c179e"
             ],
             [
              0.4444444444444444,
              "#bd3786"
             ],
             [
              0.5555555555555556,
              "#d8576b"
             ],
             [
              0.6666666666666666,
              "#ed7953"
             ],
             [
              0.7777777777777778,
              "#fb9f3a"
             ],
             [
              0.8888888888888888,
              "#fdca26"
             ],
             [
              1,
              "#f0f921"
             ]
            ],
            "type": "contour"
           }
          ],
          "contourcarpet": [
           {
            "colorbar": {
             "outlinewidth": 0,
             "ticks": ""
            },
            "type": "contourcarpet"
           }
          ],
          "heatmap": [
           {
            "colorbar": {
             "outlinewidth": 0,
             "ticks": ""
            },
            "colorscale": [
             [
              0,
              "#0d0887"
             ],
             [
              0.1111111111111111,
              "#46039f"
             ],
             [
              0.2222222222222222,
              "#7201a8"
             ],
             [
              0.3333333333333333,
              "#9c179e"
             ],
             [
              0.4444444444444444,
              "#bd3786"
             ],
             [
              0.5555555555555556,
              "#d8576b"
             ],
             [
              0.6666666666666666,
              "#ed7953"
             ],
             [
              0.7777777777777778,
              "#fb9f3a"
             ],
             [
              0.8888888888888888,
              "#fdca26"
             ],
             [
              1,
              "#f0f921"
             ]
            ],
            "type": "heatmap"
           }
          ],
          "heatmapgl": [
           {
            "colorbar": {
             "outlinewidth": 0,
             "ticks": ""
            },
            "colorscale": [
             [
              0,
              "#0d0887"
             ],
             [
              0.1111111111111111,
              "#46039f"
             ],
             [
              0.2222222222222222,
              "#7201a8"
             ],
             [
              0.3333333333333333,
              "#9c179e"
             ],
             [
              0.4444444444444444,
              "#bd3786"
             ],
             [
              0.5555555555555556,
              "#d8576b"
             ],
             [
              0.6666666666666666,
              "#ed7953"
             ],
             [
              0.7777777777777778,
              "#fb9f3a"
             ],
             [
              0.8888888888888888,
              "#fdca26"
             ],
             [
              1,
              "#f0f921"
             ]
            ],
            "type": "heatmapgl"
           }
          ],
          "histogram": [
           {
            "marker": {
             "colorbar": {
              "outlinewidth": 0,
              "ticks": ""
             }
            },
            "type": "histogram"
           }
          ],
          "histogram2d": [
           {
            "colorbar": {
             "outlinewidth": 0,
             "ticks": ""
            },
            "colorscale": [
             [
              0,
              "#0d0887"
             ],
             [
              0.1111111111111111,
              "#46039f"
             ],
             [
              0.2222222222222222,
              "#7201a8"
             ],
             [
              0.3333333333333333,
              "#9c179e"
             ],
             [
              0.4444444444444444,
              "#bd3786"
             ],
             [
              0.5555555555555556,
              "#d8576b"
             ],
             [
              0.6666666666666666,
              "#ed7953"
             ],
             [
              0.7777777777777778,
              "#fb9f3a"
             ],
             [
              0.8888888888888888,
              "#fdca26"
             ],
             [
              1,
              "#f0f921"
             ]
            ],
            "type": "histogram2d"
           }
          ],
          "histogram2dcontour": [
           {
            "colorbar": {
             "outlinewidth": 0,
             "ticks": ""
            },
            "colorscale": [
             [
              0,
              "#0d0887"
             ],
             [
              0.1111111111111111,
              "#46039f"
             ],
             [
              0.2222222222222222,
              "#7201a8"
             ],
             [
              0.3333333333333333,
              "#9c179e"
             ],
             [
              0.4444444444444444,
              "#bd3786"
             ],
             [
              0.5555555555555556,
              "#d8576b"
             ],
             [
              0.6666666666666666,
              "#ed7953"
             ],
             [
              0.7777777777777778,
              "#fb9f3a"
             ],
             [
              0.8888888888888888,
              "#fdca26"
             ],
             [
              1,
              "#f0f921"
             ]
            ],
            "type": "histogram2dcontour"
           }
          ],
          "mesh3d": [
           {
            "colorbar": {
             "outlinewidth": 0,
             "ticks": ""
            },
            "type": "mesh3d"
           }
          ],
          "parcoords": [
           {
            "line": {
             "colorbar": {
              "outlinewidth": 0,
              "ticks": ""
             }
            },
            "type": "parcoords"
           }
          ],
          "pie": [
           {
            "automargin": true,
            "type": "pie"
           }
          ],
          "scatter": [
           {
            "marker": {
             "colorbar": {
              "outlinewidth": 0,
              "ticks": ""
             }
            },
            "type": "scatter"
           }
          ],
          "scatter3d": [
           {
            "line": {
             "colorbar": {
              "outlinewidth": 0,
              "ticks": ""
             }
            },
            "marker": {
             "colorbar": {
              "outlinewidth": 0,
              "ticks": ""
             }
            },
            "type": "scatter3d"
           }
          ],
          "scattercarpet": [
           {
            "marker": {
             "colorbar": {
              "outlinewidth": 0,
              "ticks": ""
             }
            },
            "type": "scattercarpet"
           }
          ],
          "scattergeo": [
           {
            "marker": {
             "colorbar": {
              "outlinewidth": 0,
              "ticks": ""
             }
            },
            "type": "scattergeo"
           }
          ],
          "scattergl": [
           {
            "marker": {
             "colorbar": {
              "outlinewidth": 0,
              "ticks": ""
             }
            },
            "type": "scattergl"
           }
          ],
          "scattermapbox": [
           {
            "marker": {
             "colorbar": {
              "outlinewidth": 0,
              "ticks": ""
             }
            },
            "type": "scattermapbox"
           }
          ],
          "scatterpolar": [
           {
            "marker": {
             "colorbar": {
              "outlinewidth": 0,
              "ticks": ""
             }
            },
            "type": "scatterpolar"
           }
          ],
          "scatterpolargl": [
           {
            "marker": {
             "colorbar": {
              "outlinewidth": 0,
              "ticks": ""
             }
            },
            "type": "scatterpolargl"
           }
          ],
          "scatterternary": [
           {
            "marker": {
             "colorbar": {
              "outlinewidth": 0,
              "ticks": ""
             }
            },
            "type": "scatterternary"
           }
          ],
          "surface": [
           {
            "colorbar": {
             "outlinewidth": 0,
             "ticks": ""
            },
            "colorscale": [
             [
              0,
              "#0d0887"
             ],
             [
              0.1111111111111111,
              "#46039f"
             ],
             [
              0.2222222222222222,
              "#7201a8"
             ],
             [
              0.3333333333333333,
              "#9c179e"
             ],
             [
              0.4444444444444444,
              "#bd3786"
             ],
             [
              0.5555555555555556,
              "#d8576b"
             ],
             [
              0.6666666666666666,
              "#ed7953"
             ],
             [
              0.7777777777777778,
              "#fb9f3a"
             ],
             [
              0.8888888888888888,
              "#fdca26"
             ],
             [
              1,
              "#f0f921"
             ]
            ],
            "type": "surface"
           }
          ],
          "table": [
           {
            "cells": {
             "fill": {
              "color": "#EBF0F8"
             },
             "line": {
              "color": "white"
             }
            },
            "header": {
             "fill": {
              "color": "#C8D4E3"
             },
             "line": {
              "color": "white"
             }
            },
            "type": "table"
           }
          ]
         },
         "layout": {
          "annotationdefaults": {
           "arrowcolor": "#2a3f5f",
           "arrowhead": 0,
           "arrowwidth": 1
          },
          "coloraxis": {
           "colorbar": {
            "outlinewidth": 0,
            "ticks": ""
           }
          },
          "colorscale": {
           "diverging": [
            [
             0,
             "#8e0152"
            ],
            [
             0.1,
             "#c51b7d"
            ],
            [
             0.2,
             "#de77ae"
            ],
            [
             0.3,
             "#f1b6da"
            ],
            [
             0.4,
             "#fde0ef"
            ],
            [
             0.5,
             "#f7f7f7"
            ],
            [
             0.6,
             "#e6f5d0"
            ],
            [
             0.7,
             "#b8e186"
            ],
            [
             0.8,
             "#7fbc41"
            ],
            [
             0.9,
             "#4d9221"
            ],
            [
             1,
             "#276419"
            ]
           ],
           "sequential": [
            [
             0,
             "#0d0887"
            ],
            [
             0.1111111111111111,
             "#46039f"
            ],
            [
             0.2222222222222222,
             "#7201a8"
            ],
            [
             0.3333333333333333,
             "#9c179e"
            ],
            [
             0.4444444444444444,
             "#bd3786"
            ],
            [
             0.5555555555555556,
             "#d8576b"
            ],
            [
             0.6666666666666666,
             "#ed7953"
            ],
            [
             0.7777777777777778,
             "#fb9f3a"
            ],
            [
             0.8888888888888888,
             "#fdca26"
            ],
            [
             1,
             "#f0f921"
            ]
           ],
           "sequentialminus": [
            [
             0,
             "#0d0887"
            ],
            [
             0.1111111111111111,
             "#46039f"
            ],
            [
             0.2222222222222222,
             "#7201a8"
            ],
            [
             0.3333333333333333,
             "#9c179e"
            ],
            [
             0.4444444444444444,
             "#bd3786"
            ],
            [
             0.5555555555555556,
             "#d8576b"
            ],
            [
             0.6666666666666666,
             "#ed7953"
            ],
            [
             0.7777777777777778,
             "#fb9f3a"
            ],
            [
             0.8888888888888888,
             "#fdca26"
            ],
            [
             1,
             "#f0f921"
            ]
           ]
          },
          "colorway": [
           "#636efa",
           "#EF553B",
           "#00cc96",
           "#ab63fa",
           "#FFA15A",
           "#19d3f3",
           "#FF6692",
           "#B6E880",
           "#FF97FF",
           "#FECB52"
          ],
          "font": {
           "color": "#2a3f5f"
          },
          "geo": {
           "bgcolor": "white",
           "lakecolor": "white",
           "landcolor": "#E5ECF6",
           "showlakes": true,
           "showland": true,
           "subunitcolor": "white"
          },
          "hoverlabel": {
           "align": "left"
          },
          "hovermode": "closest",
          "mapbox": {
           "style": "light"
          },
          "paper_bgcolor": "white",
          "plot_bgcolor": "#E5ECF6",
          "polar": {
           "angularaxis": {
            "gridcolor": "white",
            "linecolor": "white",
            "ticks": ""
           },
           "bgcolor": "#E5ECF6",
           "radialaxis": {
            "gridcolor": "white",
            "linecolor": "white",
            "ticks": ""
           }
          },
          "scene": {
           "xaxis": {
            "backgroundcolor": "#E5ECF6",
            "gridcolor": "white",
            "gridwidth": 2,
            "linecolor": "white",
            "showbackground": true,
            "ticks": "",
            "zerolinecolor": "white"
           },
           "yaxis": {
            "backgroundcolor": "#E5ECF6",
            "gridcolor": "white",
            "gridwidth": 2,
            "linecolor": "white",
            "showbackground": true,
            "ticks": "",
            "zerolinecolor": "white"
           },
           "zaxis": {
            "backgroundcolor": "#E5ECF6",
            "gridcolor": "white",
            "gridwidth": 2,
            "linecolor": "white",
            "showbackground": true,
            "ticks": "",
            "zerolinecolor": "white"
           }
          },
          "shapedefaults": {
           "line": {
            "color": "#2a3f5f"
           }
          },
          "ternary": {
           "aaxis": {
            "gridcolor": "white",
            "linecolor": "white",
            "ticks": ""
           },
           "baxis": {
            "gridcolor": "white",
            "linecolor": "white",
            "ticks": ""
           },
           "bgcolor": "#E5ECF6",
           "caxis": {
            "gridcolor": "white",
            "linecolor": "white",
            "ticks": ""
           }
          },
          "title": {
           "x": 0.05
          },
          "xaxis": {
           "automargin": true,
           "gridcolor": "white",
           "linecolor": "white",
           "ticks": "",
           "title": {
            "standoff": 15
           },
           "zerolinecolor": "white",
           "zerolinewidth": 2
          },
          "yaxis": {
           "automargin": true,
           "gridcolor": "white",
           "linecolor": "white",
           "ticks": "",
           "title": {
            "standoff": 15
           },
           "zerolinecolor": "white",
           "zerolinewidth": 2
          }
         }
        }
       }
      },
      "text/html": [
       "<div>\n",
       "        \n",
       "        \n",
       "            <div id=\"9f1cb710-ac5b-4f14-b904-24ff81de3af5\" class=\"plotly-graph-div\" style=\"height:300px; width:100%;\"></div>\n",
       "            <script type=\"text/javascript\">\n",
       "                require([\"plotly\"], function(Plotly) {\n",
       "                    window.PLOTLYENV=window.PLOTLYENV || {};\n",
       "                    \n",
       "                if (document.getElementById(\"9f1cb710-ac5b-4f14-b904-24ff81de3af5\")) {\n",
       "                    Plotly.newPlot(\n",
       "                        '9f1cb710-ac5b-4f14-b904-24ff81de3af5',\n",
       "                        [{\"hoverlabel\": {\"namelength\": 0}, \"hovertemplate\": \"<b>%{hovertext}</b><br><br>latitude=%{lat}<br>longitude=%{lon}\", \"hovertext\": [\"Champaign\", \"Urbana\", \"Champaign\", \"Champaign\", \"Rantoul\", \"Urbana\", \"Champaign\", \"Urbana\", \"Champaign\", \"Urbana\", \"Champaign\", \"Saint Joseph\", \"Monticello\", \"Champaign\", \"Champaign\", \"Champaign\", \"Champaign\", \"Champaign\", \"Champaign\", \"Rantoul\", \"Urbana\", \"Champaign\", \"Champaign\", \"Champaign\", \"Mahomet\", \"Champaign\", \"Champaign\", \"Champaign\", \"Champaign\", \"Champaign\", \"Rantoul\", \"Champaign\", \"Champaign\", \"Champaign\", \"Champaign\", \"Urbana\", \"Urbana\", \"Champaign\", \"Champaign\", \"Saint Joseph\", \"Champaign\", \"Champaign\", \"Champaign\", \"Champaign\", \"Champaign\", \"Champaign\", \"Champaign\", \"Champaign\", \"Champaign\", \"Champaign\", \"Urbana\", \"Rantoul\", \"Champaign\", \"Champaign\", \"Champaign\", \"Champaign\", \"Champaign\", \"Champaign\", \"Champaign\", \"Champaign\", \"Ogden\", \"Urbana\", \"Urbana\", \"Urbana\", \"Champaign\", \"Mahomet\", \"Champaign\", \"Champaign\", \"Urbana\", \"Champaign\", \"Urbana\", \"Champaign\", \"Saint Joseph\", \"Champaign\", \"Champaign\", \"Champaign\", \"Urbana\", \"Champaign\", \"Champaign\", \"Champaign\", \"Urbana\", \"Urbana\", \"Champaign\", \"Urbana\", \"Champaign\", \"Savoy\", \"Urbana\", \"Urbana\", \"Saint Joseph\", \"St Joseph\", \"Savoy\", \"Mahomet\", \"Rantoul\", \"Champaign\", \"Champaign\", \"Champaign\", \"Champaign\", \"Champaign\", \"Champaign\", \"Champaign\", \"Champaign\", \"Monticello\", \"Savoy\", \"Champaign\", \"Urbana\", \"Champaign\", \"Savoy\", \"Rantoul\", \"Urbana\", \"Champaign\", \"Champaign\", \"Champaign\", \"Champaign\", \"Champaign\", \"Champaign\", \"Monticello\", \"Champaign\", \"Rantoul\", \"Champaign\", \"Monticello\", \"Champaign\", \"Rantoul\", \"Champaign\", \"Champaign\", \"Champaign\", \"Savoy\", \"Champaign\", \"Champaign\", \"Champaign\", \"Champaign\", \"Champaign\", \"Champaign\", \"Champaign\", \"Champaign\", \"Champaign\", \"Rantoul\", \"Rantoul\", \"Champaign\", \"Champaign\", \"Urbana\", \"Champaign\", \"Champaign\", \"Mahomet\", \"Urbana\", \"Champaign\", \"Monticello\", \"Urbana\", \"Urbana\", \"Champaign\", \"Champaign\", \"Urbana\", \"Champaign\", \"Urbana\", \"Urbana\", \"Champaign\", \"Champaign\", \"Monticello\", \"Champaign\", \"Champaign\", \"Champaign\", \"Champaign\", \"Urbana\", \"Champaign\", \"Champaign\", \"Urbana\", \"Champaign\", \"Rantoul\", \"Champaign\", \"Champaign\", \"Champaign\", \"Champaign\", \"Champaign\", \"Urbana\", \"Sidney\", \"Tolono\", \"Champaign\", \"Champaign\", \"Monticello\", \"Urbana\", \"Champaign\", \"Champaign\", \"Savoy\", \"Monticello\", \"Champaign\", \"Champaign\", \"Champaign\", \"Champaign\", \"Mahomet\", \"Urbana\", \"Champaign\", \"Champaign\", \"Urbana\", \"Mahomet\", \"Urbana\", \"Champaign\", \"Champaign\", \"Champaign\", \"Champaign\", \"Champaign\", \"Champaign\", \"Champaign\", \"Champaign\", \"Champaign\", \"Champaign\", \"Champaign\", \"Champaign\", \"Rantoul\", \"Champaign\", \"Champaign\", \"Champaign\", \"Champaign\", \"Champaign\", \"Champaign\", \"Champaign\", \"Champaign\", \"Urbana\", \"Champaign\", \"Champaign\", \"Champaign\", \"Savoy\", \"Philo\", \"Urbana\", \"Champaign\", \"Rantoul\", \"Champaign\", \"Champaign\", \"Ogden\", \"Champaign\", \"Urbana\", \"Urbana\", \"Urbana\", \"Mahomet\", \"Fisher\", \"Urbana\", \"Champaign\", \"Champaign\", \"Urbana\", \"Urbana\", \"Mahomet\", \"Champaign\", \"Urbana\", \"Champaign\", \"Champaign\", \"Mahomet\", \"Champaign\", \"Champaign\", \"Champaign\", \"Urbana\", \"Monticello\", \"Urbana\", \"Mahomet\", \"Champaign\", \"Villa Grove\", \"Champaign\", \"Champaign\", \"Champaign\", \"Urbana\", \"Champaign\", \"Champaign\", \"Urbana\", \"Champaign\", \"Champaign\", \"Champaign\", \"Champaign\", \"Urbana\", \"Champaign\", \"Mahomet\", \"Champaign\", \"Mahomet\", \"Champaign\", \"Urbana\", \"Champaign\", \"Champaign\", \"Homer\", \"Champaign\", \"Champaign\", \"Urbana\", \"Urbana\", \"Champaign\", \"Urbana\", \"Champaign\", \"Champaign\", \"Urbana\", \"Champaign\", \"Saint Joseph\", \"Mahomet\", \"Champaign\", \"Champaign\", \"Champaign\", \"Urbana\", \"Urbana\", \"Champaign\", \"Ogden\", \"Champaign\", \"Urbana\", \"Champaign\", \"Champaign\", \"Urbana\", \"Savoy\", \"Urbana\", \"Champaign\", \"Urbana\", \"Champaign\", \"Champaign\", \"Champaign\", \"Champaign\", \"Champaign\", \"Rantoul\", \"Urbana\", \"Champaign\", \"Urbana\", \"Rantoul\", \"Rantoul\", \"Urbana\", \"Urbana\", \"Champaign\", \"Champaign\", \"Urbana\", \"Urbana\", \"Champaign\", \"Champaign\", \"Champaign\", \"Champaign\", \"Savoy\", \"Champaign\", \"Champaign\", \"Champaign\", \"Champaign\", \"Urbana\", \"Urbana\", \"Urbana\", \"Savoy\", \"Monticello\", \"Champaign\", \"Champaign\", \"Champaign\", \"Champaign\", \"Champaign\", \"Champaign\", \"Champaign\", \"Champaign\", \"Monticello\", \"Champaign\", \"Champaign\", \"Mansfield\", \"Urbana\", \"Champaign\", \"Champaign\", \"Monticello\", \"Saint Joseph\", \"Champaign\", \"Champaign\", \"Champaign\", \"Champaign\", \"Urbana\", \"Gifford\", \"Champaign\", \"Champaign\", \"Champaign\", \"Champaign\", \"Mahomet\", \"Champaign\", \"Champaign\", \"Monticello\", \"Champaign\", \"Champaign\", \"Monticello\", \"Champaign\", \"Champaign\", \"Urbana\", \"Champaign\", \"Champaign\", \"Urbana\", \"Champaign\", \"Rantoul\", \"Rantoul\", \"Champaign\", \"Urbana\", \"Champaign\", \"Champaign\", \"Urbana\", \"Champaign\", \"Champaign\", \"Monticello\", \"Champaign\", \"Champaign\", \"Champaign\", \"Champaign\", \"Monticello\", \"Mahomet\", \"Champaign\", \"Champaign\", \"Homer\", \"Champaign\", \"Champaign\", \"Champaign\", \"Champaign\", \"Urbana\", \"Mahomet\", \"Champaign\", \"Urbana\", \"Champaign\", \"Champaign\", \"Urbana\", \"Savoy\", \"Urbana\", \"Champaign\", \"Champaign\", \"Champaign\", \"Urbana\", \"Fisher\", \"Champaign\", \"Champaign\", \"Urbana\", \"Mahomet\", \"Urbana\", \"Savoy\", \"Champaign\", \"Urbana\", \"Urbana\", \"Rantoul\", \"Saint Joseph\", \"Champaign\", \"Champaign\", \"Champaign\", \"Savoy\", \"Champaign\", \"Rantoul\", \"Champaign\", \"Urbana\", \"Champaign\", \"Champaign\", \"Champaign\", \"Urbana\", \"Champaign\", \"Champaign\", \"Champaign\", \"Champaign\", \"Champaign\", \"Champaign\", \"Champaign\", \"Champaign\", \"Champaign\", \"Champaign\", \"Champaign\", \"Tuscola\", \"Champaign\", \"Champaign\", \"Urbana\", \"Mahomet\", \"Champaign\", \"Urbana\", \"Urbana\", \"Champaign\", \"Urbana\", \"Urbana\", \"Champaign\"], \"lat\": [40.13727, 40.0976392, 40.1150169, 40.14166846, 40.3112989, 40.106822678, 40.098735, 40.1182515363, 40.141131, 40.1186429, 40.1154721496, 40.1112277, 40.049686, 40.110832, 40.1111448, 40.1107271, 40.0854477, 40.112846, 40.1392818536, 40.313236, 40.11771, 40.110008, 40.1124216, 40.118884, 40.1961495, 40.0818267, 40.1097873, 40.0975748, 40.1375274658, 40.112702, 40.30798092, 40.1105507, 40.1158162, 40.0877237618, 40.1168569, 40.1067731, 40.1332077785, 40.1005214, 40.1104457, 40.1127636, 40.127859, 40.1177419112, 40.1278221, 40.1101985, 40.1269433, 40.117237, 40.1125152, 40.1365794371, 40.1080694, 40.0996476, 40.115461, 40.3145097, 40.1378972, 40.0994856, 40.1099022, 40.086871, 40.12454, 40.111322, 40.0905314, 40.1123750709, 40.116761, 40.1065086, 40.1161711, 40.1280566, 40.1124481, 40.1961720577, 40.1205718, 40.0918386724, 40.1126462, 40.0819642, 40.1055585, 40.1131849, 40.1129997, 40.1168917, 40.097838, 40.0975206791, 40.1107993405, 40.1124769, 40.112421, 40.081594, 40.1158179, 40.1057373, 40.1103799066, 40.1059233, 40.1107483422, 40.0701899852, 40.116163, 40.11728, 40.1183397711, 40.111951, 40.0652239, 40.1957482, 40.3093759, 40.1104327, 40.138507, 40.1108158, 40.1420381203, 40.0920944, 40.1104616, 40.0836244, 40.139841, 40.0248672, 40.0706497611, 40.115755, 40.1131915, 40.1269126764, 40.0736296, 40.3078436, 40.106139, 40.1130999636, 40.1472094, 40.1432615061, 40.1081191, 40.145043, 40.0949728803, 40.0272793, 40.135722, 40.3066762, 40.1100841, 40.0088287873, 40.12125533, 40.3040827569, 40.1106891, 40.087815, 40.1451443, 40.058973, 40.0972098875, 40.0997492, 40.1194276897, 40.1100759, 40.1171306, 40.0973, 40.1468187572, 40.131811, 40.1585488, 40.3081995, 40.3086275, 40.1128063, 40.0991265, 40.1167919, 40.0959706657, 40.095434, 40.1972255, 40.1329664, 40.081760817, 40.0283051526, 40.1161419, 40.1166669, 40.1196855603, 40.081322, 40.112655, 40.1112203703, 40.108013, 40.0879260365, 40.1113654, 40.110518, 40.0251139, 40.1350982, 40.1442010834, 40.1461642295, 40.110518, 40.1058258, 40.1077197457, 40.1105931, 40.1157165, 40.1411697423, 40.3056574251, 40.1311947, 40.1189773, 40.0816433, 40.1166758, 40.117932, 40.0830783812, 40.0246558276, 39.98906, 40.0929568, 40.1099808, 40.0237941507, 40.0833818, 40.127171, 40.0984525132, 40.070305, 40.025688, 40.109713, 40.1095293, 40.1105528, 40.139042, 40.196657487, 40.1139865, 40.1165558776, 40.1425481, 40.1336703544, 40.1957401, 40.0962948, 40.1373077478, 40.1103471, 40.0972527, 40.1125121, 40.1290679, 40.110474, 40.091901, 40.1168129, 40.0865504478, 40.1104381, 40.1101577, 40.1101284, 40.3103985, 40.1169816, 40.1110535, 40.1105814, 40.1093708, 40.118679, 40.1421056, 40.1127, 40.142039, 40.1134691, 40.112532, 40.083399, 40.0634243532, 40.070779165, 40.006778, 40.1097507, 40.1105931, 40.3095677, 40.129902, 40.139982, 40.11301, 40.0938755447, 40.112615, 40.1067362, 40.1125537, 40.1963847713, 40.317181, 40.1334488, 40.1175716, 40.1113775415, 40.104703, 40.1163, 40.1943993308, 40.1164204, 40.117278, 40.1107138379, 40.110141, 40.1943631, 40.1152272, 40.122452, 40.1374723, 40.1067106, 40.0247314519, 40.1128225269, 40.1961644, 40.117491, 39.863273, 40.143257, 40.101522, 40.178005, 40.1138182155, 40.11043, 40.11246, 40.1104062, 40.1104308, 40.1092224, 40.1168537098, 40.1101907, 40.1108998121, 40.13746, 40.1964072, 40.1432102493, 40.191582, 40.1112668, 40.1137608, 40.092351, 40.1213630592, 40.0356044068, 40.1052106, 40.144955, 40.1050015, 40.0974649, 40.1092811348, 40.1106537, 40.1413941, 40.137698, 40.1065086, 40.1183809, 40.1115531921, 40.1854262, 40.119587, 40.0846950551, 40.1126019, 40.1134464, 40.1067106, 40.0974664, 40.1116454162, 40.1178481689, 40.1068514924, 40.1112889, 40.1087243, 40.111024, 40.0712, 40.1287828, 40.1286237, 40.1127199, 40.1183372538, 40.12811, 40.1185309, 40.1378045, 40.1104457, 40.311039, 40.1068411, 40.109988, 40.1049315, 40.3107249313, 40.3117922, 40.1069337808, 40.1121427, 40.133549, 40.1111668574, 40.1049315, 40.1069322429, 40.1431815, 40.1327076, 40.0906455272, 40.1421047, 40.0733249833, 40.108833611, 40.133725, 40.112390977, 40.118185, 40.0973688669, 40.081594, 40.1168417, 40.0590115158, 40.024442, 40.0972378, 40.1094391, 40.1104889, 40.0902821733, 40.086876, 40.1460326346, 40.1166758, 40.136805, 40.0250554, 40.1185666238, 40.116597, 40.2119444, 40.124186, 40.1103355, 40.0979104613, 40.0241997, 40.1133946, 40.114786, 40.1175386, 40.1105984, 40.117733, 40.1094131, 40.312407, 40.1101088, 40.1097893, 40.1185216, 40.1160086, 40.1953569, 40.113786, 40.096139, 40.028317, 40.1170954, 40.1104086, 40.0253328, 40.1104968, 40.112114, 40.0980033, 40.1404083, 40.1132173068, 40.11634, 40.136796, 40.3087668, 40.308798, 40.1202096, 40.1132039812, 40.142298, 40.114051, 40.1065109, 40.1032417, 40.141473691, 40.0260935, 40.1112117, 40.1104701667, 40.1422324798, 40.137778, 40.025688, 40.1958657, 40.1157434, 40.1100643, 40.0363689, 40.1124122, 40.111167, 40.0831798963, 40.1103646, 40.1152246, 40.196776, 40.0831795, 40.1236712033, 40.09783, 40.1097629, 40.115663, 40.0713235719, 40.116597, 40.0916496, 40.108116, 40.1110535, 40.116214, 40.317117, 40.083205, 40.1071261, 40.1172246, 40.1949665, 40.1177712, 40.069624, 40.1103747782, 40.1168476, 40.1064232, 40.3067751, 40.1180128, 40.1375695808, 40.1101671, 40.1375355954, 40.069644659, 40.1335154552, 40.3054069279, 40.1101271, 40.1134464, 40.1185005, 40.117036, 40.1101671, 40.1166491, 40.1166102, 40.1104457, 40.087699, 40.1384284, 40.0961489, 40.098374, 40.110655, 40.140347, 40.102573, 40.1025734113, 40.117978, 39.8002946, 40.1106376, 40.1103674315, 40.112708, 40.192108, 40.1099627, 40.1168476, 40.1161725, 40.1106376, 40.1067106, 40.108, 40.1178627014], \"legendgroup\": \"\", \"lon\": [-88.2560426, -88.1912166, -88.2461558, -88.2503601437, -88.1428825, -88.2217281018, -88.247069, -88.2044307038, -88.246249, -88.2041528, -88.2432021594, -88.0414944, -88.567102, -88.2301846, -88.2391289, -88.2306438, -88.2461754, -88.240511, -88.2446583173, -88.1381107, -88.2059038, -88.233253, -88.2794573, -88.2782405, -88.3951619, -88.2960518, -88.2404819, -88.274709, -88.245300293, -88.278467, -88.1778450041, -88.2399953, -88.2390064, -88.2479701689, -88.2430189, -88.2251981, -88.198594898, -88.2439537, -88.2330726, -88.0419443, -88.274883, -88.241513984, -88.2796597, -88.2402729, -88.2386034, -88.2431919, -88.2715751, -88.2573496356, -88.2295377, -88.2447937, -88.2086039, -88.1554787, -88.2553386, -88.2448316, -88.2410371, -88.248177, -88.233577, -88.230602, -88.2463655, -88.2772195188, -87.959619, -88.2212475, -88.2202894, -88.1999274, -88.2780062, -88.3952219412, -88.2774235, -88.245879896, -88.209562, -88.2961397, -88.2194246, -88.2837312, -88.0422169, -88.2426766, -88.275366, -88.2452390296, -88.2302236969, -88.2737372, -88.280002, -88.296677, -88.2274307, -88.2194085, -88.2301879674, -88.2120315, -88.2306316328, -88.251285553, -88.2197603, -88.2038365667, -88.0414053025, -88.0423837, -88.2507519, -88.3979284, -88.1583124, -88.237485, -88.243173, -88.2291353, -88.2441927152, -88.2452981, -88.2333105, -88.2966288, -88.258482, -88.5740648, -88.2489681244, -88.232332, -88.2083041, -88.2572890073, -88.2510831, -88.17262844, -88.221243, -88.2858967781, -88.25494, -88.2547938824, -88.2301738, -88.260306, -88.245852, -88.5731024, -88.241153, -88.174452, -88.2296051, -88.5763521865, -88.2427998586, -88.1591145667, -88.2318795, -88.247965, -88.2585174, -88.2532119, -88.2458299398, -88.244739, -88.2438507269, -88.229804, -88.2426005, -88.275177, -88.259077211, -88.258669, -88.2762061, -88.155194, -88.1734807, -88.2391787, -88.2462073, -88.205811, -88.257621411, -88.246253, -88.366312, -88.2188183, -88.2961581481, -88.5783341407, -88.2216497, -88.2226294, -88.2792147123, -88.296709, -88.2093142, -88.2290604075, -88.222747, -88.1697953554, -88.228907, -88.2439538, -88.5729515, -88.2632277, -88.2570338622, -88.2573525164, -88.2439538, -88.1951387, -88.2436650619, -88.2296109, -88.1822814, -88.2552267717, -88.1555513351, -88.2575824, -88.2442721, -88.2959913, -88.229763, -88.2810949, -88.1892026096, -88.0731402908, -88.2624359, -88.2460042, -88.2314369, -88.5743495822, -88.1905185, -88.257965, -88.2442462116, -88.249625, -88.5731549, -88.2317829, -88.2302634, -88.2366073, -88.258619, -88.3959178407, -88.2029151, -88.2420127724, -88.2427717, -88.1625332782, -88.3979244, -88.1920978, -88.2400815226, -88.2494055, -88.2768244, -88.2804412, -88.2583071, -88.233544, -88.245362, -88.2427527, -88.2469860629, -88.2384162, -88.2294649, -88.2292884, -88.1576889, -88.2426671, -88.2441408, -88.2314749, -88.2308592, -88.244834, -88.2572022, -88.2838, -88.244042, -88.2074338, -88.2815084, -88.296606, -88.2950162888, -88.251749561, -88.158218, -88.2274293, -88.2296109, -88.1561669, -88.258313, -88.244168, -87.9549274, -88.2377565934, -88.211391, -88.2236159, -88.2113465, -88.3980202674, -88.3498269, -88.1995086, -88.2433569, -88.2304946461, -88.227208, -88.211, -88.4000693634, -88.2433829, -88.203156, -88.2430895568, -88.231874, -88.4003347, -88.2384169, -88.2440267, -88.2586063, -88.2217516, -88.5726846514, -88.2090229914, -88.3647192, -88.243875, -88.1607372, -88.256006, -88.24448, -88.240266, -88.2076892527, -88.229836, -88.278196, -88.227563, -88.2326799, -88.231551, -88.2406103611, -88.229701, -88.22563460800001, -88.258572, -88.3993684, -88.2519266565, -88.401872, -88.229192, -88.2088348, -88.246124, -88.2775497437, -87.9583024912, -88.2439082, -88.257228, -88.1925224, -88.190285, -88.2313949615, -88.2074643, -88.2584758, -88.260784, -88.2212475, -88.2429963, -88.0419235229, -88.3682081, -88.27748, -88.2462913487, -88.2740859, -88.2030631, -88.2217516, -88.2769858, -87.9590088889, -88.2451191659, -88.2236856091, -88.2305908, -88.2315754, -88.197063, -88.2487, -88.1977574, -88.2766444, -88.2085029, -88.2437766095, -88.27974, -88.2448176, -88.2596923, -88.2330726, -88.1570602, -88.2218579, -88.240506, -88.224759, -88.1563934488, -88.1255162, -88.2219887897, -88.2080353, -88.260065, -88.2305980101, -88.224759, -88.2234063715, -88.2591336, -88.2611369, -88.2477702837, -88.2584758, -88.2508354715, -88.2435071468, -88.260627, -88.2898121712, -88.27761, -88.1911993667, -88.1887718, -88.206665, -88.2522375155, -88.571378, -88.2757788, -88.2306035, -88.2306324, -88.246343316, -88.248053, -88.2585361671, -88.229763, -88.257355, -88.5730835, -88.2432330386, -88.242292, -88.5057385, -88.2004984, -88.2379969, -88.2938878146, -88.5719136, -88.0414094, -88.2384767, -88.243133, -88.2290979, -88.2439031, -88.2271693, -88.039695, -88.2323072, -88.2408101, -88.2685325, -88.2328539, -88.4258636, -88.243041, -88.245141, -88.574491, -88.2432992, -88.2389546, -88.5734094, -88.2311706, -88.241292, -88.1927509, -88.2573124766, -88.2831241065, -88.22085, -88.245076, -88.1742806, -88.173072, -88.2772715, -88.2031739193, -88.249537, -88.277009, -88.2218027, -88.2441637, -88.2520852472, -88.5727816, -88.2290795, -88.2294295728, -88.2446145825, -88.261075, -88.5731549, -88.399785, -88.241201, -88.229494, -87.9589608, -88.2573353, -88.230671, -88.2643084814, -88.2316647, -88.2081494, -88.396111, -88.2646946, -88.2006709278, -88.24837, -88.2408378, -88.182324, -88.2517381982, -88.220285, -88.2480830823, -88.2300156, -88.2441408, -88.207915, -88.349905, -88.264459, -88.243912, -88.2051296, -88.4039723, -88.2046857, -88.249764, -88.2306922227, -88.2070456, -88.2236145, -88.1554787, -88.0413139, -88.2430710516, -88.2329249, -88.2444405556, -88.2517614046, -88.2595691326, -88.1580140017, -88.2292118, -88.2030631, -88.2449807, -88.243355, -88.2329249, -88.2253879, -88.2412504, -88.2330726, -88.247455, -88.2586279, -88.2453958, -88.295072, -88.242885, -88.2583868, -88.276899, -88.277292841, -88.240271, -88.2895915, -88.2324833, -88.2306395688, -88.209446, -88.400262, -88.2351409, -88.2070456, -88.2086633, -88.2324833, -88.2217516, -88.222501, -88.2433013916], \"marker\": {\"color\": \"fuchsia\"}, \"mode\": \"markers\", \"name\": \"\", \"showlegend\": false, \"subplot\": \"mapbox\", \"type\": \"scattermapbox\"}],\n",
       "                        {\"height\": 300, \"legend\": {\"tracegroupgap\": 0}, \"mapbox\": {\"center\": {\"lat\": 40.12056876175753, \"lon\": -88.24815671698184}, \"domain\": {\"x\": [0.0, 1.0], \"y\": [0.0, 1.0]}, \"style\": \"open-street-map\", \"zoom\": 3}, \"margin\": {\"b\": 0, \"l\": 0, \"r\": 0, \"t\": 0}, \"template\": {\"data\": {\"bar\": [{\"error_x\": {\"color\": \"#2a3f5f\"}, \"error_y\": {\"color\": \"#2a3f5f\"}, \"marker\": {\"line\": {\"color\": \"#E5ECF6\", \"width\": 0.5}}, \"type\": \"bar\"}], \"barpolar\": [{\"marker\": {\"line\": {\"color\": \"#E5ECF6\", \"width\": 0.5}}, \"type\": \"barpolar\"}], \"carpet\": [{\"aaxis\": {\"endlinecolor\": \"#2a3f5f\", \"gridcolor\": \"white\", \"linecolor\": \"white\", \"minorgridcolor\": \"white\", \"startlinecolor\": \"#2a3f5f\"}, \"baxis\": {\"endlinecolor\": \"#2a3f5f\", \"gridcolor\": \"white\", \"linecolor\": \"white\", \"minorgridcolor\": \"white\", \"startlinecolor\": \"#2a3f5f\"}, \"type\": \"carpet\"}], \"choropleth\": [{\"colorbar\": {\"outlinewidth\": 0, \"ticks\": \"\"}, \"type\": \"choropleth\"}], \"contour\": [{\"colorbar\": {\"outlinewidth\": 0, \"ticks\": \"\"}, \"colorscale\": [[0.0, \"#0d0887\"], [0.1111111111111111, \"#46039f\"], [0.2222222222222222, \"#7201a8\"], [0.3333333333333333, \"#9c179e\"], [0.4444444444444444, \"#bd3786\"], [0.5555555555555556, \"#d8576b\"], [0.6666666666666666, \"#ed7953\"], [0.7777777777777778, \"#fb9f3a\"], [0.8888888888888888, \"#fdca26\"], [1.0, \"#f0f921\"]], \"type\": \"contour\"}], \"contourcarpet\": [{\"colorbar\": {\"outlinewidth\": 0, \"ticks\": \"\"}, \"type\": \"contourcarpet\"}], \"heatmap\": [{\"colorbar\": {\"outlinewidth\": 0, \"ticks\": \"\"}, \"colorscale\": [[0.0, \"#0d0887\"], [0.1111111111111111, \"#46039f\"], [0.2222222222222222, \"#7201a8\"], [0.3333333333333333, \"#9c179e\"], [0.4444444444444444, \"#bd3786\"], [0.5555555555555556, \"#d8576b\"], [0.6666666666666666, \"#ed7953\"], [0.7777777777777778, \"#fb9f3a\"], [0.8888888888888888, \"#fdca26\"], [1.0, \"#f0f921\"]], \"type\": \"heatmap\"}], \"heatmapgl\": [{\"colorbar\": {\"outlinewidth\": 0, \"ticks\": \"\"}, \"colorscale\": [[0.0, \"#0d0887\"], [0.1111111111111111, \"#46039f\"], [0.2222222222222222, \"#7201a8\"], [0.3333333333333333, \"#9c179e\"], [0.4444444444444444, \"#bd3786\"], [0.5555555555555556, \"#d8576b\"], [0.6666666666666666, \"#ed7953\"], [0.7777777777777778, \"#fb9f3a\"], [0.8888888888888888, \"#fdca26\"], [1.0, \"#f0f921\"]], \"type\": \"heatmapgl\"}], \"histogram\": [{\"marker\": {\"colorbar\": {\"outlinewidth\": 0, \"ticks\": \"\"}}, \"type\": \"histogram\"}], \"histogram2d\": [{\"colorbar\": {\"outlinewidth\": 0, \"ticks\": \"\"}, \"colorscale\": [[0.0, \"#0d0887\"], [0.1111111111111111, \"#46039f\"], [0.2222222222222222, \"#7201a8\"], [0.3333333333333333, \"#9c179e\"], [0.4444444444444444, \"#bd3786\"], [0.5555555555555556, \"#d8576b\"], [0.6666666666666666, \"#ed7953\"], [0.7777777777777778, \"#fb9f3a\"], [0.8888888888888888, \"#fdca26\"], [1.0, \"#f0f921\"]], \"type\": \"histogram2d\"}], \"histogram2dcontour\": [{\"colorbar\": {\"outlinewidth\": 0, \"ticks\": \"\"}, \"colorscale\": [[0.0, \"#0d0887\"], [0.1111111111111111, \"#46039f\"], [0.2222222222222222, \"#7201a8\"], [0.3333333333333333, \"#9c179e\"], [0.4444444444444444, \"#bd3786\"], [0.5555555555555556, \"#d8576b\"], [0.6666666666666666, \"#ed7953\"], [0.7777777777777778, \"#fb9f3a\"], [0.8888888888888888, \"#fdca26\"], [1.0, \"#f0f921\"]], \"type\": \"histogram2dcontour\"}], \"mesh3d\": [{\"colorbar\": {\"outlinewidth\": 0, \"ticks\": \"\"}, \"type\": \"mesh3d\"}], \"parcoords\": [{\"line\": {\"colorbar\": {\"outlinewidth\": 0, \"ticks\": \"\"}}, \"type\": \"parcoords\"}], \"pie\": [{\"automargin\": true, \"type\": \"pie\"}], \"scatter\": [{\"marker\": {\"colorbar\": {\"outlinewidth\": 0, \"ticks\": \"\"}}, \"type\": \"scatter\"}], \"scatter3d\": [{\"line\": {\"colorbar\": {\"outlinewidth\": 0, \"ticks\": \"\"}}, \"marker\": {\"colorbar\": {\"outlinewidth\": 0, \"ticks\": \"\"}}, \"type\": \"scatter3d\"}], \"scattercarpet\": [{\"marker\": {\"colorbar\": {\"outlinewidth\": 0, \"ticks\": \"\"}}, \"type\": \"scattercarpet\"}], \"scattergeo\": [{\"marker\": {\"colorbar\": {\"outlinewidth\": 0, \"ticks\": \"\"}}, \"type\": \"scattergeo\"}], \"scattergl\": [{\"marker\": {\"colorbar\": {\"outlinewidth\": 0, \"ticks\": \"\"}}, \"type\": \"scattergl\"}], \"scattermapbox\": [{\"marker\": {\"colorbar\": {\"outlinewidth\": 0, \"ticks\": \"\"}}, \"type\": \"scattermapbox\"}], \"scatterpolar\": [{\"marker\": {\"colorbar\": {\"outlinewidth\": 0, \"ticks\": \"\"}}, \"type\": \"scatterpolar\"}], \"scatterpolargl\": [{\"marker\": {\"colorbar\": {\"outlinewidth\": 0, \"ticks\": \"\"}}, \"type\": \"scatterpolargl\"}], \"scatterternary\": [{\"marker\": {\"colorbar\": {\"outlinewidth\": 0, \"ticks\": \"\"}}, \"type\": \"scatterternary\"}], \"surface\": [{\"colorbar\": {\"outlinewidth\": 0, \"ticks\": \"\"}, \"colorscale\": [[0.0, \"#0d0887\"], [0.1111111111111111, \"#46039f\"], [0.2222222222222222, \"#7201a8\"], [0.3333333333333333, \"#9c179e\"], [0.4444444444444444, \"#bd3786\"], [0.5555555555555556, \"#d8576b\"], [0.6666666666666666, \"#ed7953\"], [0.7777777777777778, \"#fb9f3a\"], [0.8888888888888888, \"#fdca26\"], [1.0, \"#f0f921\"]], \"type\": \"surface\"}], \"table\": [{\"cells\": {\"fill\": {\"color\": \"#EBF0F8\"}, \"line\": {\"color\": \"white\"}}, \"header\": {\"fill\": {\"color\": \"#C8D4E3\"}, \"line\": {\"color\": \"white\"}}, \"type\": \"table\"}]}, \"layout\": {\"annotationdefaults\": {\"arrowcolor\": \"#2a3f5f\", \"arrowhead\": 0, \"arrowwidth\": 1}, \"coloraxis\": {\"colorbar\": {\"outlinewidth\": 0, \"ticks\": \"\"}}, \"colorscale\": {\"diverging\": [[0, \"#8e0152\"], [0.1, \"#c51b7d\"], [0.2, \"#de77ae\"], [0.3, \"#f1b6da\"], [0.4, \"#fde0ef\"], [0.5, \"#f7f7f7\"], [0.6, \"#e6f5d0\"], [0.7, \"#b8e186\"], [0.8, \"#7fbc41\"], [0.9, \"#4d9221\"], [1, \"#276419\"]], \"sequential\": [[0.0, \"#0d0887\"], [0.1111111111111111, \"#46039f\"], [0.2222222222222222, \"#7201a8\"], [0.3333333333333333, \"#9c179e\"], [0.4444444444444444, \"#bd3786\"], [0.5555555555555556, \"#d8576b\"], [0.6666666666666666, \"#ed7953\"], [0.7777777777777778, \"#fb9f3a\"], [0.8888888888888888, \"#fdca26\"], [1.0, \"#f0f921\"]], \"sequentialminus\": [[0.0, \"#0d0887\"], [0.1111111111111111, \"#46039f\"], [0.2222222222222222, \"#7201a8\"], [0.3333333333333333, \"#9c179e\"], [0.4444444444444444, \"#bd3786\"], [0.5555555555555556, \"#d8576b\"], [0.6666666666666666, \"#ed7953\"], [0.7777777777777778, \"#fb9f3a\"], [0.8888888888888888, \"#fdca26\"], [1.0, \"#f0f921\"]]}, \"colorway\": [\"#636efa\", \"#EF553B\", \"#00cc96\", \"#ab63fa\", \"#FFA15A\", \"#19d3f3\", \"#FF6692\", \"#B6E880\", \"#FF97FF\", \"#FECB52\"], \"font\": {\"color\": \"#2a3f5f\"}, \"geo\": {\"bgcolor\": \"white\", \"lakecolor\": \"white\", \"landcolor\": \"#E5ECF6\", \"showlakes\": true, \"showland\": true, \"subunitcolor\": \"white\"}, \"hoverlabel\": {\"align\": \"left\"}, \"hovermode\": \"closest\", \"mapbox\": {\"style\": \"light\"}, \"paper_bgcolor\": \"white\", \"plot_bgcolor\": \"#E5ECF6\", \"polar\": {\"angularaxis\": {\"gridcolor\": \"white\", \"linecolor\": \"white\", \"ticks\": \"\"}, \"bgcolor\": \"#E5ECF6\", \"radialaxis\": {\"gridcolor\": \"white\", \"linecolor\": \"white\", \"ticks\": \"\"}}, \"scene\": {\"xaxis\": {\"backgroundcolor\": \"#E5ECF6\", \"gridcolor\": \"white\", \"gridwidth\": 2, \"linecolor\": \"white\", \"showbackground\": true, \"ticks\": \"\", \"zerolinecolor\": \"white\"}, \"yaxis\": {\"backgroundcolor\": \"#E5ECF6\", \"gridcolor\": \"white\", \"gridwidth\": 2, \"linecolor\": \"white\", \"showbackground\": true, \"ticks\": \"\", \"zerolinecolor\": \"white\"}, \"zaxis\": {\"backgroundcolor\": \"#E5ECF6\", \"gridcolor\": \"white\", \"gridwidth\": 2, \"linecolor\": \"white\", \"showbackground\": true, \"ticks\": \"\", \"zerolinecolor\": \"white\"}}, \"shapedefaults\": {\"line\": {\"color\": \"#2a3f5f\"}}, \"ternary\": {\"aaxis\": {\"gridcolor\": \"white\", \"linecolor\": \"white\", \"ticks\": \"\"}, \"baxis\": {\"gridcolor\": \"white\", \"linecolor\": \"white\", \"ticks\": \"\"}, \"bgcolor\": \"#E5ECF6\", \"caxis\": {\"gridcolor\": \"white\", \"linecolor\": \"white\", \"ticks\": \"\"}}, \"title\": {\"x\": 0.05}, \"xaxis\": {\"automargin\": true, \"gridcolor\": \"white\", \"linecolor\": \"white\", \"ticks\": \"\", \"title\": {\"standoff\": 15}, \"zerolinecolor\": \"white\", \"zerolinewidth\": 2}, \"yaxis\": {\"automargin\": true, \"gridcolor\": \"white\", \"linecolor\": \"white\", \"ticks\": \"\", \"title\": {\"standoff\": 15}, \"zerolinecolor\": \"white\", \"zerolinewidth\": 2}}}},\n",
       "                        {\"responsive\": true}\n",
       "                    ).then(function(){\n",
       "                            \n",
       "var gd = document.getElementById('9f1cb710-ac5b-4f14-b904-24ff81de3af5');\n",
       "var x = new MutationObserver(function (mutations, observer) {{\n",
       "        var display = window.getComputedStyle(gd).display;\n",
       "        if (!display || display === 'none') {{\n",
       "            console.log([gd, 'removed!']);\n",
       "            Plotly.purge(gd);\n",
       "            observer.disconnect();\n",
       "        }}\n",
       "}});\n",
       "\n",
       "// Listen for the removal of the full notebook cells\n",
       "var notebookContainer = gd.closest('#notebook-container');\n",
       "if (notebookContainer) {{\n",
       "    x.observe(notebookContainer, {childList: true});\n",
       "}}\n",
       "\n",
       "// Listen for the clearing of the current output cell\n",
       "var outputEl = gd.closest('.output');\n",
       "if (outputEl) {{\n",
       "    x.observe(outputEl, {childList: true});\n",
       "}}\n",
       "\n",
       "                        })\n",
       "                };\n",
       "                });\n",
       "            </script>\n",
       "        </div>"
      ]
     },
     "metadata": {},
     "output_type": "display_data"
    }
   ],
   "source": [
    "\n",
    "# city_il = business_in_IL.city.value_counts()\n",
    "# city_il = city_il.to_frame().reset_index()\n",
    "# city['latitude'] = business_in_IL[]\n",
    "# city_il.columns = ['City', 'Counts']\n",
    "\n",
    "fig = px.scatter_mapbox(business_in_IL, lat=\"latitude\", lon=\"longitude\", hover_name=\"city\", color_discrete_sequence=[\"fuchsia\"], zoom=3, height=300)\n",
    "fig.update_layout(mapbox_style='open-street-map')\n",
    "fig.update_layout(margin={\"r\":0,\"t\":0,\"l\":0,\"b\":0})\n",
    "fig.show()"
   ]
  },
  {
   "cell_type": "code",
   "execution_count": 28,
   "metadata": {},
   "outputs": [],
   "source": [
    "city_il = business_in_IL.city.value_counts()\n",
    "city_il = city_il.to_frame().reset_index()\n",
    "city_il.columns = ['City', 'Counts']\n",
    "# labels = list(city_il.City)\n",
    "# sizes = list(city_il.Counts)\n",
    "# fig = plt.figure(figsize=(20,10))\n",
    "# ax = fig.add_subplot(111)\n",
    "# plt.pie(sizes, labels=labels, autopct='%1.1f%%', startangle=90)\n",
    "# plt.axis('equal')\n",
    "# plt.show()"
   ]
  },
  {
   "cell_type": "code",
   "execution_count": 29,
   "metadata": {},
   "outputs": [],
   "source": [
    "### Focusing on the stars achieved by the businesses\n"
   ]
  },
  {
   "cell_type": "code",
   "execution_count": 30,
   "metadata": {},
   "outputs": [],
   "source": [
    "# #Get the distribution of the ratings\n",
    "# x=business['stars'].value_counts()\n",
    "# x=x.sort_index()\n",
    "# #plot\n",
    "# plt.figure(figsize=(8,4))\n",
    "# ax= sns.barplot(x.index, x.values, alpha=0.8)\n",
    "# plt.title(\"Star Rating Distribution\")\n",
    "# plt.ylabel('# of businesses', fontsize=12)\n",
    "# plt.xlabel('Star Ratings ', fontsize=12)\n",
    "\n",
    "# #adding the text labels\n",
    "# rects = ax.patches\n",
    "# labels = x.values\n",
    "# for rect, label in zip(rects, labels):\n",
    "#     height = rect.get_height()\n",
    "#     ax.text(rect.get_x() + rect.get_width()/2, height + 5, label, ha='center', va='bottom')\n",
    "\n",
    "# plt.show()"
   ]
  },
  {
   "cell_type": "markdown",
   "metadata": {},
   "source": [
    "###  Distribuiton of restaurant business in Illinois"
   ]
  },
  {
   "cell_type": "code",
   "execution_count": 31,
   "metadata": {},
   "outputs": [
    {
     "data": {
      "image/png": "[encoded data removed]",
      "text/plain": [
       "<Figure size 1440x720 with 1 Axes>"
      ]
     },
     "metadata": {
      "needs_background": "light"
     },
     "output_type": "display_data"
    }
   ],
   "source": [
    "fig = plt.figure(figsize=(20,10))\n",
    "ax = fig.add_subplot(111)\n",
    "plt.bar(city_il.City, city_il.Counts, align = 'center', alpha = 1)\n",
    "plt.xlabel(\"City\")\n",
    "plt.ylabel(\"Counts\")\n",
    "plt.show()"
   ]
  },
  {
   "cell_type": "code",
   "execution_count": 32,
   "metadata": {},
   "outputs": [
    {
     "data": {
      "text/plain": [
       "{'WiFi': \"u'no'\",\n",
       " 'RestaurantsReservations': 'False',\n",
       " 'NoiseLevel': \"u'average'\",\n",
       " 'GoodForKids': 'True',\n",
       " 'BusinessParking': \"{'garage': False, 'street': False, 'validated': False, 'lot': True, 'valet': False}\",\n",
       " 'Caters': 'False',\n",
       " 'Ambience': \"{'touristy': False, 'hipster': False, 'romantic': False, 'divey': False, 'intimate': False, 'trendy': False, 'upscale': False, 'classy': False, 'casual': True}\",\n",
       " 'GoodForMeal': \"{'dessert': False, 'latenight': False, 'lunch': False, 'dinner': True, 'brunch': False, 'breakfast': False}\",\n",
       " 'BusinessAcceptsCreditCards': 'True',\n",
       " 'OutdoorSeating': 'False',\n",
       " 'RestaurantsTakeOut': 'True',\n",
       " 'RestaurantsDelivery': 'False',\n",
       " 'Alcohol': \"u'full_bar'\",\n",
       " 'RestaurantsPriceRange2': '2',\n",
       " 'RestaurantsGoodForGroups': 'True',\n",
       " 'BikeParking': 'False',\n",
       " 'RestaurantsAttire': \"'casual'\",\n",
       " 'HasTV': 'False'}"
      ]
     },
     "execution_count": 32,
     "metadata": {},
     "output_type": "execute_result"
    }
   ],
   "source": [
    "business_in_IL.attributes[0]"
   ]
  },
  {
   "cell_type": "markdown",
   "metadata": {},
   "source": [
    "### Now we will check which all Restaurants got 5-star ratings and how much"
   ]
  },
  {
   "cell_type": "code",
   "execution_count": 33,
   "metadata": {},
   "outputs": [],
   "source": [
    "reviews = []\n",
    "with open(os.path.join(os.getcwd(), 'review.json'),encoding=\"utf8\") as f:\n",
    "    for line in f:\n",
    "        reviews.append(json.loads(line))"
   ]
  },
  {
   "cell_type": "code",
   "execution_count": 34,
   "metadata": {},
   "outputs": [],
   "source": [
    "reviews = pd.DataFrame(reviews)"
   ]
  },
  {
   "cell_type": "code",
   "execution_count": 35,
   "metadata": {},
   "outputs": [],
   "source": [
    "business_ratings = pd.merge(business_in_IL, reviews[['review_id', 'business_id', 'stars']], on = 'business_id', how = 'left')"
   ]
  },
  {
   "cell_type": "code",
   "execution_count": 36,
   "metadata": {},
   "outputs": [],
   "source": [
    "Five_star = business_ratings[business_ratings['stars_y'] == 5.0]"
   ]
  },
  {
   "cell_type": "code",
   "execution_count": 37,
   "metadata": {},
   "outputs": [],
   "source": [
    "Five_star_order = Five_star.name.value_counts()"
   ]
  },
  {
   "cell_type": "code",
   "execution_count": 38,
   "metadata": {},
   "outputs": [],
   "source": [
    "Five_star_order = Five_star_order.to_frame().reset_index()\n",
    "Five_star_order.columns = ['Restaurant', 'Counts']\n"
   ]
  },
  {
   "cell_type": "code",
   "execution_count": 39,
   "metadata": {},
   "outputs": [
    {
     "data": {
      "text/html": [
       "<div>\n",
       "<style scoped>\n",
       "    .dataframe tbody tr th:only-of-type {\n",
       "        vertical-align: middle;\n",
       "    }\n",
       "\n",
       "    .dataframe tbody tr th {\n",
       "        vertical-align: top;\n",
       "    }\n",
       "\n",
       "    .dataframe thead th {\n",
       "        text-align: right;\n",
       "    }\n",
       "</style>\n",
       "<table border=\"1\" class=\"dataframe\">\n",
       "  <thead>\n",
       "    <tr style=\"text-align: right;\">\n",
       "      <th></th>\n",
       "      <th>Restaurant</th>\n",
       "      <th>Counts</th>\n",
       "    </tr>\n",
       "  </thead>\n",
       "  <tbody>\n",
       "    <tr>\n",
       "      <td>9</td>\n",
       "      <td>Huaraches Moroleon</td>\n",
       "      <td>121</td>\n",
       "    </tr>\n",
       "    <tr>\n",
       "      <td>8</td>\n",
       "      <td>Courier Cafe</td>\n",
       "      <td>126</td>\n",
       "    </tr>\n",
       "    <tr>\n",
       "      <td>7</td>\n",
       "      <td>Seven Saints</td>\n",
       "      <td>127</td>\n",
       "    </tr>\n",
       "    <tr>\n",
       "      <td>6</td>\n",
       "      <td>Farren's Pub &amp; Eatery</td>\n",
       "      <td>128</td>\n",
       "    </tr>\n",
       "    <tr>\n",
       "      <td>5</td>\n",
       "      <td>Papa Del's Pizza</td>\n",
       "      <td>141</td>\n",
       "    </tr>\n",
       "    <tr>\n",
       "      <td>4</td>\n",
       "      <td>Sakanaya</td>\n",
       "      <td>232</td>\n",
       "    </tr>\n",
       "    <tr>\n",
       "      <td>3</td>\n",
       "      <td>DESTIHL Restaurant &amp; Brew Works</td>\n",
       "      <td>243</td>\n",
       "    </tr>\n",
       "    <tr>\n",
       "      <td>2</td>\n",
       "      <td>Golden Harbor Authentic Chinese Cuisine</td>\n",
       "      <td>246</td>\n",
       "    </tr>\n",
       "    <tr>\n",
       "      <td>1</td>\n",
       "      <td>Maize Mexican Grill</td>\n",
       "      <td>350</td>\n",
       "    </tr>\n",
       "    <tr>\n",
       "      <td>0</td>\n",
       "      <td>Black Dog Smoke &amp; Ale House</td>\n",
       "      <td>668</td>\n",
       "    </tr>\n",
       "  </tbody>\n",
       "</table>\n",
       "</div>"
      ],
      "text/plain": [
       "                                Restaurant  Counts\n",
       "9                       Huaraches Moroleon     121\n",
       "8                             Courier Cafe     126\n",
       "7                             Seven Saints     127\n",
       "6                    Farren's Pub & Eatery     128\n",
       "5                         Papa Del's Pizza     141\n",
       "4                                 Sakanaya     232\n",
       "3          DESTIHL Restaurant & Brew Works     243\n",
       "2  Golden Harbor Authentic Chinese Cuisine     246\n",
       "1                      Maize Mexican Grill     350\n",
       "0              Black Dog Smoke & Ale House     668"
      ]
     },
     "execution_count": 39,
     "metadata": {},
     "output_type": "execute_result"
    }
   ],
   "source": [
    "Five_star_order = Five_star_order.head(10)\n",
    "Five_star_order = Five_star_order.sort_values(['Counts'], ascending = True)\n",
    "Five_star_order"
   ]
  },
  {
   "cell_type": "code",
   "execution_count": 40,
   "metadata": {},
   "outputs": [
    {
     "data": {
      "image/png": "[encoded data removed]",
      "text/plain": [
       "<Figure size 1440x720 with 1 Axes>"
      ]
     },
     "metadata": {
      "needs_background": "light"
     },
     "output_type": "display_data"
    }
   ],
   "source": [
    "fig = plt.figure(figsize = (20,10))\n",
    "ax = fig.add_subplot(111)\n",
    "plt.barh(Five_star_order.Restaurant, Five_star_order.Counts, align = 'center', alpha = 1)\n",
    "plt.ylabel('Restaurant name')\n",
    "plt.xlabel('Number of 5 star ratings')\n",
    "plt.show()"
   ]
  },
  {
   "cell_type": "markdown",
   "metadata": {},
   "source": [
    "### We can deduce  Black Dog Smoke & Ale House got the highest amount of 5-star ratings."
   ]
  },
  {
   "cell_type": "code",
   "execution_count": 39,
   "metadata": {},
   "outputs": [
    {
     "data": {
      "text/plain": [
       "Index(['review_id', 'user_id', 'business_id', 'stars', 'useful', 'funny',\n",
       "       'cool', 'text', 'date'],\n",
       "      dtype='object')"
      ]
     },
     "execution_count": 39,
     "metadata": {},
     "output_type": "execute_result"
    }
   ],
   "source": [
    "reviews.columns"
   ]
  },
  {
   "cell_type": "code",
   "execution_count": 40,
   "metadata": {},
   "outputs": [
    {
     "data": {
      "text/html": [
       "<div>\n",
       "<style scoped>\n",
       "    .dataframe tbody tr th:only-of-type {\n",
       "        vertical-align: middle;\n",
       "    }\n",
       "\n",
       "    .dataframe tbody tr th {\n",
       "        vertical-align: top;\n",
       "    }\n",
       "\n",
       "    .dataframe thead th {\n",
       "        text-align: right;\n",
       "    }\n",
       "</style>\n",
       "<table border=\"1\" class=\"dataframe\">\n",
       "  <thead>\n",
       "    <tr style=\"text-align: right;\">\n",
       "      <th></th>\n",
       "      <th>review_id</th>\n",
       "      <th>user_id</th>\n",
       "      <th>business_id</th>\n",
       "      <th>stars</th>\n",
       "      <th>useful</th>\n",
       "      <th>funny</th>\n",
       "      <th>cool</th>\n",
       "      <th>text</th>\n",
       "      <th>date</th>\n",
       "    </tr>\n",
       "  </thead>\n",
       "  <tbody>\n",
       "    <tr>\n",
       "      <td>3333982</td>\n",
       "      <td>x20Vhj5qcBbW-08vEbFHOw</td>\n",
       "      <td>lg1UvP-7KLtjSdxbFbt3Aw</td>\n",
       "      <td>9MnbQg7kfb_WgxoV0hXKSQ</td>\n",
       "      <td>5.0</td>\n",
       "      <td>0</td>\n",
       "      <td>0</td>\n",
       "      <td>1</td>\n",
       "      <td>This place is without a doubt, the BEST BBQ IN...</td>\n",
       "      <td>2011-10-27 15:48:15</td>\n",
       "    </tr>\n",
       "    <tr>\n",
       "      <td>3334583</td>\n",
       "      <td>BUxau3CCZwnfPZrBt3vK0Q</td>\n",
       "      <td>Jd__AkH8jPv9wN6bfmTW1A</td>\n",
       "      <td>9MnbQg7kfb_WgxoV0hXKSQ</td>\n",
       "      <td>5.0</td>\n",
       "      <td>1</td>\n",
       "      <td>0</td>\n",
       "      <td>0</td>\n",
       "      <td>Excellence BBQ.  Applesauce and green beans as...</td>\n",
       "      <td>2018-02-24 02:32:05</td>\n",
       "    </tr>\n",
       "    <tr>\n",
       "      <td>3335733</td>\n",
       "      <td>2h1BHzhitC9ktYXcTfNqfA</td>\n",
       "      <td>dYAhuu1xauHTh-uhwnMcQw</td>\n",
       "      <td>9MnbQg7kfb_WgxoV0hXKSQ</td>\n",
       "      <td>4.0</td>\n",
       "      <td>0</td>\n",
       "      <td>0</td>\n",
       "      <td>0</td>\n",
       "      <td>Beer flights and food were amazing here!!  We ...</td>\n",
       "      <td>2011-04-22 02:16:21</td>\n",
       "    </tr>\n",
       "    <tr>\n",
       "      <td>3335926</td>\n",
       "      <td>KGHDKrH6ptbvhTJ7NTdQSQ</td>\n",
       "      <td>eEbdbw_Tt6FvqB0Lv_03GA</td>\n",
       "      <td>9MnbQg7kfb_WgxoV0hXKSQ</td>\n",
       "      <td>5.0</td>\n",
       "      <td>0</td>\n",
       "      <td>0</td>\n",
       "      <td>0</td>\n",
       "      <td>Burrito special on Thursday.  Best burrito I'v...</td>\n",
       "      <td>2016-02-11 22:14:01</td>\n",
       "    </tr>\n",
       "    <tr>\n",
       "      <td>3336487</td>\n",
       "      <td>lPCfdNu1OmI3QsZMIiBjyQ</td>\n",
       "      <td>Tu3EqdHkeEJeRzOvdvGORw</td>\n",
       "      <td>9MnbQg7kfb_WgxoV0hXKSQ</td>\n",
       "      <td>5.0</td>\n",
       "      <td>0</td>\n",
       "      <td>0</td>\n",
       "      <td>0</td>\n",
       "      <td>Two words to describe this joint: outstanding ...</td>\n",
       "      <td>2012-04-28 21:31:09</td>\n",
       "    </tr>\n",
       "    <tr>\n",
       "      <td>...</td>\n",
       "      <td>...</td>\n",
       "      <td>...</td>\n",
       "      <td>...</td>\n",
       "      <td>...</td>\n",
       "      <td>...</td>\n",
       "      <td>...</td>\n",
       "      <td>...</td>\n",
       "      <td>...</td>\n",
       "      <td>...</td>\n",
       "    </tr>\n",
       "    <tr>\n",
       "      <td>3986958</td>\n",
       "      <td>Kk_xZZ0I85DHj9v4uOQlmQ</td>\n",
       "      <td>AKmLoFB0QL-OamsWlNWcOw</td>\n",
       "      <td>9MnbQg7kfb_WgxoV0hXKSQ</td>\n",
       "      <td>5.0</td>\n",
       "      <td>0</td>\n",
       "      <td>0</td>\n",
       "      <td>0</td>\n",
       "      <td>Why oh why couldn't this place stay a bigger s...</td>\n",
       "      <td>2010-04-24 23:03:26</td>\n",
       "    </tr>\n",
       "    <tr>\n",
       "      <td>3987494</td>\n",
       "      <td>JfDKfXhJNiwuOcRasybWrw</td>\n",
       "      <td>Pyg6kCS9FYIwVORtrlA-CQ</td>\n",
       "      <td>9MnbQg7kfb_WgxoV0hXKSQ</td>\n",
       "      <td>5.0</td>\n",
       "      <td>0</td>\n",
       "      <td>0</td>\n",
       "      <td>0</td>\n",
       "      <td>This place is easily my FAVORITE bbq joint in ...</td>\n",
       "      <td>2010-06-25 23:23:36</td>\n",
       "    </tr>\n",
       "    <tr>\n",
       "      <td>3988239</td>\n",
       "      <td>wvOgWOwmqaisFL8YgTy4oA</td>\n",
       "      <td>qw_BuLGXnDilUAvZD6v9zw</td>\n",
       "      <td>9MnbQg7kfb_WgxoV0hXKSQ</td>\n",
       "      <td>5.0</td>\n",
       "      <td>1</td>\n",
       "      <td>0</td>\n",
       "      <td>0</td>\n",
       "      <td>Black Dog is, hands down, my favorite restaura...</td>\n",
       "      <td>2010-08-11 21:17:00</td>\n",
       "    </tr>\n",
       "    <tr>\n",
       "      <td>3988939</td>\n",
       "      <td>XN6wOK9A7nGCZBUpyDgAaw</td>\n",
       "      <td>CVAU1YkPleuUzxzW4P-YOw</td>\n",
       "      <td>9MnbQg7kfb_WgxoV0hXKSQ</td>\n",
       "      <td>5.0</td>\n",
       "      <td>0</td>\n",
       "      <td>0</td>\n",
       "      <td>0</td>\n",
       "      <td>Even though myself and my girlfriend showed up...</td>\n",
       "      <td>2010-04-27 05:01:42</td>\n",
       "    </tr>\n",
       "    <tr>\n",
       "      <td>3990819</td>\n",
       "      <td>65B9WyOgrviBOl2ErNZLYg</td>\n",
       "      <td>QZ_Arlwoj0ghfBvg69rjOw</td>\n",
       "      <td>9MnbQg7kfb_WgxoV0hXKSQ</td>\n",
       "      <td>5.0</td>\n",
       "      <td>1</td>\n",
       "      <td>0</td>\n",
       "      <td>0</td>\n",
       "      <td>Although I cannot boast a lifelong relationshi...</td>\n",
       "      <td>2010-06-29 23:13:48</td>\n",
       "    </tr>\n",
       "  </tbody>\n",
       "</table>\n",
       "<p>822 rows × 9 columns</p>\n",
       "</div>"
      ],
      "text/plain": [
       "                      review_id                 user_id  \\\n",
       "3333982  x20Vhj5qcBbW-08vEbFHOw  lg1UvP-7KLtjSdxbFbt3Aw   \n",
       "3334583  BUxau3CCZwnfPZrBt3vK0Q  Jd__AkH8jPv9wN6bfmTW1A   \n",
       "3335733  2h1BHzhitC9ktYXcTfNqfA  dYAhuu1xauHTh-uhwnMcQw   \n",
       "3335926  KGHDKrH6ptbvhTJ7NTdQSQ  eEbdbw_Tt6FvqB0Lv_03GA   \n",
       "3336487  lPCfdNu1OmI3QsZMIiBjyQ  Tu3EqdHkeEJeRzOvdvGORw   \n",
       "...                         ...                     ...   \n",
       "3986958  Kk_xZZ0I85DHj9v4uOQlmQ  AKmLoFB0QL-OamsWlNWcOw   \n",
       "3987494  JfDKfXhJNiwuOcRasybWrw  Pyg6kCS9FYIwVORtrlA-CQ   \n",
       "3988239  wvOgWOwmqaisFL8YgTy4oA  qw_BuLGXnDilUAvZD6v9zw   \n",
       "3988939  XN6wOK9A7nGCZBUpyDgAaw  CVAU1YkPleuUzxzW4P-YOw   \n",
       "3990819  65B9WyOgrviBOl2ErNZLYg  QZ_Arlwoj0ghfBvg69rjOw   \n",
       "\n",
       "                    business_id  stars  useful  funny  cool  \\\n",
       "3333982  9MnbQg7kfb_WgxoV0hXKSQ    5.0       0      0     1   \n",
       "3334583  9MnbQg7kfb_WgxoV0hXKSQ    5.0       1      0     0   \n",
       "3335733  9MnbQg7kfb_WgxoV0hXKSQ    4.0       0      0     0   \n",
       "3335926  9MnbQg7kfb_WgxoV0hXKSQ    5.0       0      0     0   \n",
       "3336487  9MnbQg7kfb_WgxoV0hXKSQ    5.0       0      0     0   \n",
       "...                         ...    ...     ...    ...   ...   \n",
       "3986958  9MnbQg7kfb_WgxoV0hXKSQ    5.0       0      0     0   \n",
       "3987494  9MnbQg7kfb_WgxoV0hXKSQ    5.0       0      0     0   \n",
       "3988239  9MnbQg7kfb_WgxoV0hXKSQ    5.0       1      0     0   \n",
       "3988939  9MnbQg7kfb_WgxoV0hXKSQ    5.0       0      0     0   \n",
       "3990819  9MnbQg7kfb_WgxoV0hXKSQ    5.0       1      0     0   \n",
       "\n",
       "                                                      text  \\\n",
       "3333982  This place is without a doubt, the BEST BBQ IN...   \n",
       "3334583  Excellence BBQ.  Applesauce and green beans as...   \n",
       "3335733  Beer flights and food were amazing here!!  We ...   \n",
       "3335926  Burrito special on Thursday.  Best burrito I'v...   \n",
       "3336487  Two words to describe this joint: outstanding ...   \n",
       "...                                                    ...   \n",
       "3986958  Why oh why couldn't this place stay a bigger s...   \n",
       "3987494  This place is easily my FAVORITE bbq joint in ...   \n",
       "3988239  Black Dog is, hands down, my favorite restaura...   \n",
       "3988939  Even though myself and my girlfriend showed up...   \n",
       "3990819  Although I cannot boast a lifelong relationshi...   \n",
       "\n",
       "                        date  \n",
       "3333982  2011-10-27 15:48:15  \n",
       "3334583  2018-02-24 02:32:05  \n",
       "3335733  2011-04-22 02:16:21  \n",
       "3335926  2016-02-11 22:14:01  \n",
       "3336487  2012-04-28 21:31:09  \n",
       "...                      ...  \n",
       "3986958  2010-04-24 23:03:26  \n",
       "3987494  2010-06-25 23:23:36  \n",
       "3988239  2010-08-11 21:17:00  \n",
       "3988939  2010-04-27 05:01:42  \n",
       "3990819  2010-06-29 23:13:48  \n",
       "\n",
       "[822 rows x 9 columns]"
      ]
     },
     "execution_count": 40,
     "metadata": {},
     "output_type": "execute_result"
    }
   ],
   "source": [
    "reviews[reviews.business_id == '9MnbQg7kfb_WgxoV0hXKSQ']"
   ]
  },
  {
   "cell_type": "code",
   "execution_count": 41,
   "metadata": {},
   "outputs": [
    {
     "data": {
      "text/plain": [
       "business_id                                9MnbQg7kfb_WgxoV0hXKSQ\n",
       "name                                  Black Dog Smoke & Ale House\n",
       "address                                        201 N Broadway Ave\n",
       "city                                                       Urbana\n",
       "state                                                          IL\n",
       "postal_code                                                 61801\n",
       "latitude                                                  40.1138\n",
       "longitude                                                -88.2077\n",
       "stars                                                         4.5\n",
       "review_count                                                  790\n",
       "is_open                                                         1\n",
       "attributes      {'RestaurantsDelivery': 'False', 'RestaurantsA...\n",
       "categories                                            Restaurants\n",
       "hours           {'Monday': '11:0-22:0', 'Tuesday': '11:0-22:0'...\n",
       "Name: 0, dtype: object"
      ]
     },
     "execution_count": 41,
     "metadata": {},
     "output_type": "execute_result"
    }
   ],
   "source": [
    "business_in_IL[business_in_IL.name == 'Black Dog Smoke & Ale House'].reset_index(drop = True).iloc[0]"
   ]
  },
  {
   "cell_type": "code",
   "execution_count": null,
   "metadata": {},
   "outputs": [],
   "source": []
  }
 ],
 "metadata": {
  "kernelspec": {
   "display_name": "Python 3",
   "language": "python",
   "name": "python3"
  },
  "language_info": {
   "codemirror_mode": {
    "name": "ipython",
    "version": 3
   },
   "file_extension": ".py",
   "mimetype": "text/x-python",
   "name": "python",
   "nbconvert_exporter": "python",
   "pygments_lexer": "ipython3",
   "version": "3.7.4"
  }
 },
 "nbformat": 4,
 "nbformat_minor": 4
}
