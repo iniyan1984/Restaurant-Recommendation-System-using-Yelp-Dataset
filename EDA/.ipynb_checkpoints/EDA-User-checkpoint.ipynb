{
 "cells": [
  {
   "cell_type": "code",
   "execution_count": 1,
   "metadata": {},
   "outputs": [],
   "source": [
    "import seaborn as sns \n",
    "import pandas as pd\n",
    "import matplotlib.pyplot as plt\n",
    "import json,os\n",
    "import numpy as np\n",
    "import plotly.express as px\n",
    "import plotly.graph_objects as go"
   ]
  },
  {
   "cell_type": "code",
   "execution_count": 29,
   "metadata": {},
   "outputs": [
    {
     "name": "stdout",
     "output_type": "stream",
     "text": [
      "Read 1637138 users\n"
     ]
    }
   ],
   "source": [
    "users = []\n",
    "path = 'D://DPA Data//user.json'\n",
    "with open(os.path.join(os.getcwd(), path),encoding=\"utf8\") as f:\n",
    "    for line in f:\n",
    "        users.append(json.loads(line))\n",
    "print(\"Read {count} users\".format(count=len(users)))"
   ]
  },
  {
   "cell_type": "code",
   "execution_count": 3,
   "metadata": {},
   "outputs": [
    {
     "name": "stdout",
     "output_type": "stream",
     "text": [
      "Read 6685900 reviews\n"
     ]
    }
   ],
   "source": [
    "reviews = []\n",
    "path_review = 'D://DPA Data//review.json'\n",
    "with open(os.path.join(os.getcwd(), path_review),encoding=\"utf8\") as f:\n",
    "    for line in f:\n",
    "        reviews.append(json.loads(line))\n",
    "print(\"Read {count} reviews\".format(count=len(reviews)))"
   ]
  },
  {
   "cell_type": "code",
   "execution_count": 30,
   "metadata": {},
   "outputs": [
    {
     "data": {
      "text/plain": [
       "pandas.core.frame.DataFrame"
      ]
     },
     "execution_count": 30,
     "metadata": {},
     "output_type": "execute_result"
    }
   ],
   "source": [
    "users = pd.DataFrame(users)\n",
    "type(users)"
   ]
  },
  {
   "cell_type": "code",
   "execution_count": 31,
   "metadata": {},
   "outputs": [
    {
     "data": {
      "text/html": [
       "<div>\n",
       "<style scoped>\n",
       "    .dataframe tbody tr th:only-of-type {\n",
       "        vertical-align: middle;\n",
       "    }\n",
       "\n",
       "    .dataframe tbody tr th {\n",
       "        vertical-align: top;\n",
       "    }\n",
       "\n",
       "    .dataframe thead th {\n",
       "        text-align: right;\n",
       "    }\n",
       "</style>\n",
       "<table border=\"1\" class=\"dataframe\">\n",
       "  <thead>\n",
       "    <tr style=\"text-align: right;\">\n",
       "      <th></th>\n",
       "      <th>user_id</th>\n",
       "      <th>name</th>\n",
       "      <th>review_count</th>\n",
       "      <th>yelping_since</th>\n",
       "      <th>useful</th>\n",
       "      <th>funny</th>\n",
       "      <th>cool</th>\n",
       "      <th>elite</th>\n",
       "      <th>friends</th>\n",
       "      <th>fans</th>\n",
       "      <th>...</th>\n",
       "      <th>compliment_more</th>\n",
       "      <th>compliment_profile</th>\n",
       "      <th>compliment_cute</th>\n",
       "      <th>compliment_list</th>\n",
       "      <th>compliment_note</th>\n",
       "      <th>compliment_plain</th>\n",
       "      <th>compliment_cool</th>\n",
       "      <th>compliment_funny</th>\n",
       "      <th>compliment_writer</th>\n",
       "      <th>compliment_photos</th>\n",
       "    </tr>\n",
       "  </thead>\n",
       "  <tbody>\n",
       "    <tr>\n",
       "      <th>0</th>\n",
       "      <td>l6BmjZMeQD3rDxWUbiAiow</td>\n",
       "      <td>Rashmi</td>\n",
       "      <td>95</td>\n",
       "      <td>2013-10-08 23:11:33</td>\n",
       "      <td>84</td>\n",
       "      <td>17</td>\n",
       "      <td>25</td>\n",
       "      <td>2015,2016,2017</td>\n",
       "      <td>c78V-rj8NQcQjOI8KP3UEA, alRMgPcngYSCJ5naFRBz5g...</td>\n",
       "      <td>5</td>\n",
       "      <td>...</td>\n",
       "      <td>0</td>\n",
       "      <td>0</td>\n",
       "      <td>0</td>\n",
       "      <td>0</td>\n",
       "      <td>1</td>\n",
       "      <td>1</td>\n",
       "      <td>1</td>\n",
       "      <td>1</td>\n",
       "      <td>2</td>\n",
       "      <td>0</td>\n",
       "    </tr>\n",
       "    <tr>\n",
       "      <th>1</th>\n",
       "      <td>4XChL029mKr5hydo79Ljxg</td>\n",
       "      <td>Jenna</td>\n",
       "      <td>33</td>\n",
       "      <td>2013-02-21 22:29:06</td>\n",
       "      <td>48</td>\n",
       "      <td>22</td>\n",
       "      <td>16</td>\n",
       "      <td></td>\n",
       "      <td>kEBTgDvFX754S68FllfCaA, aB2DynOxNOJK9st2ZeGTPg...</td>\n",
       "      <td>4</td>\n",
       "      <td>...</td>\n",
       "      <td>0</td>\n",
       "      <td>0</td>\n",
       "      <td>0</td>\n",
       "      <td>0</td>\n",
       "      <td>0</td>\n",
       "      <td>0</td>\n",
       "      <td>1</td>\n",
       "      <td>1</td>\n",
       "      <td>0</td>\n",
       "      <td>0</td>\n",
       "    </tr>\n",
       "    <tr>\n",
       "      <th>2</th>\n",
       "      <td>bc8C_eETBWL0olvFSJJd0w</td>\n",
       "      <td>David</td>\n",
       "      <td>16</td>\n",
       "      <td>2013-10-04 00:16:10</td>\n",
       "      <td>28</td>\n",
       "      <td>8</td>\n",
       "      <td>10</td>\n",
       "      <td></td>\n",
       "      <td>4N-HU_T32hLENLntsNKNBg, pSY2vwWLgWfGVAAiKQzMng...</td>\n",
       "      <td>0</td>\n",
       "      <td>...</td>\n",
       "      <td>0</td>\n",
       "      <td>0</td>\n",
       "      <td>0</td>\n",
       "      <td>0</td>\n",
       "      <td>1</td>\n",
       "      <td>0</td>\n",
       "      <td>0</td>\n",
       "      <td>0</td>\n",
       "      <td>0</td>\n",
       "      <td>0</td>\n",
       "    </tr>\n",
       "    <tr>\n",
       "      <th>3</th>\n",
       "      <td>dD0gZpBctWGdWo9WlGuhlA</td>\n",
       "      <td>Angela</td>\n",
       "      <td>17</td>\n",
       "      <td>2014-05-22 15:57:30</td>\n",
       "      <td>30</td>\n",
       "      <td>4</td>\n",
       "      <td>14</td>\n",
       "      <td></td>\n",
       "      <td>RZ6wS38wnlXyj-OOdTzBxA, l5jxZh1KsgI8rMunm-GN6A...</td>\n",
       "      <td>5</td>\n",
       "      <td>...</td>\n",
       "      <td>0</td>\n",
       "      <td>0</td>\n",
       "      <td>0</td>\n",
       "      <td>0</td>\n",
       "      <td>0</td>\n",
       "      <td>2</td>\n",
       "      <td>0</td>\n",
       "      <td>0</td>\n",
       "      <td>1</td>\n",
       "      <td>0</td>\n",
       "    </tr>\n",
       "    <tr>\n",
       "      <th>4</th>\n",
       "      <td>MM4RJAeH6yuaN8oZDSt0RA</td>\n",
       "      <td>Nancy</td>\n",
       "      <td>361</td>\n",
       "      <td>2013-10-23 07:02:50</td>\n",
       "      <td>1114</td>\n",
       "      <td>279</td>\n",
       "      <td>665</td>\n",
       "      <td>2015,2016,2017,2018</td>\n",
       "      <td>mbwrZ-RS76V1HoJ0bF_Geg, g64lOV39xSLRZO0aQQ6DeQ...</td>\n",
       "      <td>39</td>\n",
       "      <td>...</td>\n",
       "      <td>1</td>\n",
       "      <td>0</td>\n",
       "      <td>0</td>\n",
       "      <td>1</td>\n",
       "      <td>16</td>\n",
       "      <td>57</td>\n",
       "      <td>80</td>\n",
       "      <td>80</td>\n",
       "      <td>25</td>\n",
       "      <td>5</td>\n",
       "    </tr>\n",
       "  </tbody>\n",
       "</table>\n",
       "<p>5 rows × 22 columns</p>\n",
       "</div>"
      ],
      "text/plain": [
       "                  user_id    name  review_count        yelping_since  useful  \\\n",
       "0  l6BmjZMeQD3rDxWUbiAiow  Rashmi            95  2013-10-08 23:11:33      84   \n",
       "1  4XChL029mKr5hydo79Ljxg   Jenna            33  2013-02-21 22:29:06      48   \n",
       "2  bc8C_eETBWL0olvFSJJd0w   David            16  2013-10-04 00:16:10      28   \n",
       "3  dD0gZpBctWGdWo9WlGuhlA  Angela            17  2014-05-22 15:57:30      30   \n",
       "4  MM4RJAeH6yuaN8oZDSt0RA   Nancy           361  2013-10-23 07:02:50    1114   \n",
       "\n",
       "   funny  cool                elite  \\\n",
       "0     17    25       2015,2016,2017   \n",
       "1     22    16                        \n",
       "2      8    10                        \n",
       "3      4    14                        \n",
       "4    279   665  2015,2016,2017,2018   \n",
       "\n",
       "                                             friends  fans  ...  \\\n",
       "0  c78V-rj8NQcQjOI8KP3UEA, alRMgPcngYSCJ5naFRBz5g...     5  ...   \n",
       "1  kEBTgDvFX754S68FllfCaA, aB2DynOxNOJK9st2ZeGTPg...     4  ...   \n",
       "2  4N-HU_T32hLENLntsNKNBg, pSY2vwWLgWfGVAAiKQzMng...     0  ...   \n",
       "3  RZ6wS38wnlXyj-OOdTzBxA, l5jxZh1KsgI8rMunm-GN6A...     5  ...   \n",
       "4  mbwrZ-RS76V1HoJ0bF_Geg, g64lOV39xSLRZO0aQQ6DeQ...    39  ...   \n",
       "\n",
       "   compliment_more  compliment_profile  compliment_cute  compliment_list  \\\n",
       "0                0                   0                0                0   \n",
       "1                0                   0                0                0   \n",
       "2                0                   0                0                0   \n",
       "3                0                   0                0                0   \n",
       "4                1                   0                0                1   \n",
       "\n",
       "   compliment_note  compliment_plain  compliment_cool  compliment_funny  \\\n",
       "0                1                 1                1                 1   \n",
       "1                0                 0                1                 1   \n",
       "2                1                 0                0                 0   \n",
       "3                0                 2                0                 0   \n",
       "4               16                57               80                80   \n",
       "\n",
       "   compliment_writer  compliment_photos  \n",
       "0                  2                  0  \n",
       "1                  0                  0  \n",
       "2                  0                  0  \n",
       "3                  1                  0  \n",
       "4                 25                  5  \n",
       "\n",
       "[5 rows x 22 columns]"
      ]
     },
     "execution_count": 31,
     "metadata": {},
     "output_type": "execute_result"
    }
   ],
   "source": [
    "users.head()"
   ]
  },
  {
   "cell_type": "code",
   "execution_count": 32,
   "metadata": {},
   "outputs": [
    {
     "data": {
      "text/plain": [
       "<matplotlib.axes._subplots.AxesSubplot at 0x1b1d83f7d0>"
      ]
     },
     "execution_count": 32,
     "metadata": {},
     "output_type": "execute_result"
    },
    {
     "data": {
      "image/png": "[encoded data removed]",
      "text/plain": [
       "<Figure size 432x288 with 1 Axes>"
      ]
     },
     "metadata": {
      "needs_background": "light"
     },
     "output_type": "display_data"
    }
   ],
   "source": [
    "users.average_stars.hist()"
   ]
  },
  {
   "cell_type": "code",
   "execution_count": 33,
   "metadata": {},
   "outputs": [
    {
     "data": {
      "text/plain": [
       "Index(['user_id', 'name', 'review_count', 'yelping_since', 'useful', 'funny',\n",
       "       'cool', 'elite', 'friends', 'fans', 'average_stars', 'compliment_hot',\n",
       "       'compliment_more', 'compliment_profile', 'compliment_cute',\n",
       "       'compliment_list', 'compliment_note', 'compliment_plain',\n",
       "       'compliment_cool', 'compliment_funny', 'compliment_writer',\n",
       "       'compliment_photos'],\n",
       "      dtype='object')"
      ]
     },
     "execution_count": 33,
     "metadata": {},
     "output_type": "execute_result"
    }
   ],
   "source": [
    "users.columns"
   ]
  },
  {
   "cell_type": "code",
   "execution_count": 34,
   "metadata": {},
   "outputs": [
    {
     "data": {
      "text/plain": [
       "(1637138, 22)"
      ]
     },
     "execution_count": 34,
     "metadata": {},
     "output_type": "execute_result"
    }
   ],
   "source": [
    "users.shape"
   ]
  },
  {
   "cell_type": "code",
   "execution_count": 35,
   "metadata": {},
   "outputs": [
    {
     "data": {
      "text/plain": [
       "0         2013-10-08 23:11:33\n",
       "1         2013-02-21 22:29:06\n",
       "2         2013-10-04 00:16:10\n",
       "3         2014-05-22 15:57:30\n",
       "4         2013-10-23 07:02:50\n",
       "                  ...        \n",
       "1637133   2016-02-24 19:28:47\n",
       "1637134   2017-02-25 23:34:05\n",
       "1637135   2009-08-19 22:08:16\n",
       "1637136   2018-10-15 17:07:43\n",
       "1637137   2016-03-03 21:56:06\n",
       "Name: yelping_since, Length: 1637138, dtype: datetime64[ns]"
      ]
     },
     "execution_count": 35,
     "metadata": {},
     "output_type": "execute_result"
    }
   ],
   "source": [
    "users.yelping_since = pd.to_datetime(users.yelping_since)\n",
    "users.yelping_since"
   ]
  },
  {
   "cell_type": "code",
   "execution_count": 36,
   "metadata": {},
   "outputs": [
    {
     "name": "stdout",
     "output_type": "stream",
     "text": [
      "13278\n",
      "0\n"
     ]
    },
    {
     "data": {
      "text/plain": [
       "(1637115, 22)"
      ]
     },
     "execution_count": 36,
     "metadata": {},
     "output_type": "execute_result"
    }
   ],
   "source": [
    "unique_reviews_count = users.review_count.unique()\n",
    "len(unique_reviews_count)\n",
    "print(max(unique_reviews_count))\n",
    "print(min(unique_reviews_count))\n",
    "\n",
    "## counting the instances with zero values\n",
    "len(users.loc[users['review_count'] == 0])\n",
    "\n",
    "## Removing users with zero reviews\n",
    "users = users[users.review_count != 0]\n",
    "users.shape"
   ]
  },
  {
   "cell_type": "code",
   "execution_count": 48,
   "metadata": {},
   "outputs": [
    {
     "name": "stdout",
     "output_type": "stream",
     "text": [
      "Users with reviews count less than 100  8526\n",
      "Users with reviews count more than 100  974\n"
     ]
    }
   ],
   "source": [
    "## counting users with less than and more than 100 reviews\n",
    "print('Users with reviews count less than 100 ', len(users.loc[users['review_count'] < 100]))\n",
    "print('Users with reviews count more than 100 ', len(users.loc[users['review_count'] >= 100]))\n",
    "\n",
    "## Filtering Data based on the review count\n",
    "less_than_100 = users[users.review_count < 100]"
   ]
  },
  {
   "cell_type": "code",
   "execution_count": 28,
   "metadata": {},
   "outputs": [
    {
     "data": {
      "text/plain": [
       "(974, 22)"
      ]
     },
     "execution_count": 28,
     "metadata": {},
     "output_type": "execute_result"
    }
   ],
   "source": [
    "users.shape"
   ]
  },
  {
   "cell_type": "code",
   "execution_count": 38,
   "metadata": {},
   "outputs": [
    {
     "data": {
      "text/plain": [
       "<matplotlib.axes._subplots.AxesSubplot at 0x1b2ea77c10>"
      ]
     },
     "execution_count": 38,
     "metadata": {},
     "output_type": "execute_result"
    },
    {
     "data": {
      "image/png": "[encoded data removed]",
      "text/plain": [
       "<Figure size 432x288 with 1 Axes>"
      ]
     },
     "metadata": {
      "needs_background": "light"
     },
     "output_type": "display_data"
    }
   ],
   "source": [
    "value_counts = users.review_count.value_counts()\n",
    "value_counts[:50].plot(kind='barh')"
   ]
  },
  {
   "cell_type": "code",
   "execution_count": 16,
   "metadata": {},
   "outputs": [
    {
     "data": {
      "text/html": [
       "<div>\n",
       "<style scoped>\n",
       "    .dataframe tbody tr th:only-of-type {\n",
       "        vertical-align: middle;\n",
       "    }\n",
       "\n",
       "    .dataframe tbody tr th {\n",
       "        vertical-align: top;\n",
       "    }\n",
       "\n",
       "    .dataframe thead th {\n",
       "        text-align: right;\n",
       "    }\n",
       "</style>\n",
       "<table border=\"1\" class=\"dataframe\">\n",
       "  <thead>\n",
       "    <tr style=\"text-align: right;\">\n",
       "      <th></th>\n",
       "      <th>user_id</th>\n",
       "      <th>name</th>\n",
       "      <th>review_count</th>\n",
       "      <th>yelping_since</th>\n",
       "      <th>useful</th>\n",
       "      <th>funny</th>\n",
       "      <th>cool</th>\n",
       "      <th>elite</th>\n",
       "      <th>friends</th>\n",
       "      <th>fans</th>\n",
       "      <th>...</th>\n",
       "      <th>compliment_more</th>\n",
       "      <th>compliment_profile</th>\n",
       "      <th>compliment_cute</th>\n",
       "      <th>compliment_list</th>\n",
       "      <th>compliment_note</th>\n",
       "      <th>compliment_plain</th>\n",
       "      <th>compliment_cool</th>\n",
       "      <th>compliment_funny</th>\n",
       "      <th>compliment_writer</th>\n",
       "      <th>compliment_photos</th>\n",
       "    </tr>\n",
       "  </thead>\n",
       "  <tbody>\n",
       "    <tr>\n",
       "      <th>4</th>\n",
       "      <td>MM4RJAeH6yuaN8oZDSt0RA</td>\n",
       "      <td>Nancy</td>\n",
       "      <td>361</td>\n",
       "      <td>2013-10-23 07:02:50</td>\n",
       "      <td>1114</td>\n",
       "      <td>279</td>\n",
       "      <td>665</td>\n",
       "      <td>2015,2016,2017,2018</td>\n",
       "      <td>mbwrZ-RS76V1HoJ0bF_Geg, g64lOV39xSLRZO0aQQ6DeQ...</td>\n",
       "      <td>39</td>\n",
       "      <td>...</td>\n",
       "      <td>1</td>\n",
       "      <td>0</td>\n",
       "      <td>0</td>\n",
       "      <td>1</td>\n",
       "      <td>16</td>\n",
       "      <td>57</td>\n",
       "      <td>80</td>\n",
       "      <td>80</td>\n",
       "      <td>25</td>\n",
       "      <td>5</td>\n",
       "    </tr>\n",
       "    <tr>\n",
       "      <th>5</th>\n",
       "      <td>0rK89TS8xqy1wI4nYI1wfw</td>\n",
       "      <td>Marilyn</td>\n",
       "      <td>214</td>\n",
       "      <td>2011-06-23 08:05:13</td>\n",
       "      <td>3475</td>\n",
       "      <td>2424</td>\n",
       "      <td>3048</td>\n",
       "      <td>2015,2016,2017,2018</td>\n",
       "      <td>AJxDPGVTzefy3vSHWJchvQ, TgveR4qIsr0Q7b4MJK29TA...</td>\n",
       "      <td>186</td>\n",
       "      <td>...</td>\n",
       "      <td>46</td>\n",
       "      <td>50</td>\n",
       "      <td>44</td>\n",
       "      <td>3</td>\n",
       "      <td>221</td>\n",
       "      <td>404</td>\n",
       "      <td>483</td>\n",
       "      <td>483</td>\n",
       "      <td>149</td>\n",
       "      <td>195</td>\n",
       "    </tr>\n",
       "    <tr>\n",
       "      <th>6</th>\n",
       "      <td>TEtzbpgA2BFBrC0y0sCbfw</td>\n",
       "      <td>Keane</td>\n",
       "      <td>1122</td>\n",
       "      <td>2006-02-15 18:29:35</td>\n",
       "      <td>13311</td>\n",
       "      <td>19356</td>\n",
       "      <td>15319</td>\n",
       "      <td>2006,2007,2008,2009,2010,2011,2012,2013</td>\n",
       "      <td>RJQTcJVlBsJ3_Yo0JSFQQg, GWt_h78k1CBBkE1NpThGfQ...</td>\n",
       "      <td>696</td>\n",
       "      <td>...</td>\n",
       "      <td>314</td>\n",
       "      <td>333</td>\n",
       "      <td>889</td>\n",
       "      <td>152</td>\n",
       "      <td>1600</td>\n",
       "      <td>3635</td>\n",
       "      <td>4991</td>\n",
       "      <td>4991</td>\n",
       "      <td>1086</td>\n",
       "      <td>428</td>\n",
       "    </tr>\n",
       "    <tr>\n",
       "      <th>8</th>\n",
       "      <td>T0gWkTHWRChVUe_Dn1F8nw</td>\n",
       "      <td>Tanya</td>\n",
       "      <td>859</td>\n",
       "      <td>2005-07-20 22:38:17</td>\n",
       "      <td>1630</td>\n",
       "      <td>693</td>\n",
       "      <td>1244</td>\n",
       "      <td>2006,2007,2008,2009,2010,2011,2012</td>\n",
       "      <td>ctr_BlCf3Ogny-vLs8E9tQ, c6HT44PKCaXqzN_BdgKPCw...</td>\n",
       "      <td>57</td>\n",
       "      <td>...</td>\n",
       "      <td>16</td>\n",
       "      <td>7</td>\n",
       "      <td>7</td>\n",
       "      <td>3</td>\n",
       "      <td>31</td>\n",
       "      <td>72</td>\n",
       "      <td>95</td>\n",
       "      <td>95</td>\n",
       "      <td>34</td>\n",
       "      <td>2</td>\n",
       "    </tr>\n",
       "    <tr>\n",
       "      <th>9</th>\n",
       "      <td>NQffx45eJaeqhFcMadKUQA</td>\n",
       "      <td>Trace</td>\n",
       "      <td>124</td>\n",
       "      <td>2008-12-10 22:59:45</td>\n",
       "      <td>202</td>\n",
       "      <td>70</td>\n",
       "      <td>185</td>\n",
       "      <td></td>\n",
       "      <td>N-xeG3U6rUkjVtQ0o-5YZA, wnO99pBbGqwqOoTQM25iCw...</td>\n",
       "      <td>15</td>\n",
       "      <td>...</td>\n",
       "      <td>3</td>\n",
       "      <td>0</td>\n",
       "      <td>2</td>\n",
       "      <td>0</td>\n",
       "      <td>12</td>\n",
       "      <td>8</td>\n",
       "      <td>14</td>\n",
       "      <td>14</td>\n",
       "      <td>3</td>\n",
       "      <td>5</td>\n",
       "    </tr>\n",
       "  </tbody>\n",
       "</table>\n",
       "<p>5 rows × 22 columns</p>\n",
       "</div>"
      ],
      "text/plain": [
       "                  user_id     name  review_count       yelping_since  useful  \\\n",
       "4  MM4RJAeH6yuaN8oZDSt0RA    Nancy           361 2013-10-23 07:02:50    1114   \n",
       "5  0rK89TS8xqy1wI4nYI1wfw  Marilyn           214 2011-06-23 08:05:13    3475   \n",
       "6  TEtzbpgA2BFBrC0y0sCbfw    Keane          1122 2006-02-15 18:29:35   13311   \n",
       "8  T0gWkTHWRChVUe_Dn1F8nw    Tanya           859 2005-07-20 22:38:17    1630   \n",
       "9  NQffx45eJaeqhFcMadKUQA    Trace           124 2008-12-10 22:59:45     202   \n",
       "\n",
       "   funny   cool                                    elite  \\\n",
       "4    279    665                      2015,2016,2017,2018   \n",
       "5   2424   3048                      2015,2016,2017,2018   \n",
       "6  19356  15319  2006,2007,2008,2009,2010,2011,2012,2013   \n",
       "8    693   1244       2006,2007,2008,2009,2010,2011,2012   \n",
       "9     70    185                                            \n",
       "\n",
       "                                             friends  fans  ...  \\\n",
       "4  mbwrZ-RS76V1HoJ0bF_Geg, g64lOV39xSLRZO0aQQ6DeQ...    39  ...   \n",
       "5  AJxDPGVTzefy3vSHWJchvQ, TgveR4qIsr0Q7b4MJK29TA...   186  ...   \n",
       "6  RJQTcJVlBsJ3_Yo0JSFQQg, GWt_h78k1CBBkE1NpThGfQ...   696  ...   \n",
       "8  ctr_BlCf3Ogny-vLs8E9tQ, c6HT44PKCaXqzN_BdgKPCw...    57  ...   \n",
       "9  N-xeG3U6rUkjVtQ0o-5YZA, wnO99pBbGqwqOoTQM25iCw...    15  ...   \n",
       "\n",
       "   compliment_more  compliment_profile  compliment_cute  compliment_list  \\\n",
       "4                1                   0                0                1   \n",
       "5               46                  50               44                3   \n",
       "6              314                 333              889              152   \n",
       "8               16                   7                7                3   \n",
       "9                3                   0                2                0   \n",
       "\n",
       "   compliment_note  compliment_plain  compliment_cool  compliment_funny  \\\n",
       "4               16                57               80                80   \n",
       "5              221               404              483               483   \n",
       "6             1600              3635             4991              4991   \n",
       "8               31                72               95                95   \n",
       "9               12                 8               14                14   \n",
       "\n",
       "   compliment_writer  compliment_photos  \n",
       "4                 25                  5  \n",
       "5                149                195  \n",
       "6               1086                428  \n",
       "8                 34                  2  \n",
       "9                  3                  5  \n",
       "\n",
       "[5 rows x 22 columns]"
      ]
     },
     "execution_count": 16,
     "metadata": {},
     "output_type": "execute_result"
    }
   ],
   "source": [
    "users.head()"
   ]
  },
  {
   "cell_type": "code",
   "execution_count": 39,
   "metadata": {},
   "outputs": [
    {
     "data": {
      "text/plain": [
       "0      mofOjB6flg-eAWOFbOkHfQ\n",
       "1      m4DwPVxmFDQE_FnGIOa3cQ\n",
       "2      HbK6IfznbVToEaKVC0WcSg\n",
       "3      o9nGD3J0btXjE9M6IdgZTA\n",
       "4      sDfN5qJlmvrwTfwEPBsxSg\n",
       "                ...          \n",
       "452    nD4cF5IH8RE7LFGdR2FMUA\n",
       "453    zTGxLMOd9crAz0XNzqrcrA\n",
       "454    0QgFIP9W0eGZSxCSQRQSCg\n",
       "455    gZtJyb2oEpwo1rnovDVPfA\n",
       "456    F1qPjasn0R6-j8sa6iYNmA\n",
       "Name: business_id, Length: 457, dtype: object"
      ]
     },
     "execution_count": 39,
     "metadata": {},
     "output_type": "execute_result"
    }
   ],
   "source": [
    "business_data = pd.read_csv(\"Business_in_Illinois.csv\")\n",
    "business_id = business_data.business_id\n",
    "business_id"
   ]
  },
  {
   "cell_type": "code",
   "execution_count": 40,
   "metadata": {},
   "outputs": [
    {
     "data": {
      "text/html": [
       "<div>\n",
       "<style scoped>\n",
       "    .dataframe tbody tr th:only-of-type {\n",
       "        vertical-align: middle;\n",
       "    }\n",
       "\n",
       "    .dataframe tbody tr th {\n",
       "        vertical-align: top;\n",
       "    }\n",
       "\n",
       "    .dataframe thead th {\n",
       "        text-align: right;\n",
       "    }\n",
       "</style>\n",
       "<table border=\"1\" class=\"dataframe\">\n",
       "  <thead>\n",
       "    <tr style=\"text-align: right;\">\n",
       "      <th></th>\n",
       "      <th>review_id</th>\n",
       "      <th>user_id</th>\n",
       "      <th>business_id</th>\n",
       "      <th>stars</th>\n",
       "      <th>useful</th>\n",
       "      <th>funny</th>\n",
       "      <th>cool</th>\n",
       "      <th>text</th>\n",
       "      <th>date</th>\n",
       "    </tr>\n",
       "  </thead>\n",
       "  <tbody>\n",
       "    <tr>\n",
       "      <th>746</th>\n",
       "      <td>TfJ2QlHY7sFdPpUyDi27Zg</td>\n",
       "      <td>c_vQnScwjEmPflK9ntnwmw</td>\n",
       "      <td>zswdqM8Av3KxVv9o7_6ORA</td>\n",
       "      <td>4.0</td>\n",
       "      <td>0</td>\n",
       "      <td>0</td>\n",
       "      <td>0</td>\n",
       "      <td>Everything was pretty good but the beef in the...</td>\n",
       "      <td>2017-07-08 17:24:58</td>\n",
       "    </tr>\n",
       "    <tr>\n",
       "      <th>973</th>\n",
       "      <td>ilkuxI6oH3s1dEYW_Kxysw</td>\n",
       "      <td>_oxSgMz5Ryfs0NQFqy56Cw</td>\n",
       "      <td>SgG5E7PUrCIsEMP0BVSlTg</td>\n",
       "      <td>5.0</td>\n",
       "      <td>10</td>\n",
       "      <td>0</td>\n",
       "      <td>2</td>\n",
       "      <td>Very pleased with everything I've bought here:...</td>\n",
       "      <td>2013-10-03 11:36:25</td>\n",
       "    </tr>\n",
       "    <tr>\n",
       "      <th>1421</th>\n",
       "      <td>X81JNJJg75edpHgT5nb7xw</td>\n",
       "      <td>9qAt7wTgl6mYtxPGZGwyWw</td>\n",
       "      <td>yRKrMWQxQaMeR18s5ajcYw</td>\n",
       "      <td>1.0</td>\n",
       "      <td>0</td>\n",
       "      <td>0</td>\n",
       "      <td>0</td>\n",
       "      <td>Nothing like paying $10+ for a container of cu...</td>\n",
       "      <td>2017-07-18 17:53:48</td>\n",
       "    </tr>\n",
       "    <tr>\n",
       "      <th>1492</th>\n",
       "      <td>qChAyy6hNJ4UmEk9XCCPAw</td>\n",
       "      <td>u7UaLSwFyxVOjD8n6V4ROA</td>\n",
       "      <td>SgG5E7PUrCIsEMP0BVSlTg</td>\n",
       "      <td>4.0</td>\n",
       "      <td>6</td>\n",
       "      <td>2</td>\n",
       "      <td>2</td>\n",
       "      <td>Modified my previous review after the store ow...</td>\n",
       "      <td>2013-12-28 23:48:40</td>\n",
       "    </tr>\n",
       "    <tr>\n",
       "      <th>2059</th>\n",
       "      <td>dHKIplwLIyzXAr46944qYQ</td>\n",
       "      <td>lWSsSv9BVOK0JO8GGOhuNw</td>\n",
       "      <td>pCer-vIZM05p423MFmiSng</td>\n",
       "      <td>1.0</td>\n",
       "      <td>3</td>\n",
       "      <td>1</td>\n",
       "      <td>0</td>\n",
       "      <td>The service is terrible. \\n\\nWe had a huge gro...</td>\n",
       "      <td>2015-06-08 17:41:09</td>\n",
       "    </tr>\n",
       "  </tbody>\n",
       "</table>\n",
       "</div>"
      ],
      "text/plain": [
       "                   review_id                 user_id             business_id  \\\n",
       "746   TfJ2QlHY7sFdPpUyDi27Zg  c_vQnScwjEmPflK9ntnwmw  zswdqM8Av3KxVv9o7_6ORA   \n",
       "973   ilkuxI6oH3s1dEYW_Kxysw  _oxSgMz5Ryfs0NQFqy56Cw  SgG5E7PUrCIsEMP0BVSlTg   \n",
       "1421  X81JNJJg75edpHgT5nb7xw  9qAt7wTgl6mYtxPGZGwyWw  yRKrMWQxQaMeR18s5ajcYw   \n",
       "1492  qChAyy6hNJ4UmEk9XCCPAw  u7UaLSwFyxVOjD8n6V4ROA  SgG5E7PUrCIsEMP0BVSlTg   \n",
       "2059  dHKIplwLIyzXAr46944qYQ  lWSsSv9BVOK0JO8GGOhuNw  pCer-vIZM05p423MFmiSng   \n",
       "\n",
       "      stars  useful  funny  cool  \\\n",
       "746     4.0       0      0     0   \n",
       "973     5.0      10      0     2   \n",
       "1421    1.0       0      0     0   \n",
       "1492    4.0       6      2     2   \n",
       "2059    1.0       3      1     0   \n",
       "\n",
       "                                                   text                 date  \n",
       "746   Everything was pretty good but the beef in the...  2017-07-08 17:24:58  \n",
       "973   Very pleased with everything I've bought here:...  2013-10-03 11:36:25  \n",
       "1421  Nothing like paying $10+ for a container of cu...  2017-07-18 17:53:48  \n",
       "1492  Modified my previous review after the store ow...  2013-12-28 23:48:40  \n",
       "2059  The service is terrible. \\n\\nWe had a huge gro...  2015-06-08 17:41:09  "
      ]
     },
     "execution_count": 40,
     "metadata": {},
     "output_type": "execute_result"
    }
   ],
   "source": [
    "reviews = pd.DataFrame(reviews)\n",
    "reviews.head()"
   ]
  },
  {
   "cell_type": "code",
   "execution_count": 41,
   "metadata": {},
   "outputs": [],
   "source": [
    "## Filters reviews based on business ids in illinois\n",
    "reviews = reviews[reviews['business_id'].isin(business_id)]\n",
    "reviews.shape\n",
    "\n",
    "reviews.to_csv(r'reviews.csv', index = False)"
   ]
  },
  {
   "cell_type": "code",
   "execution_count": 43,
   "metadata": {},
   "outputs": [],
   "source": [
    "## filters users with reviews in the filtered reviews\n",
    "user_ids = reviews.user_id\n",
    "user_ids = np.array(user_ids)"
   ]
  },
  {
   "cell_type": "code",
   "execution_count": 44,
   "metadata": {},
   "outputs": [
    {
     "data": {
      "text/plain": [
       "(9500, 22)"
      ]
     },
     "execution_count": 44,
     "metadata": {},
     "output_type": "execute_result"
    }
   ],
   "source": [
    "users = users[users['user_id'].isin(user_ids)]\n",
    "users.shape"
   ]
  },
  {
   "cell_type": "code",
   "execution_count": 47,
   "metadata": {},
   "outputs": [
    {
     "name": "stdout",
     "output_type": "stream",
     "text": [
      "1       1050\n",
      "2        852\n",
      "3        716\n",
      "4        575\n",
      "5        429\n",
      "        ... \n",
      "148        1\n",
      "172        1\n",
      "196        1\n",
      "204        1\n",
      "1887       1\n",
      "Name: review_count, Length: 529, dtype: int64\n",
      "min value of value_counts updated  1\n",
      "max value of value_counts updated  1050\n"
     ]
    },
    {
     "data": {
      "image/png": "[encoded data removed]",
      "text/plain": [
       "<Figure size 432x288 with 1 Axes>"
      ]
     },
     "metadata": {
      "needs_background": "light"
     },
     "output_type": "display_data"
    }
   ],
   "source": [
    "value_counts_updated = users.review_count.value_counts()\n",
    "print(value_counts_updated)\n",
    "value_counts_updated[:50].plot(kind='barh')\n",
    "print('min value of value_counts updated ', min(value_counts_updated))\n",
    "print('max value of value_counts updated ', max(value_counts_updated))"
   ]
  },
  {
   "cell_type": "code",
   "execution_count": 49,
   "metadata": {},
   "outputs": [],
   "source": [
    "users = users[users.review_count >= 10]"
   ]
  },
  {
   "cell_type": "code",
   "execution_count": 50,
   "metadata": {},
   "outputs": [
    {
     "name": "stdout",
     "output_type": "stream",
     "text": [
      "10      212\n",
      "12      201\n",
      "13      186\n",
      "11      182\n",
      "14      168\n",
      "       ... \n",
      "186       1\n",
      "2239      1\n",
      "202       1\n",
      "206       1\n",
      "1939      1\n",
      "Name: review_count, Length: 520, dtype: int64\n",
      "min value of value_counts updated  1\n",
      "max value of value_counts updated  212\n"
     ]
    },
    {
     "data": {
      "image/png": "[encoded data removed]",
      "text/plain": [
       "<Figure size 432x288 with 1 Axes>"
      ]
     },
     "metadata": {
      "needs_background": "light"
     },
     "output_type": "display_data"
    }
   ],
   "source": [
    "value_counts_updated = users.review_count.value_counts()\n",
    "print(value_counts_updated)\n",
    "value_counts_updated[:50].plot(kind='barh')\n",
    "print('min value of value_counts updated ', min(value_counts_updated))\n",
    "print('max value of value_counts updated ', max(value_counts_updated))"
   ]
  },
  {
   "cell_type": "code",
   "execution_count": 51,
   "metadata": {},
   "outputs": [
    {
     "data": {
      "text/plain": [
       "(4600, 22)"
      ]
     },
     "execution_count": 51,
     "metadata": {},
     "output_type": "execute_result"
    }
   ],
   "source": [
    "users.shape"
   ]
  },
  {
   "cell_type": "code",
   "execution_count": 52,
   "metadata": {},
   "outputs": [
    {
     "data": {
      "text/html": [
       "<div>\n",
       "<style scoped>\n",
       "    .dataframe tbody tr th:only-of-type {\n",
       "        vertical-align: middle;\n",
       "    }\n",
       "\n",
       "    .dataframe tbody tr th {\n",
       "        vertical-align: top;\n",
       "    }\n",
       "\n",
       "    .dataframe thead th {\n",
       "        text-align: right;\n",
       "    }\n",
       "</style>\n",
       "<table border=\"1\" class=\"dataframe\">\n",
       "  <thead>\n",
       "    <tr style=\"text-align: right;\">\n",
       "      <th></th>\n",
       "      <th>user_id</th>\n",
       "      <th>name</th>\n",
       "      <th>review_count</th>\n",
       "      <th>yelping_since</th>\n",
       "      <th>useful</th>\n",
       "      <th>funny</th>\n",
       "      <th>cool</th>\n",
       "      <th>elite</th>\n",
       "      <th>friends</th>\n",
       "      <th>fans</th>\n",
       "      <th>...</th>\n",
       "      <th>compliment_more</th>\n",
       "      <th>compliment_profile</th>\n",
       "      <th>compliment_cute</th>\n",
       "      <th>compliment_list</th>\n",
       "      <th>compliment_note</th>\n",
       "      <th>compliment_plain</th>\n",
       "      <th>compliment_cool</th>\n",
       "      <th>compliment_funny</th>\n",
       "      <th>compliment_writer</th>\n",
       "      <th>compliment_photos</th>\n",
       "    </tr>\n",
       "  </thead>\n",
       "  <tbody>\n",
       "    <tr>\n",
       "      <th>48</th>\n",
       "      <td>d7D4dYzF6THtOx9imf-wPw</td>\n",
       "      <td>Regina</td>\n",
       "      <td>1053</td>\n",
       "      <td>2008-12-05 07:16:22</td>\n",
       "      <td>11769</td>\n",
       "      <td>6997</td>\n",
       "      <td>9594</td>\n",
       "      <td>2013,2014,2015,2016,2017,2018</td>\n",
       "      <td>SxSeTYznS0YKSISgs5hj_Q, VtnCudEFLBjnxblLUAPYhA...</td>\n",
       "      <td>231</td>\n",
       "      <td>...</td>\n",
       "      <td>46</td>\n",
       "      <td>29</td>\n",
       "      <td>9</td>\n",
       "      <td>5</td>\n",
       "      <td>419</td>\n",
       "      <td>611</td>\n",
       "      <td>822</td>\n",
       "      <td>822</td>\n",
       "      <td>475</td>\n",
       "      <td>338</td>\n",
       "    </tr>\n",
       "    <tr>\n",
       "      <th>157</th>\n",
       "      <td>kSXl89kfPCKtcWGj0Oi0uA</td>\n",
       "      <td>Andrew</td>\n",
       "      <td>263</td>\n",
       "      <td>2016-06-05 01:30:35</td>\n",
       "      <td>76</td>\n",
       "      <td>18</td>\n",
       "      <td>36</td>\n",
       "      <td>2017</td>\n",
       "      <td>Fdj8iZUO3R7s51R4PQZFsQ, tRj6guKV3cJkm1TNA63HrA...</td>\n",
       "      <td>4</td>\n",
       "      <td>...</td>\n",
       "      <td>0</td>\n",
       "      <td>0</td>\n",
       "      <td>0</td>\n",
       "      <td>0</td>\n",
       "      <td>1</td>\n",
       "      <td>4</td>\n",
       "      <td>4</td>\n",
       "      <td>4</td>\n",
       "      <td>1</td>\n",
       "      <td>0</td>\n",
       "    </tr>\n",
       "    <tr>\n",
       "      <th>291</th>\n",
       "      <td>wSByVbwME4MzgkJaFyfvNg</td>\n",
       "      <td>Bryant</td>\n",
       "      <td>828</td>\n",
       "      <td>2009-12-26 03:27:16</td>\n",
       "      <td>7878</td>\n",
       "      <td>3066</td>\n",
       "      <td>4532</td>\n",
       "      <td>2010,2011,2012,2013,2014,2015,2016,2017</td>\n",
       "      <td>vBUUqE3K-dmOwMCVCChqyw, Jv9dFuJ6Pc3WJqagWBTUeA...</td>\n",
       "      <td>415</td>\n",
       "      <td>...</td>\n",
       "      <td>31</td>\n",
       "      <td>13</td>\n",
       "      <td>18</td>\n",
       "      <td>20</td>\n",
       "      <td>435</td>\n",
       "      <td>1168</td>\n",
       "      <td>605</td>\n",
       "      <td>605</td>\n",
       "      <td>248</td>\n",
       "      <td>101</td>\n",
       "    </tr>\n",
       "    <tr>\n",
       "      <th>305</th>\n",
       "      <td>bkft6UDERoz8o64w5XiC6A</td>\n",
       "      <td>Larry</td>\n",
       "      <td>153</td>\n",
       "      <td>2008-10-02 19:05:40</td>\n",
       "      <td>135</td>\n",
       "      <td>69</td>\n",
       "      <td>39</td>\n",
       "      <td>2015,2016,2017</td>\n",
       "      <td>F78tJHr0qW6FsYBtWMmLpA, uxdGHvw2609oKu0R3z00OA...</td>\n",
       "      <td>3</td>\n",
       "      <td>...</td>\n",
       "      <td>0</td>\n",
       "      <td>0</td>\n",
       "      <td>0</td>\n",
       "      <td>0</td>\n",
       "      <td>2</td>\n",
       "      <td>3</td>\n",
       "      <td>2</td>\n",
       "      <td>2</td>\n",
       "      <td>0</td>\n",
       "      <td>0</td>\n",
       "    </tr>\n",
       "    <tr>\n",
       "      <th>733</th>\n",
       "      <td>HXOfPXPMvdXNpQ_l0RRjKw</td>\n",
       "      <td>Jeffrey</td>\n",
       "      <td>1939</td>\n",
       "      <td>2010-08-16 01:18:16</td>\n",
       "      <td>10647</td>\n",
       "      <td>4751</td>\n",
       "      <td>6280</td>\n",
       "      <td>2010,2011,2012,2013,2014,2015,2016,2017,2018</td>\n",
       "      <td>hOOTtrFYdRhnoh2y_XqjlQ, JwcbAxQ3TYrqzm9HjAef9Q...</td>\n",
       "      <td>478</td>\n",
       "      <td>...</td>\n",
       "      <td>42</td>\n",
       "      <td>20</td>\n",
       "      <td>22</td>\n",
       "      <td>24</td>\n",
       "      <td>431</td>\n",
       "      <td>1976</td>\n",
       "      <td>589</td>\n",
       "      <td>589</td>\n",
       "      <td>221</td>\n",
       "      <td>132</td>\n",
       "    </tr>\n",
       "  </tbody>\n",
       "</table>\n",
       "<p>5 rows × 22 columns</p>\n",
       "</div>"
      ],
      "text/plain": [
       "                    user_id     name  review_count       yelping_since  \\\n",
       "48   d7D4dYzF6THtOx9imf-wPw   Regina          1053 2008-12-05 07:16:22   \n",
       "157  kSXl89kfPCKtcWGj0Oi0uA   Andrew           263 2016-06-05 01:30:35   \n",
       "291  wSByVbwME4MzgkJaFyfvNg   Bryant           828 2009-12-26 03:27:16   \n",
       "305  bkft6UDERoz8o64w5XiC6A    Larry           153 2008-10-02 19:05:40   \n",
       "733  HXOfPXPMvdXNpQ_l0RRjKw  Jeffrey          1939 2010-08-16 01:18:16   \n",
       "\n",
       "     useful  funny  cool                                         elite  \\\n",
       "48    11769   6997  9594                 2013,2014,2015,2016,2017,2018   \n",
       "157      76     18    36                                          2017   \n",
       "291    7878   3066  4532       2010,2011,2012,2013,2014,2015,2016,2017   \n",
       "305     135     69    39                                2015,2016,2017   \n",
       "733   10647   4751  6280  2010,2011,2012,2013,2014,2015,2016,2017,2018   \n",
       "\n",
       "                                               friends  fans  ...  \\\n",
       "48   SxSeTYznS0YKSISgs5hj_Q, VtnCudEFLBjnxblLUAPYhA...   231  ...   \n",
       "157  Fdj8iZUO3R7s51R4PQZFsQ, tRj6guKV3cJkm1TNA63HrA...     4  ...   \n",
       "291  vBUUqE3K-dmOwMCVCChqyw, Jv9dFuJ6Pc3WJqagWBTUeA...   415  ...   \n",
       "305  F78tJHr0qW6FsYBtWMmLpA, uxdGHvw2609oKu0R3z00OA...     3  ...   \n",
       "733  hOOTtrFYdRhnoh2y_XqjlQ, JwcbAxQ3TYrqzm9HjAef9Q...   478  ...   \n",
       "\n",
       "     compliment_more  compliment_profile  compliment_cute  compliment_list  \\\n",
       "48                46                  29                9                5   \n",
       "157                0                   0                0                0   \n",
       "291               31                  13               18               20   \n",
       "305                0                   0                0                0   \n",
       "733               42                  20               22               24   \n",
       "\n",
       "     compliment_note  compliment_plain  compliment_cool  compliment_funny  \\\n",
       "48               419               611              822               822   \n",
       "157                1                 4                4                 4   \n",
       "291              435              1168              605               605   \n",
       "305                2                 3                2                 2   \n",
       "733              431              1976              589               589   \n",
       "\n",
       "     compliment_writer  compliment_photos  \n",
       "48                 475                338  \n",
       "157                  1                  0  \n",
       "291                248                101  \n",
       "305                  0                  0  \n",
       "733                221                132  \n",
       "\n",
       "[5 rows x 22 columns]"
      ]
     },
     "execution_count": 52,
     "metadata": {},
     "output_type": "execute_result"
    }
   ],
   "source": [
    "users.head()"
   ]
  },
  {
   "cell_type": "code",
   "execution_count": 53,
   "metadata": {},
   "outputs": [],
   "source": [
    "users.to_csv(r'user.csv', index = False)"
   ]
  },
  {
   "cell_type": "code",
   "execution_count": null,
   "metadata": {},
   "outputs": [],
   "source": []
  }
 ],
 "metadata": {
  "kernelspec": {
   "display_name": "Python 3",
   "language": "python",
   "name": "python3"
  },
  "language_info": {
   "codemirror_mode": {
    "name": "ipython",
    "version": 3
   },
   "file_extension": ".py",
   "mimetype": "text/x-python",
   "name": "python",
   "nbconvert_exporter": "python",
   "pygments_lexer": "ipython3",
   "version": "3.7.6"
  }
 },
 "nbformat": 4,
 "nbformat_minor": 2
}
