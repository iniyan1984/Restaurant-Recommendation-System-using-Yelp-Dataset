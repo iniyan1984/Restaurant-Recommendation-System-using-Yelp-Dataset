{
 "cells": [
  {
   "cell_type": "markdown",
   "metadata": {},
   "source": [
    "## Deep diving into the number of reviews given by the users\n",
    "import seaborn as sns \n",
    "import pandas as pd\n",
    "import matplotlib.pyplot as plt\n",
    "import json,os\n",
    "import numpy as np\n",
    "import plotly.express as px\n",
    "import plotly.graph_objects as go\n",
    "os.chdir(\"D:\\CSP 571\\yelp data\")"
   ]
  },
  {
   "cell_type": "code",
   "execution_count": 5,
   "metadata": {},
   "outputs": [],
   "source": [
    "import os\n",
    "import json\n",
    "import pandas as pd"
   ]
  },
  {
   "cell_type": "code",
   "execution_count": 6,
   "metadata": {},
   "outputs": [
    {
     "name": "stdout",
     "output_type": "stream",
     "text": [
      "Read 1637138 users\n"
     ]
    }
   ],
   "source": [
    "users = []\n",
    "with open(os.path.join(os.getcwd(), 'user.json'),encoding=\"utf8\") as f:\n",
    "    for line in f:\n",
    "        users.append(json.loads(line))\n",
    "print(\"Read {count} users\".format(count=len(users)))"
   ]
  },
  {
   "cell_type": "code",
   "execution_count": 24,
   "metadata": {
    "scrolled": true
   },
   "outputs": [
    {
     "name": "stdout",
     "output_type": "stream",
     "text": [
      "Read 6685900 reviews\n"
     ]
    }
   ],
   "source": [
    "reviews = []\n",
    "with open(os.path.join(os.getcwd(), 'review.json'),encoding=\"utf8\") as f:\n",
    "    for line in f:\n",
    "        reviews.append(json.loads(line))\n",
    "print(\"Read {count} reviews\".format(count=len(reviews)))"
   ]
  },
  {
   "cell_type": "markdown",
   "metadata": {},
   "source": [
    "\n",
    "## Distribution of Reviews per user\n",
    "## The 1.6 million users in the data set contributed over 6.6 million reviews"
   ]
  },
  {
   "cell_type": "code",
   "execution_count": 8,
   "metadata": {},
   "outputs": [],
   "source": [
    "user_review_count = {}\n",
    "for review in reviews:\n",
    "    user_id = review[\"user_id\"]\n",
    "    if user_id in user_review_count:\n",
    "        user_review_count[user_id] += 1\n",
    "    else:\n",
    "        user_review_count[user_id] = 1"
   ]
  },
  {
   "cell_type": "code",
   "execution_count": 9,
   "metadata": {},
   "outputs": [
    {
     "data": {
      "text/plain": [
       "36488037"
      ]
     },
     "execution_count": 9,
     "metadata": {},
     "output_type": "execute_result"
    }
   ],
   "source": [
    "sum([user['review_count'] for user in users])"
   ]
  },
  {
   "cell_type": "code",
   "execution_count": 6,
   "metadata": {},
   "outputs": [
    {
     "data": {
      "text/plain": [
       "6685900"
      ]
     },
     "execution_count": 6,
     "metadata": {},
     "output_type": "execute_result"
    }
   ],
   "source": [
    "sum(user_review_count.values())"
   ]
  },
  {
   "cell_type": "raw",
   "metadata": {},
   "source": [
    "# Note: There appears to be a discrepency in the counts of reviews, if my understanding of the data is correct. While we are not given all the reviews for the users included in the data set, we should not have more reviews in hand than the review_count field for a given user, but we do see this for over 22 thousand users."
   ]
  },
  {
   "cell_type": "code",
   "execution_count": 11,
   "metadata": {},
   "outputs": [
    {
     "data": {
      "text/plain": [
       "22836"
      ]
     },
     "execution_count": 11,
     "metadata": {},
     "output_type": "execute_result"
    }
   ],
   "source": [
    "ids_with_uneven_reviews = [user['user_id'] for user in users if user_review_count[user['user_id']] > user['review_count']]\n",
    "len(ids_with_uneven_reviews)"
   ]
  },
  {
   "cell_type": "code",
   "execution_count": 26,
   "metadata": {},
   "outputs": [
    {
     "data": {
      "text/plain": [
       "pandas.core.frame.DataFrame"
      ]
     },
     "execution_count": 26,
     "metadata": {},
     "output_type": "execute_result"
    }
   ],
   "source": [
    "reviews = pd.DataFrame(reviews)\n",
    "type(reviews)"
   ]
  },
  {
   "cell_type": "code",
   "execution_count": 27,
   "metadata": {},
   "outputs": [],
   "source": [
    "## removing reviews which are uneven for given reviews and users\n",
    "reviews = reviews[~reviews['user_id'].isin(ids_with_uneven_reviews)]"
   ]
  },
  {
   "cell_type": "code",
   "execution_count": 28,
   "metadata": {},
   "outputs": [
    {
     "data": {
      "text/plain": [
       "6407928"
      ]
     },
     "execution_count": 28,
     "metadata": {},
     "output_type": "execute_result"
    }
   ],
   "source": [
    "reviews.shape[0]"
   ]
  },
  {
   "cell_type": "code",
   "execution_count": 29,
   "metadata": {},
   "outputs": [
    {
     "data": {
      "text/plain": [
       "0      mofOjB6flg-eAWOFbOkHfQ\n",
       "1      m4DwPVxmFDQE_FnGIOa3cQ\n",
       "2      HbK6IfznbVToEaKVC0WcSg\n",
       "3      o9nGD3J0btXjE9M6IdgZTA\n",
       "4      sDfN5qJlmvrwTfwEPBsxSg\n",
       "                ...          \n",
       "452    nD4cF5IH8RE7LFGdR2FMUA\n",
       "453    zTGxLMOd9crAz0XNzqrcrA\n",
       "454    0QgFIP9W0eGZSxCSQRQSCg\n",
       "455    gZtJyb2oEpwo1rnovDVPfA\n",
       "456    F1qPjasn0R6-j8sa6iYNmA\n",
       "Name: business_id, Length: 457, dtype: object"
      ]
     },
     "execution_count": 29,
     "metadata": {},
     "output_type": "execute_result"
    }
   ],
   "source": [
    "business_data = pd.read_csv(\"Business_in_Illinois.csv\")\n",
    "business_id = business_data.business_id\n",
    "business_id"
   ]
  },
  {
   "cell_type": "code",
   "execution_count": 31,
   "metadata": {},
   "outputs": [
    {
     "name": "stdout",
     "output_type": "stream",
     "text": [
      "(23320, 9)\n"
     ]
    }
   ],
   "source": [
    "## Filters reviews based on business ids in illinois\n",
    "reviews = reviews[reviews['business_id'].isin(business_id)]\n",
    "print(reviews.shape)\n",
    "\n",
    "reviews.to_csv(r'reviews.csv', index = False)"
   ]
  },
  {
   "cell_type": "code",
   "execution_count": null,
   "metadata": {},
   "outputs": [],
   "source": []
  }
 ],
 "metadata": {
  "kernelspec": {
   "display_name": "Python 3",
   "language": "python",
   "name": "python3"
  },
  "language_info": {
   "codemirror_mode": {
    "name": "ipython",
    "version": 3
   },
   "file_extension": ".py",
   "mimetype": "text/x-python",
   "name": "python",
   "nbconvert_exporter": "python",
   "pygments_lexer": "ipython3",
   "version": "3.7.6"
  }
 },
 "nbformat": 4,
 "nbformat_minor": 2
}
